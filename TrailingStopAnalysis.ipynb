{
 "cells": [
  {
   "cell_type": "code",
   "execution_count": 2,
   "metadata": {},
   "outputs": [],
   "source": [
    "import pandas as pd\n",
    "import plotly.graph_objects as go\n",
    "from signals import *"
   ]
  },
  {
   "cell_type": "code",
   "execution_count": null,
   "metadata": {
    "scrolled": true
   },
   "outputs": [],
   "source": [
    "# Can we reasample dataframes?\n",
    "print(load_ticker(\"AUDCAD\").head(2))\n",
    "print(load_ticker(\"AUDCAD\", 60).head(2))\n",
    "# Yes!"
   ]
  },
  {
   "cell_type": "code",
   "execution_count": null,
   "metadata": {
    "scrolled": false
   },
   "outputs": [],
   "source": [
    "# Can we calculate the supertrend?\n",
    "from supertrend.Indicators.Super_Trend import ST\n",
    "print(\"Loading data\")\n",
    "df = load_ticker(\"AUDCAD\", 60)\n",
    "\n",
    "print(\"Calculating SuperTrend\")\n",
    "df_60_ST = ST(df, 3, 10)[[\"Open\",\"High\",\"Low\",\"Close\",\"ATR\",\"SuperTrend\",\"SuperTrendType\"]]\n",
    "display(df_60_ST)\n",
    "# Yes!"
   ]
  },
  {
   "cell_type": "code",
   "execution_count": 6,
   "metadata": {},
   "outputs": [],
   "source": [
    "# How does indexing work in a resampled df\n",
    "# Signal comes in at 03:30, so the 03:00 candle has not finished yet, we should use the \n",
    "# indicator from the previous candle, 02:00\n",
    "#display(pd.concat([df_60.loc[:\"2019-10-29 03:30\"][-2:],df_60.loc[\"2019-10-29 03:30\":]])) # -> Starts at 04:00, is this what I want\n",
    "\n",
    "def trailing_df(df, datetime_str):\n",
    "    \"\"\"\n",
    "    Given a signal within a candle, this function returns a df starting with the most recent \n",
    "    complete candle.\n",
    "    \n",
    "    e.g.\n",
    "    1 hr sampling. 03:30 signal time (3-4 candle not yet complete), returns starting with the 02:00 candle\n",
    "    \"\"\"  \n",
    "    return pd.concat([df.loc[:datetime_str][-2:],df.loc[datetime_str:]])\n",
    "    "
   ]
  },
  {
   "cell_type": "code",
   "execution_count": 7,
   "metadata": {},
   "outputs": [],
   "source": [
    "def supertrend_trailing(df_full, signal):\n",
    "    \"\"\"\n",
    "    Process signal using trailing supertrend stop loss.\n",
    "    TODO: accound for spread and fees\n",
    "    \"\"\"\n",
    "    #display(df_full)\n",
    "    df = trailing_df(df_full, signal.datetime_str)\n",
    "    #display(df)\n",
    "\n",
    "    real_entry = signal.entry_price # Assume trade entered immediatley\n",
    "    stop_loss = signal.stop_loss\n",
    "    \n",
    "    ohlc_values = df.iterrows()\n",
    "    _, previous_ohlc = next(ohlc_values)\n",
    "    \n",
    "    previous_type = previous_ohlc.SuperTrendType\n",
    "    previous_supertrend = previous_ohlc.SuperTrend\n",
    "    \n",
    "\n",
    "    for dt, ohlc in ohlc_values:\n",
    "        if signal.type == \"BUY\":\n",
    "            if previous_type == 1:\n",
    "                if stop_loss < previous_supertrend:\n",
    "                    stop_loss = previous_supertrend\n",
    "            \n",
    "            if ohlc.High >= signal.take_profit:\n",
    "                return signal.take_profit - real_entry\n",
    "            if ohlc.Low <= stop_loss:\n",
    "                return stop_loss - real_entry\n",
    "            \n",
    "        if signal.type == \"SELL\":\n",
    "            if previous_type == -1:\n",
    "                if stop_loss > previous_supertrend:\n",
    "                    stop_loss = previous_supertrend   \n",
    "                    \n",
    "            if ohlc.Low <= signal.take_profit:\n",
    "                return real_entry - signal.take_profit\n",
    "            if ohlc.High >= stop_loss:\n",
    "                return real_entry - stop_loss\n",
    "            \n",
    "        previous_type = ohlc.SuperTrendType\n",
    "        previous_supertrend = ohlc.SuperTrend\n",
    "        \n",
    "    return 0.0\n",
    "        "
   ]
  },
  {
   "cell_type": "code",
   "execution_count": 130,
   "metadata": {
    "scrolled": false
   },
   "outputs": [
    {
     "name": "stdout",
     "output_type": "stream",
     "text": [
      "NZDCAD: 2019-12-04 12:44: Entry: 0.8656, SL: 0.868, TP: 0.8636 20.000000000000018\n"
     ]
    }
   ],
   "source": [
    "beta_tp1 = Signal(ticker=\"NZDCAD\", datetime_str=\"2019-12-04 12:44\",\n",
    "                  entry_price=0.8656, stop_loss=0.868, take_profit=0.8636)\n",
    "df = get_supertrend(beta_tp1.ticker, 6, 40, 60)\n",
    "\n",
    "print(beta_tp1, supertrend_trailing(df, beta_tp1) * pip_factor(beta_tp1.ticker))"
   ]
  },
  {
   "cell_type": "code",
   "execution_count": 27,
   "metadata": {},
   "outputs": [
    {
     "name": "stdout",
     "output_type": "stream",
     "text": [
      "AUDCAD: 2020-01-14 13:19: Entry: 0.902, SL: 0.9062, TP: 0.895 0.0\n",
      "AUDNZD: 2020-01-14 13:16: Entry: 1.043, SL: 1.0472, TP: 1.036 0.0\n",
      "CADJPY: 2020-01-14 13:13: Entry: 84.2, SL: 84.62, TP: 83.5 0.0\n",
      "AUDUSD: 2020-01-14 13:08: Entry: 0.69, SL: 0.6941999999999999, TP: 0.6829999999999999 0.0\n",
      "NZDJPY: 2020-01-14 13:06: Entry: 72.8, SL: 73.22, TP: 72.1 -42.00000000000017\n",
      "XAUUSD: 2020-01-14 10:56: Entry: 1544.94, SL: 1540.74, TP: 1551.94 70.0\n",
      "GBPUSD: 2020-01-13 14:06: Entry: 1.29843, SL: 1.29423, TP: 1.3054299999999999 69.99999999999895\n",
      "XAUUSD: 2020-01-10 01:31: Entry: 1551.91, SL: 1556.1100000000001, TP: 1544.91 -42.000000000000455\n",
      "GBPJPY: 2020-01-09 02:08: Entry: 143.174, SL: 143.594, TP: 142.47400000000002 69.99999999999886\n",
      "USDCAD: 2020-01-06 13:03: Entry: 1.2969, SL: 1.2927, TP: 1.3038999999999998 69.99999999999895\n",
      "NZDCAD: 2019-12-04 12:44: Entry: 0.8656, SL: 0.8698, TP: 0.8586 70.00000000000006\n",
      "AUDJPY: 2019-12-04 12:43: Entry: 74.27, SL: 74.69, TP: 73.57 -26.74835961373816\n",
      "CADJPY: 2019-12-04 12:41: Entry: 81.86, SL: 82.28, TP: 81.16 -21.85797918027248\n",
      "NZDUSD: 2019-12-04 12:40: Entry: 0.6518, SL: 0.656, TP: 0.6448 -41.999999999999815\n",
      "AUDCAD: 2019-12-03 11:03: Entry: 0.9104, SL: 0.9146, TP: 0.9034 70.00000000000006\n",
      "USDCAD: 2019-12-03 11:01: Entry: 1.33, SL: 1.3342, TP: 1.3230000000000002 69.99999999999895\n",
      "NZDCHF: 2019-12-03 10:58: Entry: 0.6457, SL: 0.6499, TP: 0.6387 -1.5043958544680436\n",
      "NZDJPY: 2019-12-03 10:09: Entry: 71.23, SL: 71.65, TP: 70.53 70.00000000000028\n",
      "AUDJPY: 2019-12-03 10:09: Entry: 74.75, SL: 75.17, TP: 74.05 70.00000000000028\n",
      "EURUSD: 2019-12-03 09:54: Entry: 1.10821, SL: 1.11241, TP: 1.10121 -13.119196868891514\n",
      "USDJPY: 2019-11-19 11:09: Entry: 108.78, SL: 109.2, TP: 108.08 -17.81309221451437\n",
      "CHFJPY: 2019-11-19 11:07: Entry: 109.75, SL: 110.17, TP: 109.05 70.00000000000028\n",
      "EURCAD: 2019-11-18 22:15: Entry: 1.4624, SL: 1.4582, TP: 1.4693999999999998 69.99999999999895\n",
      "CADJPY: 2019-11-18 22:12: Entry: 82.26, SL: 82.68, TP: 81.56 70.00000000000028\n",
      "USDCHF: 2019-11-18 22:11: Entry: 0.9893, SL: 0.9934999999999999, TP: 0.9823 -26.519300946292734\n",
      "GBPUSD: 2019-11-18 11:25: Entry: 1.2965, SL: 1.3007, TP: 1.2895 69.99999999999895\n",
      "AUDJPY: 2019-11-18 09:19: Entry: 74.25, SL: 74.67, TP: 73.55 70.00000000000028\n",
      "USDJPY: 2019-11-18 08:46: Entry: 108.97, SL: 109.39, TP: 108.27 70.00000000000028\n",
      "USDCAD: 2019-11-18 08:43: Entry: 1.3217, SL: 1.3259, TP: 1.3147000000000002 -31.50186663850807\n",
      "EURJPY: 2019-11-18 08:42: Entry: 120.55, SL: 120.97, TP: 119.85 70.00000000000028\n",
      "NZDJPY: 2019-11-12 13:02: Entry: 69.18, SL: 69.60000000000001, TP: 68.48 -42.00000000000017\n",
      "AUDJPY: 2019-11-12 01:07: Entry: 74.79, SL: 75.21000000000001, TP: 74.09 70.00000000000028\n",
      "AUDCHF: 2019-11-12 01:06: Entry: 0.6807, SL: 0.6849, TP: 0.6737 70.00000000000006\n",
      "EURCHF: 2019-11-11 16:05: Entry: 1.0972, SL: 1.1014, TP: 1.0902 69.99999999999895\n",
      "EURJPY: 2019-11-11 16:03: Entry: 120.39, SL: 120.81, TP: 119.69 70.00000000000028\n",
      "XAUUSD: 2019-11-07 16:03: Entry: 1475.11, SL: 1470.9099999999999, TP: 1482.11 -42.000000000000455\n",
      "EURCHF: 2019-11-07 11:22: Entry: 1.0993, SL: 1.1035, TP: 1.0923 69.99999999999895\n",
      "NZDCHF: 2019-11-07 11:20: Entry: 0.6324, SL: 0.6365999999999999, TP: 0.6254 -7.039099047735364\n",
      "AUDUSD: 2019-11-07 11:20: Entry: 0.6908, SL: 0.695, TP: 0.6838 70.00000000000006\n",
      "USDCAD: 2019-11-07 11:13: Entry: 1.3161, SL: 1.3119, TP: 1.3231 69.99999999999895\n",
      "AUDUSD: 2019-11-06 11:13: Entry: 0.6903, SL: 0.6945, TP: 0.6833 70.00000000000006\n",
      "NZDCHF: 2019-11-06 10:12: Entry: 0.6338, SL: 0.638, TP: 0.6268 6.960900952265314\n",
      "USDCAD: 2019-11-05 19:52: Entry: 1.3156, SL: 1.3114000000000001, TP: 1.3226 69.99999999999895\n",
      "EURJPY: 2019-11-05 19:50: Entry: 120.86, SL: 121.28, TP: 120.16 70.00000000000028\n",
      "AUDNZD: 2019-11-05 14:51: Entry: 1.0782, SL: 1.0824, TP: 1.0712000000000002 -41.999999999999815\n",
      "EURCHF: 2019-11-05 11:28: Entry: 1.102, SL: 1.1062, TP: 1.0950000000000002 69.99999999999895\n",
      "GBPJPY: 2019-11-05 08:01: Entry: 140.3, SL: 139.88000000000002, TP: 141.0 -41.99999999999875\n",
      "USDCAD: 2019-11-04 16:40: Entry: 1.3149, SL: 1.3191, TP: 1.3079 -23.224934364296512\n",
      "AUDJPY: 2019-11-04 13:39: Entry: 74.87, SL: 75.29, TP: 74.17 -10.10994733311179\n",
      "NZDUSD: 2019-11-04 13:37: Entry: 0.6427, SL: 0.6385000000000001, TP: 0.6497 -26.955559751606906\n",
      "AUDCAD: 2019-11-04 13:37: Entry: 0.9085, SL: 0.9127, TP: 0.9015 70.00000000000006\n",
      "AUDCHF: 2019-11-04 13:36: Entry: 0.682, SL: 0.6862, TP: 0.675 -16.25820941333678\n",
      "1450.3089597254834 29 23\n"
     ]
    }
   ],
   "source": [
    "signals = load_beta_trades(\"./beta/BETA.csv\")\n",
    "total_profit = 0.0\n",
    "wins = 0\n",
    "losses = 0\n",
    "for signal in signals[\"TP1\"]:\n",
    "    signal.set_stop_loss_pips(42)\n",
    "    signal.set_take_profit_pips(70)\n",
    "\n",
    "    df = get_supertrend(signal.ticker, multiplier=6, length=40, sample_mins=60)\n",
    "    profit = supertrend_trailing(df, signal) * pip_factor(signal.ticker)\n",
    "    if profit > 0:\n",
    "        wins += 1\n",
    "    else:\n",
    "        losses += 1\n",
    "    total_profit += profit\n",
    "    print(signal, profit)\n",
    "print(total_profit, wins, losses)"
   ]
  },
  {
   "cell_type": "markdown",
   "metadata": {},
   "source": [
    "With SL, TP and Trailing loss\n",
    "60mins\n",
    "SL = 50 pips\n",
    "TP = 70 pips\n",
    "Length = 40\n",
    "Multiplier = 6\n",
    "profit = 1514 pips (30 wins, 22 losses)\n",
    "\n",
    "30mins\n",
    "SL = 50 pips\n",
    "TP = 70 pips\n",
    "Length = 40\n",
    "Multiplier = 8\n",
    "profit = 1430 pips (29 wins, 23 losses)\n",
    "\n",
    "15mins\n",
    "SL = 50 pips\n",
    "TP = 70 pips\n",
    "Length = 40\n",
    "Multiplier = 13\n",
    "profit = 1227 pips (27 wins, 25 losses)"
   ]
  },
  {
   "cell_type": "code",
   "execution_count": null,
   "metadata": {},
   "outputs": [],
   "source": [
    "# Multiplier Analysis\n",
    "\n",
    "for multiplier in [5, 8, 1]:\n",
    "    signals = load_beta_trades(\"./beta/BETA.csv\")\n",
    "    total_profit = 0.0\n",
    "    wins = 0\n",
    "    losses = 0\n",
    "    for signal in signals[\"TP1\"]:\n",
    "        signal.set_stop_loss_pips(50)\n",
    "        signal.set_take_profit_pips(70)\n",
    "\n",
    "        df = get_supertrend(signal.ticker, multiplier=multiplier, length=40, sample_mins=60)\n",
    "        profit = supertrend_trailing(df, signal) * pip_factor(signal.ticker)\n",
    "        if profit > 0:\n",
    "            wins += 1\n",
    "        else:\n",
    "            losses += 1\n",
    "        total_profit += profit\n",
    "        # print(signal, profit)\n",
    "    print(multiplier, total_profit, wins, losses)"
   ]
  },
  {
   "cell_type": "code",
   "execution_count": 23,
   "metadata": {},
   "outputs": [
    {
     "name": "stdout",
     "output_type": "stream",
     "text": [
      "36 1448.8812779423856 29 23\n",
      "38 1449.5623632740019 29 23\n",
      "40 1450.3089597254834 29 23\n",
      "42 1450.9782849930084 29 23\n",
      "44 1451.7362583177596 29 23\n",
      "46 1455.9794108877118 29 23\n",
      "48 1365.9598131141654 28 24\n"
     ]
    }
   ],
   "source": [
    "# Length Analysis\n",
    "\n",
    "for length in range(36, 49, 2):\n",
    "    signals = load_beta_trades(\"./beta/BETA.csv\")\n",
    "    total_profit = 0.0\n",
    "    wins = 0\n",
    "    losses = 0\n",
    "    for signal in signals[\"TP1\"]:\n",
    "        signal.set_stop_loss_pips(42)\n",
    "        signal.set_take_profit_pips(70)\n",
    "        df = get_supertrend(signal.ticker, multiplier=6, length=length, sample_mins=60)\n",
    "        profit = supertrend_trailing(df, signal) * pip_factor(signal.ticker)\n",
    "        if profit > 0:\n",
    "            wins += 1\n",
    "        else:\n",
    "            losses += 1\n",
    "        total_profit += profit\n",
    "        #print(signal, profit)\n",
    "    print(length, total_profit, wins, losses)"
   ]
  },
  {
   "cell_type": "code",
   "execution_count": 20,
   "metadata": {
    "scrolled": false
   },
   "outputs": [
    {
     "name": "stdout",
     "output_type": "stream",
     "text": [
      "10 528.4956041455492 13 39\n",
      "11 590.3465577646738 15 37\n",
      "12 719.34655776467 17 35\n",
      "13 686.346557764684 17 35\n",
      "14 821.3465577646798 19 33\n",
      "15 975.3465577646757 21 31\n",
      "16 947.3465577646796 21 31\n",
      "17 920.088348351339 21 31\n",
      "18 981.2752561368216 22 30\n",
      "19 956.2752561368263 22 30\n",
      "20 1111.275256136828 24 28\n",
      "21 1088.275256136833 24 28\n",
      "22 1157.4172769565573 25 27\n",
      "23 1136.4172769565596 25 27\n",
      "24 1210.1923425922605 26 26\n",
      "25 1304.153243544527 27 25\n",
      "26 1313.1532435445247 27 25\n",
      "27 1297.9300232328856 27 25\n",
      "28 1284.9300232328883 27 25\n",
      "29 1271.9300232328842 27 25\n",
      "30 1258.9300232328883 27 25\n",
      "31 1245.9300232328824 27 25\n",
      "32 1354.3089597254843 28 24\n",
      "33 1377.3089597254834 28 24\n",
      "34 1402.3089597254793 28 24\n",
      "35 1394.3089597254848 28 24\n",
      "36 1386.3089597254839 28 24\n",
      "37 1378.3089597254798 28 24\n",
      "38 1370.3089597254857 28 24\n",
      "39 1362.3089597254816 28 24\n",
      "40 1354.308959725482 28 24\n",
      "41 1457.3089597254861 29 23\n",
      "42 1450.3089597254834 29 23\n",
      "43 1443.308959725483 29 23\n",
      "44 1436.308959725483 29 23\n",
      "45 1429.3089597254848 29 23\n",
      "46 1422.3089597254857 29 23\n",
      "47 1415.308959725483 29 23\n",
      "48 1408.3089597254852 29 23\n",
      "49 1401.3089597254825 29 23\n",
      "50 1394.3089597254843 29 23\n",
      "51 1387.3089597254839 29 23\n",
      "52 1380.3089597254816 29 23\n",
      "53 1426.3089597254834 29 23\n",
      "54 1420.8549793145785 29 23\n",
      "55 1415.8549793145817 29 23\n",
      "56 1413.74039677044 29 23\n",
      "57 1409.7403967704386 29 23\n",
      "58 1405.74039677044 29 23\n",
      "59 1401.7403967704367 29 23\n",
      "60 1397.74039677044 29 23\n",
      "61 1393.7403967704408 29 23\n",
      "62 1389.740396770438 29 23\n",
      "63 1385.7403967704408 29 23\n",
      "64 1381.7403967704377 29 23\n",
      "65 1377.740396770439 29 23\n",
      "66 1373.7403967704422 29 23\n",
      "67 1369.7403967704386 29 23\n",
      "68 1365.7403967704404 29 23\n",
      "69 1361.7403967704386 29 23\n",
      "70 1381.6877670898975 29 23\n",
      "71 1378.687767089897 29 23\n",
      "72 1375.6877670898948 29 23\n",
      "73 1372.6877670898966 29 23\n",
      "74 1369.687767089894 29 23\n",
      "75 1366.6877670898957 29 23\n",
      "76 1363.687767089898 29 23\n",
      "77 1360.6877670898953 29 23\n",
      "78 1357.687767089897 29 23\n",
      "79 1354.6877670898944 29 23\n",
      "80 1351.6877670898966 29 23\n",
      "81 1401.291186036622 29 23\n",
      "82 1399.2911860366194 29 23\n",
      "83 1397.2911860366212 29 23\n",
      "84 1395.2911860366185 29 23\n",
      "85 1393.2911860366203 29 23\n",
      "86 1391.291186036622 29 23\n",
      "87 1389.2911860366194 29 23\n",
      "88 1387.2911860366212 29 23\n",
      "89 1385.2911860366185 29 23\n",
      "90 1383.2911860366203 29 23\n",
      "91 1381.291186036622 29 23\n",
      "92 1379.2911860366194 29 23\n",
      "93 1377.2911860366212 29 23\n",
      "94 1375.2911860366185 29 23\n",
      "95 1373.2911860366203 29 23\n",
      "96 1371.291186036622 29 23\n",
      "97 1369.2911860366194 29 23\n",
      "98 1367.2911860366212 29 23\n",
      "99 1365.2911860366185 29 23\n"
     ]
    },
    {
     "data": {
      "application/vnd.plotly.v1+json": {
       "config": {
        "plotlyServerURL": "https://plot.ly"
       },
       "data": [
        {
         "type": "scatter",
         "x": [
          10,
          11,
          12,
          13,
          14,
          15,
          16,
          17,
          18,
          19,
          20,
          21,
          22,
          23,
          24,
          25,
          26,
          27,
          28,
          29,
          30,
          31,
          32,
          33,
          34,
          35,
          36,
          37,
          38,
          39,
          40,
          41,
          42,
          43,
          44,
          45,
          46,
          47,
          48,
          49,
          50,
          51,
          52,
          53,
          54,
          55,
          56,
          57,
          58,
          59,
          60,
          61,
          62,
          63,
          64,
          65,
          66,
          67,
          68,
          69,
          70,
          71,
          72,
          73,
          74,
          75,
          76,
          77,
          78,
          79,
          80,
          81,
          82,
          83,
          84,
          85,
          86,
          87,
          88,
          89,
          90,
          91,
          92,
          93,
          94,
          95,
          96,
          97,
          98,
          99
         ],
         "y": [
          528.4956041455492,
          590.3465577646738,
          719.34655776467,
          686.346557764684,
          821.3465577646798,
          975.3465577646757,
          947.3465577646796,
          920.088348351339,
          981.2752561368216,
          956.2752561368263,
          1111.275256136828,
          1088.275256136833,
          1157.4172769565573,
          1136.4172769565596,
          1210.1923425922605,
          1304.153243544527,
          1313.1532435445247,
          1297.9300232328856,
          1284.9300232328883,
          1271.9300232328842,
          1258.9300232328883,
          1245.9300232328824,
          1354.3089597254843,
          1377.3089597254834,
          1402.3089597254793,
          1394.3089597254848,
          1386.3089597254839,
          1378.3089597254798,
          1370.3089597254857,
          1362.3089597254816,
          1354.308959725482,
          1457.3089597254861,
          1450.3089597254834,
          1443.308959725483,
          1436.308959725483,
          1429.3089597254848,
          1422.3089597254857,
          1415.308959725483,
          1408.3089597254852,
          1401.3089597254825,
          1394.3089597254843,
          1387.3089597254839,
          1380.3089597254816,
          1426.3089597254834,
          1420.8549793145785,
          1415.8549793145817,
          1413.74039677044,
          1409.7403967704386,
          1405.74039677044,
          1401.7403967704367,
          1397.74039677044,
          1393.7403967704408,
          1389.740396770438,
          1385.7403967704408,
          1381.7403967704377,
          1377.740396770439,
          1373.7403967704422,
          1369.7403967704386,
          1365.7403967704404,
          1361.7403967704386,
          1381.6877670898975,
          1378.687767089897,
          1375.6877670898948,
          1372.6877670898966,
          1369.687767089894,
          1366.6877670898957,
          1363.687767089898,
          1360.6877670898953,
          1357.687767089897,
          1354.6877670898944,
          1351.6877670898966,
          1401.291186036622,
          1399.2911860366194,
          1397.2911860366212,
          1395.2911860366185,
          1393.2911860366203,
          1391.291186036622,
          1389.2911860366194,
          1387.2911860366212,
          1385.2911860366185,
          1383.2911860366203,
          1381.291186036622,
          1379.2911860366194,
          1377.2911860366212,
          1375.2911860366185,
          1373.2911860366203,
          1371.291186036622,
          1369.2911860366194,
          1367.2911860366212,
          1365.2911860366185
         ]
        }
       ],
       "layout": {
        "template": {
         "data": {
          "bar": [
           {
            "error_x": {
             "color": "#2a3f5f"
            },
            "error_y": {
             "color": "#2a3f5f"
            },
            "marker": {
             "line": {
              "color": "#E5ECF6",
              "width": 0.5
             }
            },
            "type": "bar"
           }
          ],
          "barpolar": [
           {
            "marker": {
             "line": {
              "color": "#E5ECF6",
              "width": 0.5
             }
            },
            "type": "barpolar"
           }
          ],
          "carpet": [
           {
            "aaxis": {
             "endlinecolor": "#2a3f5f",
             "gridcolor": "white",
             "linecolor": "white",
             "minorgridcolor": "white",
             "startlinecolor": "#2a3f5f"
            },
            "baxis": {
             "endlinecolor": "#2a3f5f",
             "gridcolor": "white",
             "linecolor": "white",
             "minorgridcolor": "white",
             "startlinecolor": "#2a3f5f"
            },
            "type": "carpet"
           }
          ],
          "choropleth": [
           {
            "colorbar": {
             "outlinewidth": 0,
             "ticks": ""
            },
            "type": "choropleth"
           }
          ],
          "contour": [
           {
            "colorbar": {
             "outlinewidth": 0,
             "ticks": ""
            },
            "colorscale": [
             [
              0,
              "#0d0887"
             ],
             [
              0.1111111111111111,
              "#46039f"
             ],
             [
              0.2222222222222222,
              "#7201a8"
             ],
             [
              0.3333333333333333,
              "#9c179e"
             ],
             [
              0.4444444444444444,
              "#bd3786"
             ],
             [
              0.5555555555555556,
              "#d8576b"
             ],
             [
              0.6666666666666666,
              "#ed7953"
             ],
             [
              0.7777777777777778,
              "#fb9f3a"
             ],
             [
              0.8888888888888888,
              "#fdca26"
             ],
             [
              1,
              "#f0f921"
             ]
            ],
            "type": "contour"
           }
          ],
          "contourcarpet": [
           {
            "colorbar": {
             "outlinewidth": 0,
             "ticks": ""
            },
            "type": "contourcarpet"
           }
          ],
          "heatmap": [
           {
            "colorbar": {
             "outlinewidth": 0,
             "ticks": ""
            },
            "colorscale": [
             [
              0,
              "#0d0887"
             ],
             [
              0.1111111111111111,
              "#46039f"
             ],
             [
              0.2222222222222222,
              "#7201a8"
             ],
             [
              0.3333333333333333,
              "#9c179e"
             ],
             [
              0.4444444444444444,
              "#bd3786"
             ],
             [
              0.5555555555555556,
              "#d8576b"
             ],
             [
              0.6666666666666666,
              "#ed7953"
             ],
             [
              0.7777777777777778,
              "#fb9f3a"
             ],
             [
              0.8888888888888888,
              "#fdca26"
             ],
             [
              1,
              "#f0f921"
             ]
            ],
            "type": "heatmap"
           }
          ],
          "heatmapgl": [
           {
            "colorbar": {
             "outlinewidth": 0,
             "ticks": ""
            },
            "colorscale": [
             [
              0,
              "#0d0887"
             ],
             [
              0.1111111111111111,
              "#46039f"
             ],
             [
              0.2222222222222222,
              "#7201a8"
             ],
             [
              0.3333333333333333,
              "#9c179e"
             ],
             [
              0.4444444444444444,
              "#bd3786"
             ],
             [
              0.5555555555555556,
              "#d8576b"
             ],
             [
              0.6666666666666666,
              "#ed7953"
             ],
             [
              0.7777777777777778,
              "#fb9f3a"
             ],
             [
              0.8888888888888888,
              "#fdca26"
             ],
             [
              1,
              "#f0f921"
             ]
            ],
            "type": "heatmapgl"
           }
          ],
          "histogram": [
           {
            "marker": {
             "colorbar": {
              "outlinewidth": 0,
              "ticks": ""
             }
            },
            "type": "histogram"
           }
          ],
          "histogram2d": [
           {
            "colorbar": {
             "outlinewidth": 0,
             "ticks": ""
            },
            "colorscale": [
             [
              0,
              "#0d0887"
             ],
             [
              0.1111111111111111,
              "#46039f"
             ],
             [
              0.2222222222222222,
              "#7201a8"
             ],
             [
              0.3333333333333333,
              "#9c179e"
             ],
             [
              0.4444444444444444,
              "#bd3786"
             ],
             [
              0.5555555555555556,
              "#d8576b"
             ],
             [
              0.6666666666666666,
              "#ed7953"
             ],
             [
              0.7777777777777778,
              "#fb9f3a"
             ],
             [
              0.8888888888888888,
              "#fdca26"
             ],
             [
              1,
              "#f0f921"
             ]
            ],
            "type": "histogram2d"
           }
          ],
          "histogram2dcontour": [
           {
            "colorbar": {
             "outlinewidth": 0,
             "ticks": ""
            },
            "colorscale": [
             [
              0,
              "#0d0887"
             ],
             [
              0.1111111111111111,
              "#46039f"
             ],
             [
              0.2222222222222222,
              "#7201a8"
             ],
             [
              0.3333333333333333,
              "#9c179e"
             ],
             [
              0.4444444444444444,
              "#bd3786"
             ],
             [
              0.5555555555555556,
              "#d8576b"
             ],
             [
              0.6666666666666666,
              "#ed7953"
             ],
             [
              0.7777777777777778,
              "#fb9f3a"
             ],
             [
              0.8888888888888888,
              "#fdca26"
             ],
             [
              1,
              "#f0f921"
             ]
            ],
            "type": "histogram2dcontour"
           }
          ],
          "mesh3d": [
           {
            "colorbar": {
             "outlinewidth": 0,
             "ticks": ""
            },
            "type": "mesh3d"
           }
          ],
          "parcoords": [
           {
            "line": {
             "colorbar": {
              "outlinewidth": 0,
              "ticks": ""
             }
            },
            "type": "parcoords"
           }
          ],
          "pie": [
           {
            "automargin": true,
            "type": "pie"
           }
          ],
          "scatter": [
           {
            "marker": {
             "colorbar": {
              "outlinewidth": 0,
              "ticks": ""
             }
            },
            "type": "scatter"
           }
          ],
          "scatter3d": [
           {
            "line": {
             "colorbar": {
              "outlinewidth": 0,
              "ticks": ""
             }
            },
            "marker": {
             "colorbar": {
              "outlinewidth": 0,
              "ticks": ""
             }
            },
            "type": "scatter3d"
           }
          ],
          "scattercarpet": [
           {
            "marker": {
             "colorbar": {
              "outlinewidth": 0,
              "ticks": ""
             }
            },
            "type": "scattercarpet"
           }
          ],
          "scattergeo": [
           {
            "marker": {
             "colorbar": {
              "outlinewidth": 0,
              "ticks": ""
             }
            },
            "type": "scattergeo"
           }
          ],
          "scattergl": [
           {
            "marker": {
             "colorbar": {
              "outlinewidth": 0,
              "ticks": ""
             }
            },
            "type": "scattergl"
           }
          ],
          "scattermapbox": [
           {
            "marker": {
             "colorbar": {
              "outlinewidth": 0,
              "ticks": ""
             }
            },
            "type": "scattermapbox"
           }
          ],
          "scatterpolar": [
           {
            "marker": {
             "colorbar": {
              "outlinewidth": 0,
              "ticks": ""
             }
            },
            "type": "scatterpolar"
           }
          ],
          "scatterpolargl": [
           {
            "marker": {
             "colorbar": {
              "outlinewidth": 0,
              "ticks": ""
             }
            },
            "type": "scatterpolargl"
           }
          ],
          "scatterternary": [
           {
            "marker": {
             "colorbar": {
              "outlinewidth": 0,
              "ticks": ""
             }
            },
            "type": "scatterternary"
           }
          ],
          "surface": [
           {
            "colorbar": {
             "outlinewidth": 0,
             "ticks": ""
            },
            "colorscale": [
             [
              0,
              "#0d0887"
             ],
             [
              0.1111111111111111,
              "#46039f"
             ],
             [
              0.2222222222222222,
              "#7201a8"
             ],
             [
              0.3333333333333333,
              "#9c179e"
             ],
             [
              0.4444444444444444,
              "#bd3786"
             ],
             [
              0.5555555555555556,
              "#d8576b"
             ],
             [
              0.6666666666666666,
              "#ed7953"
             ],
             [
              0.7777777777777778,
              "#fb9f3a"
             ],
             [
              0.8888888888888888,
              "#fdca26"
             ],
             [
              1,
              "#f0f921"
             ]
            ],
            "type": "surface"
           }
          ],
          "table": [
           {
            "cells": {
             "fill": {
              "color": "#EBF0F8"
             },
             "line": {
              "color": "white"
             }
            },
            "header": {
             "fill": {
              "color": "#C8D4E3"
             },
             "line": {
              "color": "white"
             }
            },
            "type": "table"
           }
          ]
         },
         "layout": {
          "annotationdefaults": {
           "arrowcolor": "#2a3f5f",
           "arrowhead": 0,
           "arrowwidth": 1
          },
          "coloraxis": {
           "colorbar": {
            "outlinewidth": 0,
            "ticks": ""
           }
          },
          "colorscale": {
           "diverging": [
            [
             0,
             "#8e0152"
            ],
            [
             0.1,
             "#c51b7d"
            ],
            [
             0.2,
             "#de77ae"
            ],
            [
             0.3,
             "#f1b6da"
            ],
            [
             0.4,
             "#fde0ef"
            ],
            [
             0.5,
             "#f7f7f7"
            ],
            [
             0.6,
             "#e6f5d0"
            ],
            [
             0.7,
             "#b8e186"
            ],
            [
             0.8,
             "#7fbc41"
            ],
            [
             0.9,
             "#4d9221"
            ],
            [
             1,
             "#276419"
            ]
           ],
           "sequential": [
            [
             0,
             "#0d0887"
            ],
            [
             0.1111111111111111,
             "#46039f"
            ],
            [
             0.2222222222222222,
             "#7201a8"
            ],
            [
             0.3333333333333333,
             "#9c179e"
            ],
            [
             0.4444444444444444,
             "#bd3786"
            ],
            [
             0.5555555555555556,
             "#d8576b"
            ],
            [
             0.6666666666666666,
             "#ed7953"
            ],
            [
             0.7777777777777778,
             "#fb9f3a"
            ],
            [
             0.8888888888888888,
             "#fdca26"
            ],
            [
             1,
             "#f0f921"
            ]
           ],
           "sequentialminus": [
            [
             0,
             "#0d0887"
            ],
            [
             0.1111111111111111,
             "#46039f"
            ],
            [
             0.2222222222222222,
             "#7201a8"
            ],
            [
             0.3333333333333333,
             "#9c179e"
            ],
            [
             0.4444444444444444,
             "#bd3786"
            ],
            [
             0.5555555555555556,
             "#d8576b"
            ],
            [
             0.6666666666666666,
             "#ed7953"
            ],
            [
             0.7777777777777778,
             "#fb9f3a"
            ],
            [
             0.8888888888888888,
             "#fdca26"
            ],
            [
             1,
             "#f0f921"
            ]
           ]
          },
          "colorway": [
           "#636efa",
           "#EF553B",
           "#00cc96",
           "#ab63fa",
           "#FFA15A",
           "#19d3f3",
           "#FF6692",
           "#B6E880",
           "#FF97FF",
           "#FECB52"
          ],
          "font": {
           "color": "#2a3f5f"
          },
          "geo": {
           "bgcolor": "white",
           "lakecolor": "white",
           "landcolor": "#E5ECF6",
           "showlakes": true,
           "showland": true,
           "subunitcolor": "white"
          },
          "hoverlabel": {
           "align": "left"
          },
          "hovermode": "closest",
          "mapbox": {
           "style": "light"
          },
          "paper_bgcolor": "white",
          "plot_bgcolor": "#E5ECF6",
          "polar": {
           "angularaxis": {
            "gridcolor": "white",
            "linecolor": "white",
            "ticks": ""
           },
           "bgcolor": "#E5ECF6",
           "radialaxis": {
            "gridcolor": "white",
            "linecolor": "white",
            "ticks": ""
           }
          },
          "scene": {
           "xaxis": {
            "backgroundcolor": "#E5ECF6",
            "gridcolor": "white",
            "gridwidth": 2,
            "linecolor": "white",
            "showbackground": true,
            "ticks": "",
            "zerolinecolor": "white"
           },
           "yaxis": {
            "backgroundcolor": "#E5ECF6",
            "gridcolor": "white",
            "gridwidth": 2,
            "linecolor": "white",
            "showbackground": true,
            "ticks": "",
            "zerolinecolor": "white"
           },
           "zaxis": {
            "backgroundcolor": "#E5ECF6",
            "gridcolor": "white",
            "gridwidth": 2,
            "linecolor": "white",
            "showbackground": true,
            "ticks": "",
            "zerolinecolor": "white"
           }
          },
          "shapedefaults": {
           "line": {
            "color": "#2a3f5f"
           }
          },
          "ternary": {
           "aaxis": {
            "gridcolor": "white",
            "linecolor": "white",
            "ticks": ""
           },
           "baxis": {
            "gridcolor": "white",
            "linecolor": "white",
            "ticks": ""
           },
           "bgcolor": "#E5ECF6",
           "caxis": {
            "gridcolor": "white",
            "linecolor": "white",
            "ticks": ""
           }
          },
          "title": {
           "x": 0.05
          },
          "xaxis": {
           "automargin": true,
           "gridcolor": "white",
           "linecolor": "white",
           "ticks": "",
           "title": {
            "standoff": 15
           },
           "zerolinecolor": "white",
           "zerolinewidth": 2
          },
          "yaxis": {
           "automargin": true,
           "gridcolor": "white",
           "linecolor": "white",
           "ticks": "",
           "title": {
            "standoff": 15
           },
           "zerolinecolor": "white",
           "zerolinewidth": 2
          }
         }
        },
        "title": {
         "text": "BETA: Stop Loss Optimisation (TP = 70, Mul = 6, Range = 40)",
         "x": 0.5
        },
        "xaxis": {
         "title": {
          "text": "Stop Loss (pips)"
         }
        },
        "yaxis": {
         "title": {
          "text": "Profit (pips)"
         }
        }
       }
      },
      "text/html": [
       "<div>\n",
       "        \n",
       "        \n",
       "            <div id=\"489c8c69-4292-4d22-9684-0e58ffc3fd76\" class=\"plotly-graph-div\" style=\"height:525px; width:100%;\"></div>\n",
       "            <script type=\"text/javascript\">\n",
       "                require([\"plotly\"], function(Plotly) {\n",
       "                    window.PLOTLYENV=window.PLOTLYENV || {};\n",
       "                    \n",
       "                if (document.getElementById(\"489c8c69-4292-4d22-9684-0e58ffc3fd76\")) {\n",
       "                    Plotly.newPlot(\n",
       "                        '489c8c69-4292-4d22-9684-0e58ffc3fd76',\n",
       "                        [{\"type\": \"scatter\", \"x\": [10, 11, 12, 13, 14, 15, 16, 17, 18, 19, 20, 21, 22, 23, 24, 25, 26, 27, 28, 29, 30, 31, 32, 33, 34, 35, 36, 37, 38, 39, 40, 41, 42, 43, 44, 45, 46, 47, 48, 49, 50, 51, 52, 53, 54, 55, 56, 57, 58, 59, 60, 61, 62, 63, 64, 65, 66, 67, 68, 69, 70, 71, 72, 73, 74, 75, 76, 77, 78, 79, 80, 81, 82, 83, 84, 85, 86, 87, 88, 89, 90, 91, 92, 93, 94, 95, 96, 97, 98, 99], \"y\": [528.4956041455492, 590.3465577646738, 719.34655776467, 686.346557764684, 821.3465577646798, 975.3465577646757, 947.3465577646796, 920.088348351339, 981.2752561368216, 956.2752561368263, 1111.275256136828, 1088.275256136833, 1157.4172769565573, 1136.4172769565596, 1210.1923425922605, 1304.153243544527, 1313.1532435445247, 1297.9300232328856, 1284.9300232328883, 1271.9300232328842, 1258.9300232328883, 1245.9300232328824, 1354.3089597254843, 1377.3089597254834, 1402.3089597254793, 1394.3089597254848, 1386.3089597254839, 1378.3089597254798, 1370.3089597254857, 1362.3089597254816, 1354.308959725482, 1457.3089597254861, 1450.3089597254834, 1443.308959725483, 1436.308959725483, 1429.3089597254848, 1422.3089597254857, 1415.308959725483, 1408.3089597254852, 1401.3089597254825, 1394.3089597254843, 1387.3089597254839, 1380.3089597254816, 1426.3089597254834, 1420.8549793145785, 1415.8549793145817, 1413.74039677044, 1409.7403967704386, 1405.74039677044, 1401.7403967704367, 1397.74039677044, 1393.7403967704408, 1389.740396770438, 1385.7403967704408, 1381.7403967704377, 1377.740396770439, 1373.7403967704422, 1369.7403967704386, 1365.7403967704404, 1361.7403967704386, 1381.6877670898975, 1378.687767089897, 1375.6877670898948, 1372.6877670898966, 1369.687767089894, 1366.6877670898957, 1363.687767089898, 1360.6877670898953, 1357.687767089897, 1354.6877670898944, 1351.6877670898966, 1401.291186036622, 1399.2911860366194, 1397.2911860366212, 1395.2911860366185, 1393.2911860366203, 1391.291186036622, 1389.2911860366194, 1387.2911860366212, 1385.2911860366185, 1383.2911860366203, 1381.291186036622, 1379.2911860366194, 1377.2911860366212, 1375.2911860366185, 1373.2911860366203, 1371.291186036622, 1369.2911860366194, 1367.2911860366212, 1365.2911860366185]}],\n",
       "                        {\"template\": {\"data\": {\"bar\": [{\"error_x\": {\"color\": \"#2a3f5f\"}, \"error_y\": {\"color\": \"#2a3f5f\"}, \"marker\": {\"line\": {\"color\": \"#E5ECF6\", \"width\": 0.5}}, \"type\": \"bar\"}], \"barpolar\": [{\"marker\": {\"line\": {\"color\": \"#E5ECF6\", \"width\": 0.5}}, \"type\": \"barpolar\"}], \"carpet\": [{\"aaxis\": {\"endlinecolor\": \"#2a3f5f\", \"gridcolor\": \"white\", \"linecolor\": \"white\", \"minorgridcolor\": \"white\", \"startlinecolor\": \"#2a3f5f\"}, \"baxis\": {\"endlinecolor\": \"#2a3f5f\", \"gridcolor\": \"white\", \"linecolor\": \"white\", \"minorgridcolor\": \"white\", \"startlinecolor\": \"#2a3f5f\"}, \"type\": \"carpet\"}], \"choropleth\": [{\"colorbar\": {\"outlinewidth\": 0, \"ticks\": \"\"}, \"type\": \"choropleth\"}], \"contour\": [{\"colorbar\": {\"outlinewidth\": 0, \"ticks\": \"\"}, \"colorscale\": [[0.0, \"#0d0887\"], [0.1111111111111111, \"#46039f\"], [0.2222222222222222, \"#7201a8\"], [0.3333333333333333, \"#9c179e\"], [0.4444444444444444, \"#bd3786\"], [0.5555555555555556, \"#d8576b\"], [0.6666666666666666, \"#ed7953\"], [0.7777777777777778, \"#fb9f3a\"], [0.8888888888888888, \"#fdca26\"], [1.0, \"#f0f921\"]], \"type\": \"contour\"}], \"contourcarpet\": [{\"colorbar\": {\"outlinewidth\": 0, \"ticks\": \"\"}, \"type\": \"contourcarpet\"}], \"heatmap\": [{\"colorbar\": {\"outlinewidth\": 0, \"ticks\": \"\"}, \"colorscale\": [[0.0, \"#0d0887\"], [0.1111111111111111, \"#46039f\"], [0.2222222222222222, \"#7201a8\"], [0.3333333333333333, \"#9c179e\"], [0.4444444444444444, \"#bd3786\"], [0.5555555555555556, \"#d8576b\"], [0.6666666666666666, \"#ed7953\"], [0.7777777777777778, \"#fb9f3a\"], [0.8888888888888888, \"#fdca26\"], [1.0, \"#f0f921\"]], \"type\": \"heatmap\"}], \"heatmapgl\": [{\"colorbar\": {\"outlinewidth\": 0, \"ticks\": \"\"}, \"colorscale\": [[0.0, \"#0d0887\"], [0.1111111111111111, \"#46039f\"], [0.2222222222222222, \"#7201a8\"], [0.3333333333333333, \"#9c179e\"], [0.4444444444444444, \"#bd3786\"], [0.5555555555555556, \"#d8576b\"], [0.6666666666666666, \"#ed7953\"], [0.7777777777777778, \"#fb9f3a\"], [0.8888888888888888, \"#fdca26\"], [1.0, \"#f0f921\"]], \"type\": \"heatmapgl\"}], \"histogram\": [{\"marker\": {\"colorbar\": {\"outlinewidth\": 0, \"ticks\": \"\"}}, \"type\": \"histogram\"}], \"histogram2d\": [{\"colorbar\": {\"outlinewidth\": 0, \"ticks\": \"\"}, \"colorscale\": [[0.0, \"#0d0887\"], [0.1111111111111111, \"#46039f\"], [0.2222222222222222, \"#7201a8\"], [0.3333333333333333, \"#9c179e\"], [0.4444444444444444, \"#bd3786\"], [0.5555555555555556, \"#d8576b\"], [0.6666666666666666, \"#ed7953\"], [0.7777777777777778, \"#fb9f3a\"], [0.8888888888888888, \"#fdca26\"], [1.0, \"#f0f921\"]], \"type\": \"histogram2d\"}], \"histogram2dcontour\": [{\"colorbar\": {\"outlinewidth\": 0, \"ticks\": \"\"}, \"colorscale\": [[0.0, \"#0d0887\"], [0.1111111111111111, \"#46039f\"], [0.2222222222222222, \"#7201a8\"], [0.3333333333333333, \"#9c179e\"], [0.4444444444444444, \"#bd3786\"], [0.5555555555555556, \"#d8576b\"], [0.6666666666666666, \"#ed7953\"], [0.7777777777777778, \"#fb9f3a\"], [0.8888888888888888, \"#fdca26\"], [1.0, \"#f0f921\"]], \"type\": \"histogram2dcontour\"}], \"mesh3d\": [{\"colorbar\": {\"outlinewidth\": 0, \"ticks\": \"\"}, \"type\": \"mesh3d\"}], \"parcoords\": [{\"line\": {\"colorbar\": {\"outlinewidth\": 0, \"ticks\": \"\"}}, \"type\": \"parcoords\"}], \"pie\": [{\"automargin\": true, \"type\": \"pie\"}], \"scatter\": [{\"marker\": {\"colorbar\": {\"outlinewidth\": 0, \"ticks\": \"\"}}, \"type\": \"scatter\"}], \"scatter3d\": [{\"line\": {\"colorbar\": {\"outlinewidth\": 0, \"ticks\": \"\"}}, \"marker\": {\"colorbar\": {\"outlinewidth\": 0, \"ticks\": \"\"}}, \"type\": \"scatter3d\"}], \"scattercarpet\": [{\"marker\": {\"colorbar\": {\"outlinewidth\": 0, \"ticks\": \"\"}}, \"type\": \"scattercarpet\"}], \"scattergeo\": [{\"marker\": {\"colorbar\": {\"outlinewidth\": 0, \"ticks\": \"\"}}, \"type\": \"scattergeo\"}], \"scattergl\": [{\"marker\": {\"colorbar\": {\"outlinewidth\": 0, \"ticks\": \"\"}}, \"type\": \"scattergl\"}], \"scattermapbox\": [{\"marker\": {\"colorbar\": {\"outlinewidth\": 0, \"ticks\": \"\"}}, \"type\": \"scattermapbox\"}], \"scatterpolar\": [{\"marker\": {\"colorbar\": {\"outlinewidth\": 0, \"ticks\": \"\"}}, \"type\": \"scatterpolar\"}], \"scatterpolargl\": [{\"marker\": {\"colorbar\": {\"outlinewidth\": 0, \"ticks\": \"\"}}, \"type\": \"scatterpolargl\"}], \"scatterternary\": [{\"marker\": {\"colorbar\": {\"outlinewidth\": 0, \"ticks\": \"\"}}, \"type\": \"scatterternary\"}], \"surface\": [{\"colorbar\": {\"outlinewidth\": 0, \"ticks\": \"\"}, \"colorscale\": [[0.0, \"#0d0887\"], [0.1111111111111111, \"#46039f\"], [0.2222222222222222, \"#7201a8\"], [0.3333333333333333, \"#9c179e\"], [0.4444444444444444, \"#bd3786\"], [0.5555555555555556, \"#d8576b\"], [0.6666666666666666, \"#ed7953\"], [0.7777777777777778, \"#fb9f3a\"], [0.8888888888888888, \"#fdca26\"], [1.0, \"#f0f921\"]], \"type\": \"surface\"}], \"table\": [{\"cells\": {\"fill\": {\"color\": \"#EBF0F8\"}, \"line\": {\"color\": \"white\"}}, \"header\": {\"fill\": {\"color\": \"#C8D4E3\"}, \"line\": {\"color\": \"white\"}}, \"type\": \"table\"}]}, \"layout\": {\"annotationdefaults\": {\"arrowcolor\": \"#2a3f5f\", \"arrowhead\": 0, \"arrowwidth\": 1}, \"coloraxis\": {\"colorbar\": {\"outlinewidth\": 0, \"ticks\": \"\"}}, \"colorscale\": {\"diverging\": [[0, \"#8e0152\"], [0.1, \"#c51b7d\"], [0.2, \"#de77ae\"], [0.3, \"#f1b6da\"], [0.4, \"#fde0ef\"], [0.5, \"#f7f7f7\"], [0.6, \"#e6f5d0\"], [0.7, \"#b8e186\"], [0.8, \"#7fbc41\"], [0.9, \"#4d9221\"], [1, \"#276419\"]], \"sequential\": [[0.0, \"#0d0887\"], [0.1111111111111111, \"#46039f\"], [0.2222222222222222, \"#7201a8\"], [0.3333333333333333, \"#9c179e\"], [0.4444444444444444, \"#bd3786\"], [0.5555555555555556, \"#d8576b\"], [0.6666666666666666, \"#ed7953\"], [0.7777777777777778, \"#fb9f3a\"], [0.8888888888888888, \"#fdca26\"], [1.0, \"#f0f921\"]], \"sequentialminus\": [[0.0, \"#0d0887\"], [0.1111111111111111, \"#46039f\"], [0.2222222222222222, \"#7201a8\"], [0.3333333333333333, \"#9c179e\"], [0.4444444444444444, \"#bd3786\"], [0.5555555555555556, \"#d8576b\"], [0.6666666666666666, \"#ed7953\"], [0.7777777777777778, \"#fb9f3a\"], [0.8888888888888888, \"#fdca26\"], [1.0, \"#f0f921\"]]}, \"colorway\": [\"#636efa\", \"#EF553B\", \"#00cc96\", \"#ab63fa\", \"#FFA15A\", \"#19d3f3\", \"#FF6692\", \"#B6E880\", \"#FF97FF\", \"#FECB52\"], \"font\": {\"color\": \"#2a3f5f\"}, \"geo\": {\"bgcolor\": \"white\", \"lakecolor\": \"white\", \"landcolor\": \"#E5ECF6\", \"showlakes\": true, \"showland\": true, \"subunitcolor\": \"white\"}, \"hoverlabel\": {\"align\": \"left\"}, \"hovermode\": \"closest\", \"mapbox\": {\"style\": \"light\"}, \"paper_bgcolor\": \"white\", \"plot_bgcolor\": \"#E5ECF6\", \"polar\": {\"angularaxis\": {\"gridcolor\": \"white\", \"linecolor\": \"white\", \"ticks\": \"\"}, \"bgcolor\": \"#E5ECF6\", \"radialaxis\": {\"gridcolor\": \"white\", \"linecolor\": \"white\", \"ticks\": \"\"}}, \"scene\": {\"xaxis\": {\"backgroundcolor\": \"#E5ECF6\", \"gridcolor\": \"white\", \"gridwidth\": 2, \"linecolor\": \"white\", \"showbackground\": true, \"ticks\": \"\", \"zerolinecolor\": \"white\"}, \"yaxis\": {\"backgroundcolor\": \"#E5ECF6\", \"gridcolor\": \"white\", \"gridwidth\": 2, \"linecolor\": \"white\", \"showbackground\": true, \"ticks\": \"\", \"zerolinecolor\": \"white\"}, \"zaxis\": {\"backgroundcolor\": \"#E5ECF6\", \"gridcolor\": \"white\", \"gridwidth\": 2, \"linecolor\": \"white\", \"showbackground\": true, \"ticks\": \"\", \"zerolinecolor\": \"white\"}}, \"shapedefaults\": {\"line\": {\"color\": \"#2a3f5f\"}}, \"ternary\": {\"aaxis\": {\"gridcolor\": \"white\", \"linecolor\": \"white\", \"ticks\": \"\"}, \"baxis\": {\"gridcolor\": \"white\", \"linecolor\": \"white\", \"ticks\": \"\"}, \"bgcolor\": \"#E5ECF6\", \"caxis\": {\"gridcolor\": \"white\", \"linecolor\": \"white\", \"ticks\": \"\"}}, \"title\": {\"x\": 0.05}, \"xaxis\": {\"automargin\": true, \"gridcolor\": \"white\", \"linecolor\": \"white\", \"ticks\": \"\", \"title\": {\"standoff\": 15}, \"zerolinecolor\": \"white\", \"zerolinewidth\": 2}, \"yaxis\": {\"automargin\": true, \"gridcolor\": \"white\", \"linecolor\": \"white\", \"ticks\": \"\", \"title\": {\"standoff\": 15}, \"zerolinecolor\": \"white\", \"zerolinewidth\": 2}}}, \"title\": {\"text\": \"BETA: Stop Loss Optimisation (TP = 70, Mul = 6, Range = 40)\", \"x\": 0.5}, \"xaxis\": {\"title\": {\"text\": \"Stop Loss (pips)\"}}, \"yaxis\": {\"title\": {\"text\": \"Profit (pips)\"}}},\n",
       "                        {\"responsive\": true}\n",
       "                    ).then(function(){\n",
       "                            \n",
       "var gd = document.getElementById('489c8c69-4292-4d22-9684-0e58ffc3fd76');\n",
       "var x = new MutationObserver(function (mutations, observer) {{\n",
       "        var display = window.getComputedStyle(gd).display;\n",
       "        if (!display || display === 'none') {{\n",
       "            console.log([gd, 'removed!']);\n",
       "            Plotly.purge(gd);\n",
       "            observer.disconnect();\n",
       "        }}\n",
       "}});\n",
       "\n",
       "// Listen for the removal of the full notebook cells\n",
       "var notebookContainer = gd.closest('#notebook-container');\n",
       "if (notebookContainer) {{\n",
       "    x.observe(notebookContainer, {childList: true});\n",
       "}}\n",
       "\n",
       "// Listen for the clearing of the current output cell\n",
       "var outputEl = gd.closest('.output');\n",
       "if (outputEl) {{\n",
       "    x.observe(outputEl, {childList: true});\n",
       "}}\n",
       "\n",
       "                        })\n",
       "                };\n",
       "                });\n",
       "            </script>\n",
       "        </div>"
      ]
     },
     "metadata": {},
     "output_type": "display_data"
    }
   ],
   "source": [
    "# Stop Loss Analysis\n",
    "\n",
    "multiplier = 6\n",
    "length = 40\n",
    "take_profit = 70\n",
    "\n",
    "profits = []\n",
    "stops = range(10, 100, 1)\n",
    "\n",
    "for stop in stops:\n",
    "    signals = load_beta_trades(\"./beta/BETA.csv\")\n",
    "    total_profit = 0.0\n",
    "    wins = 0\n",
    "    losses = 0\n",
    "    for signal in signals[\"TP1\"]:\n",
    "        signal.set_stop_loss_pips(stop)\n",
    "        signal.set_take_profit_pips(take_profit)\n",
    "\n",
    "        df = get_supertrend(signal.ticker, multiplier=multiplier, length=length, sample_mins=60)\n",
    "        profit = supertrend_trailing(df, signal) * pip_factor(signal.ticker)\n",
    "        if profit > 0:\n",
    "            wins += 1\n",
    "        else:\n",
    "            losses += 1\n",
    "        total_profit += profit\n",
    "        #print(signal, profit)\n",
    "    profits.append(total_profit)\n",
    "    print(stop, total_profit, wins, losses)\n",
    "    \n",
    "fig = go.Figure(data=go.Scatter(x=list(stops), y=profits))\n",
    "fig.update_layout(\n",
    "    title=f\"BETA: Stop Loss Optimisation (TP = {take_profit}, Mul = {multiplier}, Range = {length})\",\n",
    "    title_x=0.5,\n",
    "    xaxis_title=\"Stop Loss (pips)\",\n",
    "    yaxis_title=\"Profit (pips)\"\n",
    ")\n",
    "fig.show()"
   ]
  },
  {
   "cell_type": "code",
   "execution_count": 13,
   "metadata": {
    "scrolled": false
   },
   "outputs": [
    {
     "name": "stdout",
     "output_type": "stream",
     "text": [
      "6 307.7767796883377 47 5\n",
      "6 367.91880050810914 46 6\n",
      "6 404.9188005080949 45 7\n",
      "6 494.91880050809493 45 7\n",
      "6 584.9188005081076 45 7\n",
      "6 674.9188005080932 45 7\n",
      "6 764.9188005080842 45 7\n",
      "6 820.8088531749643 44 8\n",
      "6 882.8088531749781 43 9\n",
      "6 968.8088531749704 43 9\n",
      "6 922.306986536456 41 11\n",
      "6 924.0487771231358 39 13\n",
      "6 1002.0487771231457 39 13\n",
      "6 1020.8238427588485 38 14\n",
      "6 1096.8238427588356 38 14\n",
      "6 1172.8238427588458 38 14\n",
      "6 1248.8238427588337 38 14\n",
      "6 1182.7046458899363 36 16\n",
      "6 1254.704645889935 36 16\n",
      "6 1134.6655468422066 33 19\n",
      "6 1149.161150987732 32 20\n",
      "6 1143.3480587732354 31 21\n",
      "6 1205.348058773241 31 21\n",
      "6 1267.3480587732383 31 21\n",
      "6 1329.3480587732317 31 21\n",
      "6 1391.3480587732238 31 21\n",
      "6 1336.3089597254973 30 22\n",
      "6 1394.3089597254889 30 22\n",
      "6 1345.308959725487 29 23\n",
      "6 1401.3089597254955 29 23\n",
      "6 1457.3089597254861 29 23\n",
      "6 1442.495867510988 29 23\n",
      "6 1432.3656435551397 29 23\n",
      "6 1340.4584806960356 29 23\n",
      "6 1388.4584806960313 29 23\n",
      "6 1276.1529108011805 28 24\n",
      "6 1320.1529108011734 28 24\n",
      "6 1239.1529108011782 27 25\n",
      "6 1281.1529108011764 27 25\n",
      "6 1323.1529108011712 27 25\n",
      "6 1219.941636926279 27 25\n",
      "6 1257.9416369262942 27 25\n",
      "6 1235.2264044519252 27 25\n",
      "6 1271.2264044519243 27 25\n",
      "6 1307.226404451925 27 25\n",
      "6 1343.226404451921 27 25\n",
      "6 1304.4949071258386 27 25\n",
      "6 1338.494907125838 27 25\n",
      "6 1372.4949071258384 27 25\n",
      "6 1406.4949071258345 27 25\n",
      "6 1386.654944673311 27 25\n",
      "6 1367.9089106182125 27 25\n",
      "6 1345.0689481656877 27 25\n",
      "6 1373.0689481656827 27 25\n",
      "6 1317.621738947061 27 25\n",
      "6 1343.621738947059 27 25\n",
      "6 1369.6217389470562 27 25\n",
      "6 1275.8053542860948 27 25\n",
      "6 1297.8053542860953 27 25\n",
      "6 1319.8053542860935 27 25\n",
      "6 1276.6106701354179 27 25\n",
      "6 1136.7043041889979 27 25\n",
      "6 1152.7043041889983 27 25\n",
      "6 1039.487780107045 27 25\n",
      "6 1051.4877801070452 27 25\n",
      "6 1063.4877801070456 27 25\n",
      "6 1022.1139031254427 27 25\n",
      "6 967.9649839412892 27 25\n",
      "6 894.0987829955872 27 25\n",
      "6 820.4239668065946 27 25\n",
      "6 824.4239668065949 27 25\n",
      "6 828.4239668065974 27 25\n",
      "6 832.4239668065976 27 25\n",
      "6 836.4239668065956 27 25\n",
      "6 840.4239668065958 27 25\n",
      "6 793.6779327514824 27 25\n",
      "6 633.6779327514824 26 26\n",
      "6 633.6779327514824 26 26\n",
      "6 633.6779327514824 26 26\n",
      "6 633.6779327514824 26 26\n",
      "6 633.6779327514824 26 26\n",
      "6 633.6779327514824 26 26\n",
      "6 633.6779327514824 26 26\n",
      "6 633.6779327514824 26 26\n",
      "6 633.6779327514824 26 26\n",
      "6 633.6779327514824 26 26\n",
      "6 633.6779327514824 26 26\n",
      "6 633.6779327514824 26 26\n",
      "6 633.6779327514824 26 26\n",
      "6 633.6779327514824 26 26\n",
      "6 633.6779327514824 26 26\n",
      "6 633.6779327514824 26 26\n",
      "6 633.6779327514824 26 26\n",
      "6 633.6779327514824 26 26\n",
      "6 633.6779327514824 26 26\n"
     ]
    },
    {
     "data": {
      "application/vnd.plotly.v1+json": {
       "config": {
        "plotlyServerURL": "https://plot.ly"
       },
       "data": [
        {
         "type": "scatter",
         "x": [
          10,
          12,
          14,
          16,
          18,
          20,
          22,
          24,
          26,
          28,
          30,
          32,
          34,
          36,
          38,
          40,
          42,
          44,
          46,
          48,
          50,
          52,
          54,
          56,
          58,
          60,
          62,
          64,
          66,
          68,
          70,
          72,
          74,
          76,
          78,
          80,
          82,
          84,
          86,
          88,
          90,
          92,
          94,
          96,
          98,
          100,
          102,
          104,
          106,
          108,
          110,
          112,
          114,
          116,
          118,
          120,
          122,
          124,
          126,
          128,
          130,
          132,
          134,
          136,
          138,
          140,
          142,
          144,
          146,
          148,
          150,
          152,
          154,
          156,
          158,
          160,
          162,
          164,
          166,
          168,
          170,
          172,
          174,
          176,
          178,
          180,
          182,
          184,
          186,
          188,
          190,
          192,
          194,
          196,
          198
         ],
         "y": [
          307.7767796883377,
          367.91880050810914,
          404.9188005080949,
          494.91880050809493,
          584.9188005081076,
          674.9188005080932,
          764.9188005080842,
          820.8088531749643,
          882.8088531749781,
          968.8088531749704,
          922.306986536456,
          924.0487771231358,
          1002.0487771231457,
          1020.8238427588485,
          1096.8238427588356,
          1172.8238427588458,
          1248.8238427588337,
          1182.7046458899363,
          1254.704645889935,
          1134.6655468422066,
          1149.161150987732,
          1143.3480587732354,
          1205.348058773241,
          1267.3480587732383,
          1329.3480587732317,
          1391.3480587732238,
          1336.3089597254973,
          1394.3089597254889,
          1345.308959725487,
          1401.3089597254955,
          1457.3089597254861,
          1442.495867510988,
          1432.3656435551397,
          1340.4584806960356,
          1388.4584806960313,
          1276.1529108011805,
          1320.1529108011734,
          1239.1529108011782,
          1281.1529108011764,
          1323.1529108011712,
          1219.941636926279,
          1257.9416369262942,
          1235.2264044519252,
          1271.2264044519243,
          1307.226404451925,
          1343.226404451921,
          1304.4949071258386,
          1338.494907125838,
          1372.4949071258384,
          1406.4949071258345,
          1386.654944673311,
          1367.9089106182125,
          1345.0689481656877,
          1373.0689481656827,
          1317.621738947061,
          1343.621738947059,
          1369.6217389470562,
          1275.8053542860948,
          1297.8053542860953,
          1319.8053542860935,
          1276.6106701354179,
          1136.7043041889979,
          1152.7043041889983,
          1039.487780107045,
          1051.4877801070452,
          1063.4877801070456,
          1022.1139031254427,
          967.9649839412892,
          894.0987829955872,
          820.4239668065946,
          824.4239668065949,
          828.4239668065974,
          832.4239668065976,
          836.4239668065956,
          840.4239668065958,
          793.6779327514824,
          633.6779327514824,
          633.6779327514824,
          633.6779327514824,
          633.6779327514824,
          633.6779327514824,
          633.6779327514824,
          633.6779327514824,
          633.6779327514824,
          633.6779327514824,
          633.6779327514824,
          633.6779327514824,
          633.6779327514824,
          633.6779327514824,
          633.6779327514824,
          633.6779327514824,
          633.6779327514824,
          633.6779327514824,
          633.6779327514824,
          633.6779327514824
         ]
        }
       ],
       "layout": {
        "template": {
         "data": {
          "bar": [
           {
            "error_x": {
             "color": "#2a3f5f"
            },
            "error_y": {
             "color": "#2a3f5f"
            },
            "marker": {
             "line": {
              "color": "#E5ECF6",
              "width": 0.5
             }
            },
            "type": "bar"
           }
          ],
          "barpolar": [
           {
            "marker": {
             "line": {
              "color": "#E5ECF6",
              "width": 0.5
             }
            },
            "type": "barpolar"
           }
          ],
          "carpet": [
           {
            "aaxis": {
             "endlinecolor": "#2a3f5f",
             "gridcolor": "white",
             "linecolor": "white",
             "minorgridcolor": "white",
             "startlinecolor": "#2a3f5f"
            },
            "baxis": {
             "endlinecolor": "#2a3f5f",
             "gridcolor": "white",
             "linecolor": "white",
             "minorgridcolor": "white",
             "startlinecolor": "#2a3f5f"
            },
            "type": "carpet"
           }
          ],
          "choropleth": [
           {
            "colorbar": {
             "outlinewidth": 0,
             "ticks": ""
            },
            "type": "choropleth"
           }
          ],
          "contour": [
           {
            "colorbar": {
             "outlinewidth": 0,
             "ticks": ""
            },
            "colorscale": [
             [
              0,
              "#0d0887"
             ],
             [
              0.1111111111111111,
              "#46039f"
             ],
             [
              0.2222222222222222,
              "#7201a8"
             ],
             [
              0.3333333333333333,
              "#9c179e"
             ],
             [
              0.4444444444444444,
              "#bd3786"
             ],
             [
              0.5555555555555556,
              "#d8576b"
             ],
             [
              0.6666666666666666,
              "#ed7953"
             ],
             [
              0.7777777777777778,
              "#fb9f3a"
             ],
             [
              0.8888888888888888,
              "#fdca26"
             ],
             [
              1,
              "#f0f921"
             ]
            ],
            "type": "contour"
           }
          ],
          "contourcarpet": [
           {
            "colorbar": {
             "outlinewidth": 0,
             "ticks": ""
            },
            "type": "contourcarpet"
           }
          ],
          "heatmap": [
           {
            "colorbar": {
             "outlinewidth": 0,
             "ticks": ""
            },
            "colorscale": [
             [
              0,
              "#0d0887"
             ],
             [
              0.1111111111111111,
              "#46039f"
             ],
             [
              0.2222222222222222,
              "#7201a8"
             ],
             [
              0.3333333333333333,
              "#9c179e"
             ],
             [
              0.4444444444444444,
              "#bd3786"
             ],
             [
              0.5555555555555556,
              "#d8576b"
             ],
             [
              0.6666666666666666,
              "#ed7953"
             ],
             [
              0.7777777777777778,
              "#fb9f3a"
             ],
             [
              0.8888888888888888,
              "#fdca26"
             ],
             [
              1,
              "#f0f921"
             ]
            ],
            "type": "heatmap"
           }
          ],
          "heatmapgl": [
           {
            "colorbar": {
             "outlinewidth": 0,
             "ticks": ""
            },
            "colorscale": [
             [
              0,
              "#0d0887"
             ],
             [
              0.1111111111111111,
              "#46039f"
             ],
             [
              0.2222222222222222,
              "#7201a8"
             ],
             [
              0.3333333333333333,
              "#9c179e"
             ],
             [
              0.4444444444444444,
              "#bd3786"
             ],
             [
              0.5555555555555556,
              "#d8576b"
             ],
             [
              0.6666666666666666,
              "#ed7953"
             ],
             [
              0.7777777777777778,
              "#fb9f3a"
             ],
             [
              0.8888888888888888,
              "#fdca26"
             ],
             [
              1,
              "#f0f921"
             ]
            ],
            "type": "heatmapgl"
           }
          ],
          "histogram": [
           {
            "marker": {
             "colorbar": {
              "outlinewidth": 0,
              "ticks": ""
             }
            },
            "type": "histogram"
           }
          ],
          "histogram2d": [
           {
            "colorbar": {
             "outlinewidth": 0,
             "ticks": ""
            },
            "colorscale": [
             [
              0,
              "#0d0887"
             ],
             [
              0.1111111111111111,
              "#46039f"
             ],
             [
              0.2222222222222222,
              "#7201a8"
             ],
             [
              0.3333333333333333,
              "#9c179e"
             ],
             [
              0.4444444444444444,
              "#bd3786"
             ],
             [
              0.5555555555555556,
              "#d8576b"
             ],
             [
              0.6666666666666666,
              "#ed7953"
             ],
             [
              0.7777777777777778,
              "#fb9f3a"
             ],
             [
              0.8888888888888888,
              "#fdca26"
             ],
             [
              1,
              "#f0f921"
             ]
            ],
            "type": "histogram2d"
           }
          ],
          "histogram2dcontour": [
           {
            "colorbar": {
             "outlinewidth": 0,
             "ticks": ""
            },
            "colorscale": [
             [
              0,
              "#0d0887"
             ],
             [
              0.1111111111111111,
              "#46039f"
             ],
             [
              0.2222222222222222,
              "#7201a8"
             ],
             [
              0.3333333333333333,
              "#9c179e"
             ],
             [
              0.4444444444444444,
              "#bd3786"
             ],
             [
              0.5555555555555556,
              "#d8576b"
             ],
             [
              0.6666666666666666,
              "#ed7953"
             ],
             [
              0.7777777777777778,
              "#fb9f3a"
             ],
             [
              0.8888888888888888,
              "#fdca26"
             ],
             [
              1,
              "#f0f921"
             ]
            ],
            "type": "histogram2dcontour"
           }
          ],
          "mesh3d": [
           {
            "colorbar": {
             "outlinewidth": 0,
             "ticks": ""
            },
            "type": "mesh3d"
           }
          ],
          "parcoords": [
           {
            "line": {
             "colorbar": {
              "outlinewidth": 0,
              "ticks": ""
             }
            },
            "type": "parcoords"
           }
          ],
          "pie": [
           {
            "automargin": true,
            "type": "pie"
           }
          ],
          "scatter": [
           {
            "marker": {
             "colorbar": {
              "outlinewidth": 0,
              "ticks": ""
             }
            },
            "type": "scatter"
           }
          ],
          "scatter3d": [
           {
            "line": {
             "colorbar": {
              "outlinewidth": 0,
              "ticks": ""
             }
            },
            "marker": {
             "colorbar": {
              "outlinewidth": 0,
              "ticks": ""
             }
            },
            "type": "scatter3d"
           }
          ],
          "scattercarpet": [
           {
            "marker": {
             "colorbar": {
              "outlinewidth": 0,
              "ticks": ""
             }
            },
            "type": "scattercarpet"
           }
          ],
          "scattergeo": [
           {
            "marker": {
             "colorbar": {
              "outlinewidth": 0,
              "ticks": ""
             }
            },
            "type": "scattergeo"
           }
          ],
          "scattergl": [
           {
            "marker": {
             "colorbar": {
              "outlinewidth": 0,
              "ticks": ""
             }
            },
            "type": "scattergl"
           }
          ],
          "scattermapbox": [
           {
            "marker": {
             "colorbar": {
              "outlinewidth": 0,
              "ticks": ""
             }
            },
            "type": "scattermapbox"
           }
          ],
          "scatterpolar": [
           {
            "marker": {
             "colorbar": {
              "outlinewidth": 0,
              "ticks": ""
             }
            },
            "type": "scatterpolar"
           }
          ],
          "scatterpolargl": [
           {
            "marker": {
             "colorbar": {
              "outlinewidth": 0,
              "ticks": ""
             }
            },
            "type": "scatterpolargl"
           }
          ],
          "scatterternary": [
           {
            "marker": {
             "colorbar": {
              "outlinewidth": 0,
              "ticks": ""
             }
            },
            "type": "scatterternary"
           }
          ],
          "surface": [
           {
            "colorbar": {
             "outlinewidth": 0,
             "ticks": ""
            },
            "colorscale": [
             [
              0,
              "#0d0887"
             ],
             [
              0.1111111111111111,
              "#46039f"
             ],
             [
              0.2222222222222222,
              "#7201a8"
             ],
             [
              0.3333333333333333,
              "#9c179e"
             ],
             [
              0.4444444444444444,
              "#bd3786"
             ],
             [
              0.5555555555555556,
              "#d8576b"
             ],
             [
              0.6666666666666666,
              "#ed7953"
             ],
             [
              0.7777777777777778,
              "#fb9f3a"
             ],
             [
              0.8888888888888888,
              "#fdca26"
             ],
             [
              1,
              "#f0f921"
             ]
            ],
            "type": "surface"
           }
          ],
          "table": [
           {
            "cells": {
             "fill": {
              "color": "#EBF0F8"
             },
             "line": {
              "color": "white"
             }
            },
            "header": {
             "fill": {
              "color": "#C8D4E3"
             },
             "line": {
              "color": "white"
             }
            },
            "type": "table"
           }
          ]
         },
         "layout": {
          "annotationdefaults": {
           "arrowcolor": "#2a3f5f",
           "arrowhead": 0,
           "arrowwidth": 1
          },
          "coloraxis": {
           "colorbar": {
            "outlinewidth": 0,
            "ticks": ""
           }
          },
          "colorscale": {
           "diverging": [
            [
             0,
             "#8e0152"
            ],
            [
             0.1,
             "#c51b7d"
            ],
            [
             0.2,
             "#de77ae"
            ],
            [
             0.3,
             "#f1b6da"
            ],
            [
             0.4,
             "#fde0ef"
            ],
            [
             0.5,
             "#f7f7f7"
            ],
            [
             0.6,
             "#e6f5d0"
            ],
            [
             0.7,
             "#b8e186"
            ],
            [
             0.8,
             "#7fbc41"
            ],
            [
             0.9,
             "#4d9221"
            ],
            [
             1,
             "#276419"
            ]
           ],
           "sequential": [
            [
             0,
             "#0d0887"
            ],
            [
             0.1111111111111111,
             "#46039f"
            ],
            [
             0.2222222222222222,
             "#7201a8"
            ],
            [
             0.3333333333333333,
             "#9c179e"
            ],
            [
             0.4444444444444444,
             "#bd3786"
            ],
            [
             0.5555555555555556,
             "#d8576b"
            ],
            [
             0.6666666666666666,
             "#ed7953"
            ],
            [
             0.7777777777777778,
             "#fb9f3a"
            ],
            [
             0.8888888888888888,
             "#fdca26"
            ],
            [
             1,
             "#f0f921"
            ]
           ],
           "sequentialminus": [
            [
             0,
             "#0d0887"
            ],
            [
             0.1111111111111111,
             "#46039f"
            ],
            [
             0.2222222222222222,
             "#7201a8"
            ],
            [
             0.3333333333333333,
             "#9c179e"
            ],
            [
             0.4444444444444444,
             "#bd3786"
            ],
            [
             0.5555555555555556,
             "#d8576b"
            ],
            [
             0.6666666666666666,
             "#ed7953"
            ],
            [
             0.7777777777777778,
             "#fb9f3a"
            ],
            [
             0.8888888888888888,
             "#fdca26"
            ],
            [
             1,
             "#f0f921"
            ]
           ]
          },
          "colorway": [
           "#636efa",
           "#EF553B",
           "#00cc96",
           "#ab63fa",
           "#FFA15A",
           "#19d3f3",
           "#FF6692",
           "#B6E880",
           "#FF97FF",
           "#FECB52"
          ],
          "font": {
           "color": "#2a3f5f"
          },
          "geo": {
           "bgcolor": "white",
           "lakecolor": "white",
           "landcolor": "#E5ECF6",
           "showlakes": true,
           "showland": true,
           "subunitcolor": "white"
          },
          "hoverlabel": {
           "align": "left"
          },
          "hovermode": "closest",
          "mapbox": {
           "style": "light"
          },
          "paper_bgcolor": "white",
          "plot_bgcolor": "#E5ECF6",
          "polar": {
           "angularaxis": {
            "gridcolor": "white",
            "linecolor": "white",
            "ticks": ""
           },
           "bgcolor": "#E5ECF6",
           "radialaxis": {
            "gridcolor": "white",
            "linecolor": "white",
            "ticks": ""
           }
          },
          "scene": {
           "xaxis": {
            "backgroundcolor": "#E5ECF6",
            "gridcolor": "white",
            "gridwidth": 2,
            "linecolor": "white",
            "showbackground": true,
            "ticks": "",
            "zerolinecolor": "white"
           },
           "yaxis": {
            "backgroundcolor": "#E5ECF6",
            "gridcolor": "white",
            "gridwidth": 2,
            "linecolor": "white",
            "showbackground": true,
            "ticks": "",
            "zerolinecolor": "white"
           },
           "zaxis": {
            "backgroundcolor": "#E5ECF6",
            "gridcolor": "white",
            "gridwidth": 2,
            "linecolor": "white",
            "showbackground": true,
            "ticks": "",
            "zerolinecolor": "white"
           }
          },
          "shapedefaults": {
           "line": {
            "color": "#2a3f5f"
           }
          },
          "ternary": {
           "aaxis": {
            "gridcolor": "white",
            "linecolor": "white",
            "ticks": ""
           },
           "baxis": {
            "gridcolor": "white",
            "linecolor": "white",
            "ticks": ""
           },
           "bgcolor": "#E5ECF6",
           "caxis": {
            "gridcolor": "white",
            "linecolor": "white",
            "ticks": ""
           }
          },
          "title": {
           "x": 0.05
          },
          "xaxis": {
           "automargin": true,
           "gridcolor": "white",
           "linecolor": "white",
           "ticks": "",
           "title": {
            "standoff": 15
           },
           "zerolinecolor": "white",
           "zerolinewidth": 2
          },
          "yaxis": {
           "automargin": true,
           "gridcolor": "white",
           "linecolor": "white",
           "ticks": "",
           "title": {
            "standoff": 15
           },
           "zerolinecolor": "white",
           "zerolinewidth": 2
          }
         }
        },
        "title": {
         "text": "BETA: Take Profit Optimisation (SL = 41, Mul = 6, Range = 40)",
         "x": 0.5
        },
        "xaxis": {
         "title": {
          "text": "Take Profit (pips)"
         }
        },
        "yaxis": {
         "title": {
          "text": "Profit (pips)"
         }
        }
       }
      },
      "text/html": [
       "<div>\n",
       "        \n",
       "        \n",
       "            <div id=\"723f9c31-f248-4130-8dd4-a94f6d272e51\" class=\"plotly-graph-div\" style=\"height:525px; width:100%;\"></div>\n",
       "            <script type=\"text/javascript\">\n",
       "                require([\"plotly\"], function(Plotly) {\n",
       "                    window.PLOTLYENV=window.PLOTLYENV || {};\n",
       "                    \n",
       "                if (document.getElementById(\"723f9c31-f248-4130-8dd4-a94f6d272e51\")) {\n",
       "                    Plotly.newPlot(\n",
       "                        '723f9c31-f248-4130-8dd4-a94f6d272e51',\n",
       "                        [{\"type\": \"scatter\", \"x\": [10, 12, 14, 16, 18, 20, 22, 24, 26, 28, 30, 32, 34, 36, 38, 40, 42, 44, 46, 48, 50, 52, 54, 56, 58, 60, 62, 64, 66, 68, 70, 72, 74, 76, 78, 80, 82, 84, 86, 88, 90, 92, 94, 96, 98, 100, 102, 104, 106, 108, 110, 112, 114, 116, 118, 120, 122, 124, 126, 128, 130, 132, 134, 136, 138, 140, 142, 144, 146, 148, 150, 152, 154, 156, 158, 160, 162, 164, 166, 168, 170, 172, 174, 176, 178, 180, 182, 184, 186, 188, 190, 192, 194, 196, 198], \"y\": [307.7767796883377, 367.91880050810914, 404.9188005080949, 494.91880050809493, 584.9188005081076, 674.9188005080932, 764.9188005080842, 820.8088531749643, 882.8088531749781, 968.8088531749704, 922.306986536456, 924.0487771231358, 1002.0487771231457, 1020.8238427588485, 1096.8238427588356, 1172.8238427588458, 1248.8238427588337, 1182.7046458899363, 1254.704645889935, 1134.6655468422066, 1149.161150987732, 1143.3480587732354, 1205.348058773241, 1267.3480587732383, 1329.3480587732317, 1391.3480587732238, 1336.3089597254973, 1394.3089597254889, 1345.308959725487, 1401.3089597254955, 1457.3089597254861, 1442.495867510988, 1432.3656435551397, 1340.4584806960356, 1388.4584806960313, 1276.1529108011805, 1320.1529108011734, 1239.1529108011782, 1281.1529108011764, 1323.1529108011712, 1219.941636926279, 1257.9416369262942, 1235.2264044519252, 1271.2264044519243, 1307.226404451925, 1343.226404451921, 1304.4949071258386, 1338.494907125838, 1372.4949071258384, 1406.4949071258345, 1386.654944673311, 1367.9089106182125, 1345.0689481656877, 1373.0689481656827, 1317.621738947061, 1343.621738947059, 1369.6217389470562, 1275.8053542860948, 1297.8053542860953, 1319.8053542860935, 1276.6106701354179, 1136.7043041889979, 1152.7043041889983, 1039.487780107045, 1051.4877801070452, 1063.4877801070456, 1022.1139031254427, 967.9649839412892, 894.0987829955872, 820.4239668065946, 824.4239668065949, 828.4239668065974, 832.4239668065976, 836.4239668065956, 840.4239668065958, 793.6779327514824, 633.6779327514824, 633.6779327514824, 633.6779327514824, 633.6779327514824, 633.6779327514824, 633.6779327514824, 633.6779327514824, 633.6779327514824, 633.6779327514824, 633.6779327514824, 633.6779327514824, 633.6779327514824, 633.6779327514824, 633.6779327514824, 633.6779327514824, 633.6779327514824, 633.6779327514824, 633.6779327514824, 633.6779327514824]}],\n",
       "                        {\"template\": {\"data\": {\"bar\": [{\"error_x\": {\"color\": \"#2a3f5f\"}, \"error_y\": {\"color\": \"#2a3f5f\"}, \"marker\": {\"line\": {\"color\": \"#E5ECF6\", \"width\": 0.5}}, \"type\": \"bar\"}], \"barpolar\": [{\"marker\": {\"line\": {\"color\": \"#E5ECF6\", \"width\": 0.5}}, \"type\": \"barpolar\"}], \"carpet\": [{\"aaxis\": {\"endlinecolor\": \"#2a3f5f\", \"gridcolor\": \"white\", \"linecolor\": \"white\", \"minorgridcolor\": \"white\", \"startlinecolor\": \"#2a3f5f\"}, \"baxis\": {\"endlinecolor\": \"#2a3f5f\", \"gridcolor\": \"white\", \"linecolor\": \"white\", \"minorgridcolor\": \"white\", \"startlinecolor\": \"#2a3f5f\"}, \"type\": \"carpet\"}], \"choropleth\": [{\"colorbar\": {\"outlinewidth\": 0, \"ticks\": \"\"}, \"type\": \"choropleth\"}], \"contour\": [{\"colorbar\": {\"outlinewidth\": 0, \"ticks\": \"\"}, \"colorscale\": [[0.0, \"#0d0887\"], [0.1111111111111111, \"#46039f\"], [0.2222222222222222, \"#7201a8\"], [0.3333333333333333, \"#9c179e\"], [0.4444444444444444, \"#bd3786\"], [0.5555555555555556, \"#d8576b\"], [0.6666666666666666, \"#ed7953\"], [0.7777777777777778, \"#fb9f3a\"], [0.8888888888888888, \"#fdca26\"], [1.0, \"#f0f921\"]], \"type\": \"contour\"}], \"contourcarpet\": [{\"colorbar\": {\"outlinewidth\": 0, \"ticks\": \"\"}, \"type\": \"contourcarpet\"}], \"heatmap\": [{\"colorbar\": {\"outlinewidth\": 0, \"ticks\": \"\"}, \"colorscale\": [[0.0, \"#0d0887\"], [0.1111111111111111, \"#46039f\"], [0.2222222222222222, \"#7201a8\"], [0.3333333333333333, \"#9c179e\"], [0.4444444444444444, \"#bd3786\"], [0.5555555555555556, \"#d8576b\"], [0.6666666666666666, \"#ed7953\"], [0.7777777777777778, \"#fb9f3a\"], [0.8888888888888888, \"#fdca26\"], [1.0, \"#f0f921\"]], \"type\": \"heatmap\"}], \"heatmapgl\": [{\"colorbar\": {\"outlinewidth\": 0, \"ticks\": \"\"}, \"colorscale\": [[0.0, \"#0d0887\"], [0.1111111111111111, \"#46039f\"], [0.2222222222222222, \"#7201a8\"], [0.3333333333333333, \"#9c179e\"], [0.4444444444444444, \"#bd3786\"], [0.5555555555555556, \"#d8576b\"], [0.6666666666666666, \"#ed7953\"], [0.7777777777777778, \"#fb9f3a\"], [0.8888888888888888, \"#fdca26\"], [1.0, \"#f0f921\"]], \"type\": \"heatmapgl\"}], \"histogram\": [{\"marker\": {\"colorbar\": {\"outlinewidth\": 0, \"ticks\": \"\"}}, \"type\": \"histogram\"}], \"histogram2d\": [{\"colorbar\": {\"outlinewidth\": 0, \"ticks\": \"\"}, \"colorscale\": [[0.0, \"#0d0887\"], [0.1111111111111111, \"#46039f\"], [0.2222222222222222, \"#7201a8\"], [0.3333333333333333, \"#9c179e\"], [0.4444444444444444, \"#bd3786\"], [0.5555555555555556, \"#d8576b\"], [0.6666666666666666, \"#ed7953\"], [0.7777777777777778, \"#fb9f3a\"], [0.8888888888888888, \"#fdca26\"], [1.0, \"#f0f921\"]], \"type\": \"histogram2d\"}], \"histogram2dcontour\": [{\"colorbar\": {\"outlinewidth\": 0, \"ticks\": \"\"}, \"colorscale\": [[0.0, \"#0d0887\"], [0.1111111111111111, \"#46039f\"], [0.2222222222222222, \"#7201a8\"], [0.3333333333333333, \"#9c179e\"], [0.4444444444444444, \"#bd3786\"], [0.5555555555555556, \"#d8576b\"], [0.6666666666666666, \"#ed7953\"], [0.7777777777777778, \"#fb9f3a\"], [0.8888888888888888, \"#fdca26\"], [1.0, \"#f0f921\"]], \"type\": \"histogram2dcontour\"}], \"mesh3d\": [{\"colorbar\": {\"outlinewidth\": 0, \"ticks\": \"\"}, \"type\": \"mesh3d\"}], \"parcoords\": [{\"line\": {\"colorbar\": {\"outlinewidth\": 0, \"ticks\": \"\"}}, \"type\": \"parcoords\"}], \"pie\": [{\"automargin\": true, \"type\": \"pie\"}], \"scatter\": [{\"marker\": {\"colorbar\": {\"outlinewidth\": 0, \"ticks\": \"\"}}, \"type\": \"scatter\"}], \"scatter3d\": [{\"line\": {\"colorbar\": {\"outlinewidth\": 0, \"ticks\": \"\"}}, \"marker\": {\"colorbar\": {\"outlinewidth\": 0, \"ticks\": \"\"}}, \"type\": \"scatter3d\"}], \"scattercarpet\": [{\"marker\": {\"colorbar\": {\"outlinewidth\": 0, \"ticks\": \"\"}}, \"type\": \"scattercarpet\"}], \"scattergeo\": [{\"marker\": {\"colorbar\": {\"outlinewidth\": 0, \"ticks\": \"\"}}, \"type\": \"scattergeo\"}], \"scattergl\": [{\"marker\": {\"colorbar\": {\"outlinewidth\": 0, \"ticks\": \"\"}}, \"type\": \"scattergl\"}], \"scattermapbox\": [{\"marker\": {\"colorbar\": {\"outlinewidth\": 0, \"ticks\": \"\"}}, \"type\": \"scattermapbox\"}], \"scatterpolar\": [{\"marker\": {\"colorbar\": {\"outlinewidth\": 0, \"ticks\": \"\"}}, \"type\": \"scatterpolar\"}], \"scatterpolargl\": [{\"marker\": {\"colorbar\": {\"outlinewidth\": 0, \"ticks\": \"\"}}, \"type\": \"scatterpolargl\"}], \"scatterternary\": [{\"marker\": {\"colorbar\": {\"outlinewidth\": 0, \"ticks\": \"\"}}, \"type\": \"scatterternary\"}], \"surface\": [{\"colorbar\": {\"outlinewidth\": 0, \"ticks\": \"\"}, \"colorscale\": [[0.0, \"#0d0887\"], [0.1111111111111111, \"#46039f\"], [0.2222222222222222, \"#7201a8\"], [0.3333333333333333, \"#9c179e\"], [0.4444444444444444, \"#bd3786\"], [0.5555555555555556, \"#d8576b\"], [0.6666666666666666, \"#ed7953\"], [0.7777777777777778, \"#fb9f3a\"], [0.8888888888888888, \"#fdca26\"], [1.0, \"#f0f921\"]], \"type\": \"surface\"}], \"table\": [{\"cells\": {\"fill\": {\"color\": \"#EBF0F8\"}, \"line\": {\"color\": \"white\"}}, \"header\": {\"fill\": {\"color\": \"#C8D4E3\"}, \"line\": {\"color\": \"white\"}}, \"type\": \"table\"}]}, \"layout\": {\"annotationdefaults\": {\"arrowcolor\": \"#2a3f5f\", \"arrowhead\": 0, \"arrowwidth\": 1}, \"coloraxis\": {\"colorbar\": {\"outlinewidth\": 0, \"ticks\": \"\"}}, \"colorscale\": {\"diverging\": [[0, \"#8e0152\"], [0.1, \"#c51b7d\"], [0.2, \"#de77ae\"], [0.3, \"#f1b6da\"], [0.4, \"#fde0ef\"], [0.5, \"#f7f7f7\"], [0.6, \"#e6f5d0\"], [0.7, \"#b8e186\"], [0.8, \"#7fbc41\"], [0.9, \"#4d9221\"], [1, \"#276419\"]], \"sequential\": [[0.0, \"#0d0887\"], [0.1111111111111111, \"#46039f\"], [0.2222222222222222, \"#7201a8\"], [0.3333333333333333, \"#9c179e\"], [0.4444444444444444, \"#bd3786\"], [0.5555555555555556, \"#d8576b\"], [0.6666666666666666, \"#ed7953\"], [0.7777777777777778, \"#fb9f3a\"], [0.8888888888888888, \"#fdca26\"], [1.0, \"#f0f921\"]], \"sequentialminus\": [[0.0, \"#0d0887\"], [0.1111111111111111, \"#46039f\"], [0.2222222222222222, \"#7201a8\"], [0.3333333333333333, \"#9c179e\"], [0.4444444444444444, \"#bd3786\"], [0.5555555555555556, \"#d8576b\"], [0.6666666666666666, \"#ed7953\"], [0.7777777777777778, \"#fb9f3a\"], [0.8888888888888888, \"#fdca26\"], [1.0, \"#f0f921\"]]}, \"colorway\": [\"#636efa\", \"#EF553B\", \"#00cc96\", \"#ab63fa\", \"#FFA15A\", \"#19d3f3\", \"#FF6692\", \"#B6E880\", \"#FF97FF\", \"#FECB52\"], \"font\": {\"color\": \"#2a3f5f\"}, \"geo\": {\"bgcolor\": \"white\", \"lakecolor\": \"white\", \"landcolor\": \"#E5ECF6\", \"showlakes\": true, \"showland\": true, \"subunitcolor\": \"white\"}, \"hoverlabel\": {\"align\": \"left\"}, \"hovermode\": \"closest\", \"mapbox\": {\"style\": \"light\"}, \"paper_bgcolor\": \"white\", \"plot_bgcolor\": \"#E5ECF6\", \"polar\": {\"angularaxis\": {\"gridcolor\": \"white\", \"linecolor\": \"white\", \"ticks\": \"\"}, \"bgcolor\": \"#E5ECF6\", \"radialaxis\": {\"gridcolor\": \"white\", \"linecolor\": \"white\", \"ticks\": \"\"}}, \"scene\": {\"xaxis\": {\"backgroundcolor\": \"#E5ECF6\", \"gridcolor\": \"white\", \"gridwidth\": 2, \"linecolor\": \"white\", \"showbackground\": true, \"ticks\": \"\", \"zerolinecolor\": \"white\"}, \"yaxis\": {\"backgroundcolor\": \"#E5ECF6\", \"gridcolor\": \"white\", \"gridwidth\": 2, \"linecolor\": \"white\", \"showbackground\": true, \"ticks\": \"\", \"zerolinecolor\": \"white\"}, \"zaxis\": {\"backgroundcolor\": \"#E5ECF6\", \"gridcolor\": \"white\", \"gridwidth\": 2, \"linecolor\": \"white\", \"showbackground\": true, \"ticks\": \"\", \"zerolinecolor\": \"white\"}}, \"shapedefaults\": {\"line\": {\"color\": \"#2a3f5f\"}}, \"ternary\": {\"aaxis\": {\"gridcolor\": \"white\", \"linecolor\": \"white\", \"ticks\": \"\"}, \"baxis\": {\"gridcolor\": \"white\", \"linecolor\": \"white\", \"ticks\": \"\"}, \"bgcolor\": \"#E5ECF6\", \"caxis\": {\"gridcolor\": \"white\", \"linecolor\": \"white\", \"ticks\": \"\"}}, \"title\": {\"x\": 0.05}, \"xaxis\": {\"automargin\": true, \"gridcolor\": \"white\", \"linecolor\": \"white\", \"ticks\": \"\", \"title\": {\"standoff\": 15}, \"zerolinecolor\": \"white\", \"zerolinewidth\": 2}, \"yaxis\": {\"automargin\": true, \"gridcolor\": \"white\", \"linecolor\": \"white\", \"ticks\": \"\", \"title\": {\"standoff\": 15}, \"zerolinecolor\": \"white\", \"zerolinewidth\": 2}}}, \"title\": {\"text\": \"BETA: Take Profit Optimisation (SL = 41, Mul = 6, Range = 40)\", \"x\": 0.5}, \"xaxis\": {\"title\": {\"text\": \"Take Profit (pips)\"}}, \"yaxis\": {\"title\": {\"text\": \"Profit (pips)\"}}},\n",
       "                        {\"responsive\": true}\n",
       "                    ).then(function(){\n",
       "                            \n",
       "var gd = document.getElementById('723f9c31-f248-4130-8dd4-a94f6d272e51');\n",
       "var x = new MutationObserver(function (mutations, observer) {{\n",
       "        var display = window.getComputedStyle(gd).display;\n",
       "        if (!display || display === 'none') {{\n",
       "            console.log([gd, 'removed!']);\n",
       "            Plotly.purge(gd);\n",
       "            observer.disconnect();\n",
       "        }}\n",
       "}});\n",
       "\n",
       "// Listen for the removal of the full notebook cells\n",
       "var notebookContainer = gd.closest('#notebook-container');\n",
       "if (notebookContainer) {{\n",
       "    x.observe(notebookContainer, {childList: true});\n",
       "}}\n",
       "\n",
       "// Listen for the clearing of the current output cell\n",
       "var outputEl = gd.closest('.output');\n",
       "if (outputEl) {{\n",
       "    x.observe(outputEl, {childList: true});\n",
       "}}\n",
       "\n",
       "                        })\n",
       "                };\n",
       "                });\n",
       "            </script>\n",
       "        </div>"
      ]
     },
     "metadata": {},
     "output_type": "display_data"
    }
   ],
   "source": [
    "# Take Profit Analysis\n",
    "\n",
    "multiplier = 6\n",
    "length = 40\n",
    "stop = 41\n",
    "\n",
    "profits = []\n",
    "take_profits = range(10, 200, 2)\n",
    "\n",
    "for take_profit in take_profits:\n",
    "    signals = load_beta_trades(\"./beta/BETA.csv\")\n",
    "    total_profit = 0.0\n",
    "    wins = 0\n",
    "    losses = 0\n",
    "    for signal in signals[\"TP1\"]:\n",
    "        signal.set_stop_loss_pips(stop)\n",
    "        signal.set_take_profit_pips(take_profit)\n",
    "\n",
    "        df = get_supertrend(signal.ticker, multiplier=multiplier, length=length, sample_mins=60)\n",
    "        profit = supertrend_trailing(df, signal) * pip_factor(signal.ticker)\n",
    "        if profit > 0:\n",
    "            wins += 1\n",
    "        else:\n",
    "            losses += 1\n",
    "        total_profit += profit\n",
    "        #print(signal, profit)\n",
    "    profits.append(total_profit)\n",
    "    print(take_profit, total_profit, wins, losses)\n",
    "    \n",
    "fig = go.Figure(data=go.Scatter(x=list(take_profits), y=profits))\n",
    "fig.update_layout(\n",
    "    title=f\"BETA: Take Profit Optimisation (SL = {stop}, Mul = {multiplier}, Range = {length})\",\n",
    "    title_x=0.5,\n",
    "    xaxis_title=\"Take Profit (pips)\",\n",
    "    yaxis_title=\"Profit (pips)\"\n",
    ")\n",
    "fig.show()"
   ]
  },
  {
   "cell_type": "code",
   "execution_count": null,
   "metadata": {},
   "outputs": [],
   "source": [
    "# Example plotly scatter plot\n",
    "fig = go.Figure(data=go.Scatter(x=list(take_profits), y=profits))\n",
    "fig.update_layout(\n",
    "    title=\"BETA Take Profit Optimisation\",\n",
    "    title_x=0.5,\n",
    "    xaxis_title=\"Take Profit Level (pips)\",\n",
    "    yaxis_title=\"Profit (pips)\"\n",
    ")\n",
    "fig.show()"
   ]
  },
  {
   "cell_type": "code",
   "execution_count": null,
   "metadata": {},
   "outputs": [],
   "source": [
    "# Example plotly candlestick plot\n",
    "dfp = df.loc[\"2019-01-14 21:00\":\"2019-01-14 22:00\"]\n",
    "fig = go.Figure(data=[go.Candlestick(x=dfp.index,\n",
    "                open=dfp['Open'],\n",
    "                high=dfp['High'],\n",
    "                low=dfp['Low'],\n",
    "                close=dfp['Close'])])\n",
    "\n",
    "fig.show()"
   ]
  },
  {
   "cell_type": "code",
   "execution_count": null,
   "metadata": {},
   "outputs": [],
   "source": [
    "# How to pretty print a dataframe\n",
    "with pd.option_context('display.max_rows', None, 'display.max_columns', None):  # more options can be specified also\n",
    "    display(df_60)"
   ]
  }
 ],
 "metadata": {
  "kernelspec": {
   "display_name": "Python 3",
   "language": "python",
   "name": "python3"
  },
  "language_info": {
   "codemirror_mode": {
    "name": "ipython",
    "version": 3
   },
   "file_extension": ".py",
   "mimetype": "text/x-python",
   "name": "python",
   "nbconvert_exporter": "python",
   "pygments_lexer": "ipython3",
   "version": "3.8.1"
  }
 },
 "nbformat": 4,
 "nbformat_minor": 2
}
