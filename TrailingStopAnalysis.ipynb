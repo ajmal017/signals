{
 "cells": [
  {
   "cell_type": "code",
   "execution_count": 1,
   "metadata": {},
   "outputs": [],
   "source": [
    "import pandas as pd\n",
    "import plotly.graph_objects as go\n",
    "from signals import *"
   ]
  },
  {
   "cell_type": "code",
   "execution_count": null,
   "metadata": {
    "scrolled": true
   },
   "outputs": [],
   "source": [
    "# Can we reasample dataframes?\n",
    "print(load_ticker(\"AUDCAD\").head(2))\n",
    "print(load_ticker(\"AUDCAD\", 60).head(2))\n",
    "# Yes!"
   ]
  },
  {
   "cell_type": "code",
   "execution_count": null,
   "metadata": {
    "scrolled": false
   },
   "outputs": [],
   "source": [
    "# Can we calculate the supertrend?\n",
    "from supertrend.Indicators.Super_Trend import ST\n",
    "print(\"Loading data\")\n",
    "df = load_ticker(\"AUDCAD\", 60)\n",
    "\n",
    "print(\"Calculating SuperTrend\")\n",
    "df_60_ST = ST(df, 3, 10)[[\"Open\",\"High\",\"Low\",\"Close\",\"ATR\",\"SuperTrend\",\"SuperTrendType\"]]\n",
    "display(df_60_ST)\n",
    "# Yes!"
   ]
  },
  {
   "cell_type": "code",
   "execution_count": 5,
   "metadata": {},
   "outputs": [],
   "source": [
    "# How does indexing work in a resampled df\n",
    "# Signal comes in at 03:30, so the 03:00 candle has not finished yet, we should use the \n",
    "# indicator from the previous candle, 02:00\n",
    "#display(pd.concat([df_60.loc[:\"2019-10-29 03:30\"][-2:],df_60.loc[\"2019-10-29 03:30\":]])) # -> Starts at 04:00, is this what I want\n",
    "\n",
    "def trailing_df(df, datetime_str):\n",
    "    \"\"\"\n",
    "    Given a signal within a candle, this function returns a df starting with the most recent \n",
    "    complete candle.\n",
    "    \n",
    "    e.g.\n",
    "    1 hr sampling. 03:30 signal time (3-4 candle not yet complete), returns starting with the 02:00 candle\n",
    "    \"\"\"  \n",
    "    return pd.concat([df.loc[:datetime_str][-2:],df.loc[datetime_str:]])\n",
    "    "
   ]
  },
  {
   "cell_type": "code",
   "execution_count": 36,
   "metadata": {},
   "outputs": [],
   "source": [
    "def supertrend_trailing(df_full, signal):\n",
    "    \"\"\"\n",
    "    Process signal using trailing supertrend stop loss.\n",
    "    TODO: accound for spread and fees\n",
    "    \"\"\"\n",
    "    #display(df_full)\n",
    "    df = trailing_df(df_full, signal.datetime_str)\n",
    "    #display(df)\n",
    "\n",
    "    real_entry = signal.entry_price # Assume trade entered immediatley\n",
    "    stop_loss = signal.stop_loss\n",
    "    \n",
    "    ohlc_values = df.iterrows()\n",
    "    _, previous_ohlc = next(ohlc_values)\n",
    "    \n",
    "    previous_type = previous_ohlc.SuperTrendType\n",
    "    previous_supertrend = previous_ohlc.SuperTrend\n",
    "    \n",
    "\n",
    "    for dt, ohlc in ohlc_values:\n",
    "        if signal.type == \"BUY\":\n",
    "            if previous_type == 1:\n",
    "                if stop_loss < previous_supertrend:\n",
    "                    stop_loss = previous_supertrend\n",
    "            \n",
    "            if ohlc.High >= signal.take_profit:\n",
    "                return signal.take_profit - real_entry\n",
    "            if ohlc.Low <= stop_loss:\n",
    "                return stop_loss - real_entry\n",
    "            \n",
    "        if signal.type == \"SELL\":\n",
    "            if previous_type == -1:\n",
    "                if stop_loss > previous_supertrend:\n",
    "                    stop_loss = previous_supertrend   \n",
    "                    \n",
    "            if ohlc.Low <= signal.take_profit:\n",
    "                return real_entry - signal.take_profit\n",
    "            if ohlc.High >= stop_loss:\n",
    "                return real_entry - stop_loss\n",
    "            \n",
    "        previous_type = ohlc.SuperTrendType\n",
    "        previous_supertrend = ohlc.SuperTrend\n",
    "        \n",
    "    return 0.0\n",
    "        "
   ]
  },
  {
   "cell_type": "code",
   "execution_count": 130,
   "metadata": {
    "scrolled": false
   },
   "outputs": [
    {
     "name": "stdout",
     "output_type": "stream",
     "text": [
      "NZDCAD: 2019-12-04 12:44: Entry: 0.8656, SL: 0.868, TP: 0.8636 20.000000000000018\n"
     ]
    }
   ],
   "source": [
    "beta_tp1 = Signal(ticker=\"NZDCAD\", datetime_str=\"2019-12-04 12:44\",\n",
    "                  entry_price=0.8656, stop_loss=0.868, take_profit=0.8636)\n",
    "df = get_supertrend(beta_tp1.ticker, 6, 40, 60)\n",
    "\n",
    "print(beta_tp1, supertrend_trailing(df, beta_tp1) * pip_factor(beta_tp1.ticker))"
   ]
  },
  {
   "cell_type": "markdown",
   "metadata": {},
   "source": [
    "With SL, TP and Trailing loss\n",
    "60mins\n",
    "SL = 50 pips\n",
    "TP = 70 pips\n",
    "Length = 40\n",
    "Multiplier = 6\n",
    "profit = 1514 pips (30 wins, 22 losses)\n",
    "\n",
    "30mins\n",
    "SL = 50 pips\n",
    "TP = 70 pips\n",
    "Length = 40\n",
    "Multiplier = 8\n",
    "profit = 1430 pips (29 wins, 23 losses)\n",
    "\n",
    "15mins\n",
    "SL = 50 pips\n",
    "TP = 70 pips\n",
    "Length = 40\n",
    "Multiplier = 13\n",
    "profit = 1227 pips (27 wins, 25 losses)"
   ]
  },
  {
   "cell_type": "code",
   "execution_count": 129,
   "metadata": {},
   "outputs": [
    {
     "name": "stdout",
     "output_type": "stream",
     "text": [
      "11 1059.433554519316 29 23\n",
      "12 1203.7949395596272 27 25\n",
      "13 1227.3398707565373 27 25\n"
     ]
    }
   ],
   "source": [
    "# Multiplier Analysis\n",
    "\n",
    "for multiplier in [11, 12, 13]:\n",
    "    signals = load_beta_trades(\"./beta/BETA.csv\")\n",
    "    total_profit = 0.0\n",
    "    wins = 0\n",
    "    losses = 0\n",
    "    for signal in signals[\"TP1\"]:\n",
    "        signal.set_stop_loss_pips(50)\n",
    "        signal.set_take_profit_pips(70)\n",
    "\n",
    "        df = get_supertrend(signal.ticker, multiplier=multiplier, length=40, sample_mins=15)\n",
    "        profit = supertrend_trailing(df, signal) * pip_factor(signal.ticker)\n",
    "        if profit > 0:\n",
    "            wins += 1\n",
    "        else:\n",
    "            losses += 1\n",
    "        total_profit += profit\n",
    "        # print(signal, profit)\n",
    "    print(multiplier, total_profit, wins, losses)"
   ]
  },
  {
   "cell_type": "code",
   "execution_count": 126,
   "metadata": {},
   "outputs": [
    {
     "name": "stdout",
     "output_type": "stream",
     "text": [
      "20 1198.5987056670417 27 25\n",
      "40 1430.2646701937472 29 23\n",
      "60 1300.8804053538481 28 24\n",
      "80 1298.4554808567623 28 24\n",
      "100 1300.020551115588 28 24\n"
     ]
    }
   ],
   "source": [
    "# Length Analysis\n",
    "\n",
    "for length in range(20, 120, 20):\n",
    "    signals = load_beta_trades(\"./beta/BETA.csv\")\n",
    "    total_profit = 0.0\n",
    "    wins = 0\n",
    "    losses = 0\n",
    "    for signal in signals[\"TP1\"]:\n",
    "        signal.set_stop_loss_pips(50)\n",
    "        signal.set_take_profit_pips(70)\n",
    "        df = get_supertrend(signal.ticker, multiplier=8, length=length, sample_mins=30)\n",
    "        profit = supertrend_trailing(df, signal) * pip_factor(signal.ticker)\n",
    "        if profit > 0:\n",
    "            wins += 1\n",
    "        else:\n",
    "            losses += 1\n",
    "        total_profit += profit\n",
    "        #print(signal, profit)\n",
    "    print(length, total_profit, wins, losses)"
   ]
  },
  {
   "cell_type": "code",
   "execution_count": null,
   "metadata": {},
   "outputs": [],
   "source": [
    "# Example plotly scatter plot\n",
    "fig = go.Figure(data=go.Scatter(x=list(take_profits), y=profits))\n",
    "fig.update_layout(\n",
    "    title=\"BETA Take Profit Optimisation\",\n",
    "    title_x=0.5,\n",
    "    xaxis_title=\"Take Profit Level (pips)\",\n",
    "    yaxis_title=\"Profit (pips)\"\n",
    ")\n",
    "fig.show()"
   ]
  },
  {
   "cell_type": "code",
   "execution_count": null,
   "metadata": {},
   "outputs": [],
   "source": [
    "# Example plotly candlestick plot\n",
    "dfp = df.loc[\"2019-01-14 21:00\":\"2019-01-14 22:00\"]\n",
    "fig = go.Figure(data=[go.Candlestick(x=dfp.index,\n",
    "                open=dfp['Open'],\n",
    "                high=dfp['High'],\n",
    "                low=dfp['Low'],\n",
    "                close=dfp['Close'])])\n",
    "\n",
    "fig.show()"
   ]
  },
  {
   "cell_type": "code",
   "execution_count": null,
   "metadata": {},
   "outputs": [],
   "source": [
    "# How to pretty print a dataframe\n",
    "with pd.option_context('display.max_rows', None, 'display.max_columns', None):  # more options can be specified also\n",
    "    display(df_60)"
   ]
  }
 ],
 "metadata": {
  "kernelspec": {
   "display_name": "Python 3",
   "language": "python",
   "name": "python3"
  },
  "language_info": {
   "codemirror_mode": {
    "name": "ipython",
    "version": 3
   },
   "file_extension": ".py",
   "mimetype": "text/x-python",
   "name": "python",
   "nbconvert_exporter": "python",
   "pygments_lexer": "ipython3",
   "version": "3.8.1"
  }
 },
 "nbformat": 4,
 "nbformat_minor": 2
}
