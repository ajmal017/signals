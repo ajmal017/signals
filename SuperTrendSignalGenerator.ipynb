{
 "cells": [
  {
   "cell_type": "code",
   "execution_count": null,
   "metadata": {
    "scrolled": true
   },
   "outputs": [],
   "source": [
    "from signals import *\n",
    "import pandas as pd\n",
    "import numpy as np\n",
    "from hyperopt import fmin, tpe, hp\n",
    "from indicators import CCI, SuperTrend\n",
    "from matplotlib import pyplot as plt\n",
    "from math import exp, log\n",
    "\n",
    "%matplotlib inline\n",
    "\n",
    "df = load_ticker(\"EURUSD\", 60)\n",
    "begin = df.index[0]\n",
    "end = df.index[-1]\n",
    "days = (end-begin).days\n",
    "all_months = days * 12 / 365\n"
   ]
  },
  {
   "cell_type": "markdown",
   "metadata": {},
   "source": [
    "### Single Supertrend Signal"
   ]
  },
  {
   "cell_type": "code",
   "execution_count": 48,
   "metadata": {
    "scrolled": false
   },
   "outputs": [
    {
     "name": "stdout",
     "output_type": "stream",
     "text": [
      "403 Trades, Win Ratio = 0.63\n",
      "£141,244.08, 13.9 months @ 42.8%\n"
     ]
    },
    {
     "data": {
      "image/png": "[encoded data removed]",
      "text/plain": [
       "<Figure size 432x288 with 1 Axes>"
      ]
     },
     "metadata": {
      "needs_background": "light"
     },
     "output_type": "display_data"
    }
   ],
   "source": [
    "def supertrend_signals(ticker, frequency, multiplier, period, cci_period,\n",
    "                       take_profit, stop_loss, verbose=False, \n",
    "                       risk=0.05, date=None, \n",
    "                       tp_follow=False, sl_follow=False):\n",
    "\n",
    "    period = int(period)\n",
    "    cci_period = int(period)\n",
    "    balance = 1000\n",
    "    ST = 0\n",
    "    last_ST = 0\n",
    "    last_CCI = 0\n",
    "    signal = 0\n",
    "    stance = 0\n",
    "    take_profit_price = None\n",
    "    stop_loss_price = None\n",
    "    entry = None\n",
    "    entry_date = None\n",
    "    profit_pips = 0.0\n",
    "    win = 0\n",
    "    loss = 0\n",
    "    profits = []\n",
    "    balances = [balance]\n",
    "    risk_stop_loss = stop_loss\n",
    "        \n",
    "    # TODO: average spread per ticker\n",
    "    spread = 2.0 / pip_factor(ticker)\n",
    "    fee_pounds_per_lot = 4\n",
    "\n",
    "    df = load_ticker(ticker, frequency)\n",
    "    if date:\n",
    "        df = df.loc[date]\n",
    "    \n",
    "    trend_col_name = 'STX'\n",
    "    SuperTrend(df, period, multiplier)\n",
    "    cci_col_name = 'CCI'\n",
    "    CCI(df, cci_period)\n",
    "\n",
    "    for dt, row in df.iterrows():\n",
    "        signal = 0\n",
    "        \n",
    "        ST_val = row[trend_col_name]            \n",
    "        CCI_val = row[cci_col_name]\n",
    "            \n",
    "        if CCI_val > -100 and last_CCI < -100 and ST_val > 0:\n",
    "            signal = 1\n",
    "        elif CCI_val < 100 and last_CCI > 100 and ST_val < 0:\n",
    "            signal = -1\n",
    "            \n",
    "        last_ST = ST_val\n",
    "        last_CCI = CCI_val\n",
    "        \n",
    "        def close_buy(exit_price):\n",
    "            nonlocal profit_pips, profits, entry, win, loss, balance\n",
    "            if entry is None:\n",
    "                return\n",
    "            trade_profit = (exit_price - entry) * pip_factor(ticker)\n",
    "            profit_pips += trade_profit\n",
    "            profits.append(trade_profit)\n",
    "            \n",
    "            pounds_per_pip = (risk * balance) / (risk_stop_loss + spread)\n",
    "            lots = pounds_per_pip/10.\n",
    "            fees = lots * fee_pounds_per_lot\n",
    "            balance += (pounds_per_pip * trade_profit) - fees\n",
    "            balances.append(balance)\n",
    "            \n",
    "            entry = None\n",
    "\n",
    "            if trade_profit > 0:\n",
    "                win += 1\n",
    "            else:\n",
    "                loss += 1\n",
    "                \n",
    "            if verbose > 1:\n",
    "                print(f\"{entry_date.date()} -> {dt.date()}: Buy : balance = £{balance:,.0f}, {trade_profit:.0f} pips, Lots = {pounds_per_pip/10:.2f}\")\n",
    "            \n",
    "        def close_sell(exit_price):\n",
    "            nonlocal profit_pips, profits, entry, win, loss, balance\n",
    "            if entry is None:\n",
    "                return\n",
    "            trade_profit = (entry - exit_price) * pip_factor(ticker)\n",
    "            profit_pips += trade_profit\n",
    "            profits.append(trade_profit)\n",
    "            \n",
    "            pounds_per_pip = (risk * balance) / (risk_stop_loss + spread)\n",
    "            lots = pounds_per_pip/10.\n",
    "            fees = lots * fee_pounds_per_lot\n",
    "            balance += (pounds_per_pip * trade_profit) - fees    \n",
    "            balances.append(balance)\n",
    "\n",
    "            entry = None\n",
    "\n",
    "            if trade_profit > 0:\n",
    "                win += 1\n",
    "            else:\n",
    "                loss += 1\n",
    "                        \n",
    "            if verbose > 1:\n",
    "                print(f\"{entry_date.date()} -> {dt.date()}: Sell: balance = £{balance:,.0f} {trade_profit:.0f} pips, Lots = {pounds_per_pip/10:.2f}\")\n",
    "                                \n",
    "                                    \n",
    "        def open_buy(price, dt):\n",
    "            nonlocal entry, take_profit_price, stop_loss_price, stance, entry_date\n",
    "            entry = price\n",
    "            take_profit_price = entry + (take_profit/pip_factor(ticker))\n",
    "            stop_loss_price = entry - (stop_loss/pip_factor(ticker))\n",
    "            stance = 1\n",
    "            entry_date = dt\n",
    "            \n",
    "        def open_sell(price, dt):\n",
    "            nonlocal entry, take_profit_price, stop_loss_price, stance, entry_date\n",
    "            entry = price\n",
    "            take_profit_price = entry - (take_profit/pip_factor(ticker))\n",
    "            stop_loss_price = entry + (stop_loss/pip_factor(ticker))\n",
    "            stance = -1\n",
    "            entry_date = dt\n",
    "            \n",
    "        if stance > 0:\n",
    "            if row.High > take_profit_price:\n",
    "                stance = 0\n",
    "                close_buy(take_profit_price)\n",
    "                if tp_follow:\n",
    "                    open_buy(take_profit_price + spread, dt)\n",
    "                    \n",
    "            if row.Low < stop_loss_price:\n",
    "                stance = 0\n",
    "                close_buy(stop_loss_price)\n",
    "                if sl_follow:\n",
    "                    open_buy(stop_loss_price + spread, dt)\n",
    "\n",
    "        elif stance < 0:\n",
    "            if row.Low < take_profit_price:\n",
    "                stance = 0\n",
    "                close_sell(take_profit_price)\n",
    "                if tp_follow:\n",
    "                    open_sell(take_profit_price + spread, dt)\n",
    "\n",
    "            if row.High > stop_loss_price:\n",
    "                stance = 0\n",
    "                close_sell(stop_loss_price)\n",
    "                if sl_follow:\n",
    "                    open_sell(stop_loss_price + spread, dt)\n",
    "                    \n",
    "        ##### Also close with SL ####\n",
    "        if stance != ST_val:\n",
    "            if stance > 0:\n",
    "                close_buy(row.Close)\n",
    "                stance = 0\n",
    "            if stance < 0:\n",
    "                close_sell(row.Close)\n",
    "                stance = 0\n",
    "            \n",
    "        if signal != 0 and stance != signal:\n",
    "            if signal == 1:\n",
    "                if stance == -1:\n",
    "                    close_sell(row.Close)\n",
    "                open_buy(row.Close + spread, dt)\n",
    "\n",
    "            if signal == -1:\n",
    "                if stance == 1:\n",
    "                    close_buy(row.Close)\n",
    "                open_sell(row.Close + spread, dt)\n",
    "                \n",
    "    win_ratio = 1.*win/(win+loss)\n",
    "\n",
    "    if verbose > 0:\n",
    "        print(f\"{win + loss} Trades, Win Ratio = {win_ratio:.2}\")\n",
    "        #plt.hist(profits, bins=20)\n",
    "        plt.plot(balances)\n",
    "        \n",
    "    if verbose != 0:\n",
    "        return -balance\n",
    "    else:\n",
    "        return -((balance-1000) * win_ratio) / all_months\n",
    "        #return win-loss\n",
    "        #return -balance\n",
    "        #return -profit_pips / stop_loss # Minimise stop loss\n",
    "        #return -np.mean(profits)/np.std(profits) # Sharpe Ratio\n",
    "        #return -1.*win/(win+loss)  \n",
    "\n",
    "eurusd = {'ticker': \"EURUSD\", \"frequency\": 60, # 75% £39,190.47\n",
    "          'cci_period': 147.0, 'multiplier': 3.5, 'period': 8.0, 'stop_loss': 34.0, 'take_profit': 29.0}\n",
    "eurjpy = {'ticker': 'EURJPY','frequency': 60,  # 21% £83,324.75\n",
    "          'cci_period': 91.0, 'multiplier': 28.0, 'period': 199.0, 'stop_loss': 12.0, 'take_profit': 240.0}\n",
    "audusd = {'ticker': 'AUDUSD','frequency': 60, # 65% £16,120\n",
    "          'cci_period': 23.0, 'multiplier': 2.1, 'period': 5.0, 'stop_loss': 18.0, 'take_profit': 18.0} # 8315\n",
    "audcad = {'ticker': 'AUDCAD','frequency': 60, # 63% £141,244.08\n",
    "          'cci_period': 104.0, 'multiplier': 40, 'period': 8.0, 'stop_loss': 10.0, 'take_profit': 11.0}\n",
    "\n",
    "final_balance = -supertrend_signals(**audcad, verbose=1)\n",
    "monthly_percent_return = (exp(log(final_balance/1000)/all_months)-1.0)*100\n",
    "print(f\"£{final_balance:,.2f}, {all_months:.1f} months @ {monthly_percent_return:.1f}%\")\n"
   ]
  },
  {
   "cell_type": "code",
   "execution_count": 44,
   "metadata": {},
   "outputs": [],
   "source": [
    "def search_for(ticker):\n",
    "\n",
    "    def objective(params):\n",
    "        return supertrend_signals(ticker=ticker, frequency=60, **params)\n",
    "    \n",
    "\n",
    "    space = {'multiplier': hp.quniform('multiplier', 2, 50, 0.1),\n",
    "             'period': hp.quniform('period', 2, 200, 1),\n",
    "             'cci_period': hp.quniform('cci_period', 2, 200, 1),\n",
    "             'take_profit': hp.quniform('take_profit', 10, 50, 1),\n",
    "             'stop_loss': hp.quniform('stop_loss', 10, 50, 1)\n",
    "            }\n",
    "    print(f\"{ticker}:\")\n",
    "    for _ in range(3):\n",
    "        print(fmin(objective, space, algo=tpe.suggest, max_evals=5120))\n"
   ]
  },
  {
   "cell_type": "code",
   "execution_count": 45,
   "metadata": {},
   "outputs": [
    {
     "name": "stdout",
     "output_type": "stream",
     "text": [
      "EURUSD:\n",
      " 99%|█████████▉| 5063/5120 [3:07:54<02:06,  2.23s/trial, best loss: -2981.03451669653]   \n"
     ]
    },
    {
     "ename": "KeyboardInterrupt",
     "evalue": "",
     "output_type": "error",
     "traceback": [
      "\u001b[0;31m---------------------------------------------------------------------------\u001b[0m",
      "\u001b[0;31mKeyboardInterrupt\u001b[0m                         Traceback (most recent call last)",
      "\u001b[0;32m<ipython-input-45-19a22fc117e4>\u001b[0m in \u001b[0;36m<module>\u001b[0;34m\u001b[0m\n\u001b[0;32m----> 1\u001b[0;31m \u001b[0msearch_for\u001b[0m\u001b[0;34m(\u001b[0m\u001b[0;34m\"EURUSD\"\u001b[0m\u001b[0;34m)\u001b[0m\u001b[0;34m\u001b[0m\u001b[0;34m\u001b[0m\u001b[0m\n\u001b[0m\u001b[1;32m      2\u001b[0m \u001b[0msearch_for\u001b[0m\u001b[0;34m(\u001b[0m\u001b[0;34m\"AUDCAD\"\u001b[0m\u001b[0;34m)\u001b[0m\u001b[0;34m\u001b[0m\u001b[0;34m\u001b[0m\u001b[0m\n\u001b[1;32m      3\u001b[0m \u001b[0msearch_for\u001b[0m\u001b[0;34m(\u001b[0m\u001b[0;34m\"EURAUD\"\u001b[0m\u001b[0;34m)\u001b[0m\u001b[0;34m\u001b[0m\u001b[0;34m\u001b[0m\u001b[0m\n\u001b[1;32m      4\u001b[0m \u001b[0msearch_for\u001b[0m\u001b[0;34m(\u001b[0m\u001b[0;34m\"EURCHF\"\u001b[0m\u001b[0;34m)\u001b[0m\u001b[0;34m\u001b[0m\u001b[0;34m\u001b[0m\u001b[0m\n\u001b[1;32m      5\u001b[0m \u001b[0msearch_for\u001b[0m\u001b[0;34m(\u001b[0m\u001b[0;34m\"EURGBP\"\u001b[0m\u001b[0;34m)\u001b[0m\u001b[0;34m\u001b[0m\u001b[0;34m\u001b[0m\u001b[0m\n",
      "\u001b[0;32m<ipython-input-44-ca2dd5decac1>\u001b[0m in \u001b[0;36msearch_for\u001b[0;34m(ticker)\u001b[0m\n\u001b[1;32m     13\u001b[0m     \u001b[0mprint\u001b[0m\u001b[0;34m(\u001b[0m\u001b[0;34mf\"{ticker}:\"\u001b[0m\u001b[0;34m)\u001b[0m\u001b[0;34m\u001b[0m\u001b[0;34m\u001b[0m\u001b[0m\n\u001b[1;32m     14\u001b[0m     \u001b[0;32mfor\u001b[0m \u001b[0m_\u001b[0m \u001b[0;32min\u001b[0m \u001b[0mrange\u001b[0m\u001b[0;34m(\u001b[0m\u001b[0;36m3\u001b[0m\u001b[0;34m)\u001b[0m\u001b[0;34m:\u001b[0m\u001b[0;34m\u001b[0m\u001b[0;34m\u001b[0m\u001b[0m\n\u001b[0;32m---> 15\u001b[0;31m         \u001b[0mprint\u001b[0m\u001b[0;34m(\u001b[0m\u001b[0mfmin\u001b[0m\u001b[0;34m(\u001b[0m\u001b[0mobjective\u001b[0m\u001b[0;34m,\u001b[0m \u001b[0mspace\u001b[0m\u001b[0;34m,\u001b[0m \u001b[0malgo\u001b[0m\u001b[0;34m=\u001b[0m\u001b[0mtpe\u001b[0m\u001b[0;34m.\u001b[0m\u001b[0msuggest\u001b[0m\u001b[0;34m,\u001b[0m \u001b[0mmax_evals\u001b[0m\u001b[0;34m=\u001b[0m\u001b[0;36m5120\u001b[0m\u001b[0;34m)\u001b[0m\u001b[0;34m)\u001b[0m\u001b[0;34m\u001b[0m\u001b[0;34m\u001b[0m\u001b[0m\n\u001b[0m",
      "\u001b[0;32m~/miniconda3/envs/forex/lib/python3.8/site-packages/hyperopt/fmin.py\u001b[0m in \u001b[0;36mfmin\u001b[0;34m(fn, space, algo, max_evals, timeout, loss_threshold, trials, rstate, allow_trials_fmin, pass_expr_memo_ctrl, catch_eval_exceptions, verbose, return_argmin, points_to_evaluate, max_queue_len, show_progressbar)\u001b[0m\n\u001b[1;32m    507\u001b[0m \u001b[0;34m\u001b[0m\u001b[0m\n\u001b[1;32m    508\u001b[0m     \u001b[0;31m# next line is where the fmin is actually executed\u001b[0m\u001b[0;34m\u001b[0m\u001b[0;34m\u001b[0m\u001b[0;34m\u001b[0m\u001b[0m\n\u001b[0;32m--> 509\u001b[0;31m     \u001b[0mrval\u001b[0m\u001b[0;34m.\u001b[0m\u001b[0mexhaust\u001b[0m\u001b[0;34m(\u001b[0m\u001b[0;34m)\u001b[0m\u001b[0;34m\u001b[0m\u001b[0;34m\u001b[0m\u001b[0m\n\u001b[0m\u001b[1;32m    510\u001b[0m \u001b[0;34m\u001b[0m\u001b[0m\n\u001b[1;32m    511\u001b[0m     \u001b[0;32mif\u001b[0m \u001b[0mreturn_argmin\u001b[0m\u001b[0;34m:\u001b[0m\u001b[0;34m\u001b[0m\u001b[0;34m\u001b[0m\u001b[0m\n",
      "\u001b[0;32m~/miniconda3/envs/forex/lib/python3.8/site-packages/hyperopt/fmin.py\u001b[0m in \u001b[0;36mexhaust\u001b[0;34m(self)\u001b[0m\n\u001b[1;32m    328\u001b[0m     \u001b[0;32mdef\u001b[0m \u001b[0mexhaust\u001b[0m\u001b[0;34m(\u001b[0m\u001b[0mself\u001b[0m\u001b[0;34m)\u001b[0m\u001b[0;34m:\u001b[0m\u001b[0;34m\u001b[0m\u001b[0;34m\u001b[0m\u001b[0m\n\u001b[1;32m    329\u001b[0m         \u001b[0mn_done\u001b[0m \u001b[0;34m=\u001b[0m \u001b[0mlen\u001b[0m\u001b[0;34m(\u001b[0m\u001b[0mself\u001b[0m\u001b[0;34m.\u001b[0m\u001b[0mtrials\u001b[0m\u001b[0;34m)\u001b[0m\u001b[0;34m\u001b[0m\u001b[0;34m\u001b[0m\u001b[0m\n\u001b[0;32m--> 330\u001b[0;31m         \u001b[0mself\u001b[0m\u001b[0;34m.\u001b[0m\u001b[0mrun\u001b[0m\u001b[0;34m(\u001b[0m\u001b[0mself\u001b[0m\u001b[0;34m.\u001b[0m\u001b[0mmax_evals\u001b[0m \u001b[0;34m-\u001b[0m \u001b[0mn_done\u001b[0m\u001b[0;34m,\u001b[0m \u001b[0mblock_until_done\u001b[0m\u001b[0;34m=\u001b[0m\u001b[0mself\u001b[0m\u001b[0;34m.\u001b[0m\u001b[0masynchronous\u001b[0m\u001b[0;34m)\u001b[0m\u001b[0;34m\u001b[0m\u001b[0;34m\u001b[0m\u001b[0m\n\u001b[0m\u001b[1;32m    331\u001b[0m         \u001b[0mself\u001b[0m\u001b[0;34m.\u001b[0m\u001b[0mtrials\u001b[0m\u001b[0;34m.\u001b[0m\u001b[0mrefresh\u001b[0m\u001b[0;34m(\u001b[0m\u001b[0;34m)\u001b[0m\u001b[0;34m\u001b[0m\u001b[0;34m\u001b[0m\u001b[0m\n\u001b[1;32m    332\u001b[0m         \u001b[0;32mreturn\u001b[0m \u001b[0mself\u001b[0m\u001b[0;34m\u001b[0m\u001b[0;34m\u001b[0m\u001b[0m\n",
      "\u001b[0;32m~/miniconda3/envs/forex/lib/python3.8/site-packages/hyperopt/fmin.py\u001b[0m in \u001b[0;36mrun\u001b[0;34m(self, N, block_until_done)\u001b[0m\n\u001b[1;32m    263\u001b[0m                     \u001b[0;31m# `new_trials`. This is the core of `run`, all the rest is just\u001b[0m\u001b[0;34m\u001b[0m\u001b[0;34m\u001b[0m\u001b[0;34m\u001b[0m\u001b[0m\n\u001b[1;32m    264\u001b[0m                     \u001b[0;31m# processes orchestration\u001b[0m\u001b[0;34m\u001b[0m\u001b[0;34m\u001b[0m\u001b[0;34m\u001b[0m\u001b[0m\n\u001b[0;32m--> 265\u001b[0;31m                     new_trials = algo(\n\u001b[0m\u001b[1;32m    266\u001b[0m                         \u001b[0mnew_ids\u001b[0m\u001b[0;34m,\u001b[0m \u001b[0mself\u001b[0m\u001b[0;34m.\u001b[0m\u001b[0mdomain\u001b[0m\u001b[0;34m,\u001b[0m \u001b[0mtrials\u001b[0m\u001b[0;34m,\u001b[0m \u001b[0mself\u001b[0m\u001b[0;34m.\u001b[0m\u001b[0mrstate\u001b[0m\u001b[0;34m.\u001b[0m\u001b[0mrandint\u001b[0m\u001b[0;34m(\u001b[0m\u001b[0;36m2\u001b[0m \u001b[0;34m**\u001b[0m \u001b[0;36m31\u001b[0m \u001b[0;34m-\u001b[0m \u001b[0;36m1\u001b[0m\u001b[0;34m)\u001b[0m\u001b[0;34m\u001b[0m\u001b[0;34m\u001b[0m\u001b[0m\n\u001b[1;32m    267\u001b[0m                     )\n",
      "\u001b[0;32m~/miniconda3/envs/forex/lib/python3.8/site-packages/hyperopt/tpe.py\u001b[0m in \u001b[0;36msuggest\u001b[0;34m(new_ids, domain, trials, seed, prior_weight, n_startup_jobs, n_EI_candidates, gamma, verbose)\u001b[0m\n\u001b[1;32m    959\u001b[0m     )\n\u001b[1;32m    960\u001b[0m     \u001b[0;31m# return the doc for the best new trial\u001b[0m\u001b[0;34m\u001b[0m\u001b[0;34m\u001b[0m\u001b[0;34m\u001b[0m\u001b[0m\n\u001b[0;32m--> 961\u001b[0;31m     \u001b[0;32mreturn\u001b[0m \u001b[0mtrials\u001b[0m\u001b[0;34m.\u001b[0m\u001b[0mnew_trial_docs\u001b[0m\u001b[0;34m(\u001b[0m\u001b[0;34m[\u001b[0m\u001b[0mfirst_new_id\u001b[0m\u001b[0;34m]\u001b[0m\u001b[0;34m,\u001b[0m \u001b[0mrval_specs\u001b[0m\u001b[0;34m,\u001b[0m \u001b[0mrval_results\u001b[0m\u001b[0;34m,\u001b[0m \u001b[0mrval_miscs\u001b[0m\u001b[0;34m)\u001b[0m\u001b[0;34m\u001b[0m\u001b[0;34m\u001b[0m\u001b[0m\n\u001b[0m",
      "\u001b[0;32m~/miniconda3/envs/forex/lib/python3.8/site-packages/hyperopt/base.py\u001b[0m in \u001b[0;36mnew_trial_docs\u001b[0;34m(self, tids, specs, results, miscs)\u001b[0m\n\u001b[1;32m    462\u001b[0m         \u001b[0;32mreturn\u001b[0m \u001b[0mrval\u001b[0m\u001b[0;34m\u001b[0m\u001b[0;34m\u001b[0m\u001b[0m\n\u001b[1;32m    463\u001b[0m \u001b[0;34m\u001b[0m\u001b[0m\n\u001b[0;32m--> 464\u001b[0;31m     \u001b[0;32mdef\u001b[0m \u001b[0mnew_trial_docs\u001b[0m\u001b[0;34m(\u001b[0m\u001b[0mself\u001b[0m\u001b[0;34m,\u001b[0m \u001b[0mtids\u001b[0m\u001b[0;34m,\u001b[0m \u001b[0mspecs\u001b[0m\u001b[0;34m,\u001b[0m \u001b[0mresults\u001b[0m\u001b[0;34m,\u001b[0m \u001b[0mmiscs\u001b[0m\u001b[0;34m)\u001b[0m\u001b[0;34m:\u001b[0m\u001b[0;34m\u001b[0m\u001b[0;34m\u001b[0m\u001b[0m\n\u001b[0m\u001b[1;32m    465\u001b[0m         \u001b[0;32massert\u001b[0m \u001b[0mlen\u001b[0m\u001b[0;34m(\u001b[0m\u001b[0mtids\u001b[0m\u001b[0;34m)\u001b[0m \u001b[0;34m==\u001b[0m \u001b[0mlen\u001b[0m\u001b[0;34m(\u001b[0m\u001b[0mspecs\u001b[0m\u001b[0;34m)\u001b[0m \u001b[0;34m==\u001b[0m \u001b[0mlen\u001b[0m\u001b[0;34m(\u001b[0m\u001b[0mresults\u001b[0m\u001b[0;34m)\u001b[0m \u001b[0;34m==\u001b[0m \u001b[0mlen\u001b[0m\u001b[0;34m(\u001b[0m\u001b[0mmiscs\u001b[0m\u001b[0;34m)\u001b[0m\u001b[0;34m\u001b[0m\u001b[0;34m\u001b[0m\u001b[0m\n\u001b[1;32m    466\u001b[0m         \u001b[0mtrials_docs\u001b[0m \u001b[0;34m=\u001b[0m \u001b[0;34m[\u001b[0m\u001b[0;34m]\u001b[0m\u001b[0;34m\u001b[0m\u001b[0;34m\u001b[0m\u001b[0m\n",
      "\u001b[0;31mKeyboardInterrupt\u001b[0m: "
     ]
    }
   ],
   "source": [
    "search_for(\"EURUSD\")\n",
    "search_for(\"AUDCAD\")\n",
    "search_for(\"EURAUD\")\n",
    "search_for(\"EURCHF\")\n",
    "search_for(\"EURGBP\")\n",
    "search_for(\"GBPJPY\")\n",
    "search_for(\"GBPUSD\")\n",
    "search_for(\"USDCAD\")\n",
    "search_for(\"USDCHF\")\n",
    "search_for(\"USDJPY\")\n",
    "search_for(\"AUDUSD\")\n",
    "search_for(\"EURJPY\")\n",
    "\n",
    "# TODO: Second derivative of result wrt each parameter, want to minimise that to to avoid the 'edges'\n",
    "# TODO: Bucket trades into bins and work out the sharpe ratio and the \n"
   ]
  },
  {
   "cell_type": "markdown",
   "metadata": {},
   "source": [
    "### Grid search for SL + TP"
   ]
  },
  {
   "cell_type": "code",
   "execution_count": null,
   "metadata": {},
   "outputs": [],
   "source": [
    "def find_levels(ticker, frequency, multiplier, period, verbose=False):\n",
    "    tps = list(range(50, 260, 10))\n",
    "    sls = list(range(10, 60, 10))\n",
    "    pfs = np.empty((len(sls), len(tps)))\n",
    "\n",
    "    for t_idx, tp in enumerate(tps):\n",
    "        for s_idx, sl in enumerate(sls):\n",
    "            one_hour[\"take_profit\"] = tp\n",
    "            one_hour[\"stop_loss\"] = sl\n",
    "            pf = supertrend_signals(**one_hour, tp_follow=True)\n",
    "            pfs[s_idx][t_idx] = -pf\n",
    "    return tps, sls, pfs"
   ]
  },
  {
   "cell_type": "code",
   "execution_count": null,
   "metadata": {},
   "outputs": [],
   "source": [
    "tps, sls, pfs = find_levels(ticker=\"EURUSD\", frequency=60, multiplier=4.8, period=63)"
   ]
  },
  {
   "cell_type": "code",
   "execution_count": null,
   "metadata": {},
   "outputs": [],
   "source": [
    "plt.figure(figsize=(100,10))\n",
    "fig, ax = plt.subplots()\n",
    "CS = ax.contour(tps, sls, pfs)"
   ]
  },
  {
   "cell_type": "code",
   "execution_count": null,
   "metadata": {
    "scrolled": false
   },
   "outputs": [],
   "source": [
    "import plotly.graph_objects as go\n",
    "fig = go.Figure(data=[go.Surface(z=pfs, x=tps, y=sls)])\n",
    "fig.show()"
   ]
  },
  {
   "cell_type": "markdown",
   "metadata": {},
   "source": [
    "### Line search for Period"
   ]
  },
  {
   "cell_type": "code",
   "execution_count": null,
   "metadata": {},
   "outputs": [],
   "source": [
    "periods = range(50, 90, 1)\n",
    "balances = []\n",
    "for period in periods:\n",
    "    balances.append(-supertrend_signals(\"EURUSD\", frequency=60, multiplier=4.8, period=period, \n",
    "                          take_profit=127, stop_loss=46, verbose=False, risk=0.05))\n",
    "plt.plot(periods, balances)"
   ]
  },
  {
   "cell_type": "markdown",
   "metadata": {},
   "source": [
    "### Line search for Multiplier"
   ]
  },
  {
   "cell_type": "code",
   "execution_count": null,
   "metadata": {},
   "outputs": [],
   "source": [
    "multipliers = [x/10. for x in range(40, 61)]\n",
    "balances = []\n",
    "for multiplier in multipliers:\n",
    "    balances.append(-supertrend_signals(\"EURUSD\", frequency=60, multiplier=multiplier, period=63, \n",
    "                          take_profit=127, stop_loss=46, verbose=False, risk=0.05))\n",
    "plt.plot(multipliers, balances)"
   ]
  },
  {
   "cell_type": "markdown",
   "metadata": {},
   "source": [
    "### Optimal Risk analysis"
   ]
  },
  {
   "cell_type": "code",
   "execution_count": null,
   "metadata": {},
   "outputs": [],
   "source": [
    "risks = [x/100. for x in range(1, 100)]\n",
    "balances = []\n",
    "for risk in risks:\n",
    "    balances.append(-supertrend_signals(**one_sec, risk=risk))\n",
    "plt.plot(risks, balances)"
   ]
  },
  {
   "cell_type": "markdown",
   "metadata": {},
   "source": [
    "##     #return -profit_pips\n",
    "    #return -profit_pips / stop_loss # Minimise stop loss\n",
    "    #return -np.mean(profits)/np.std(profits) # Sharpe Ratio\n",
    "    #return -1.*win/(win+loss)   \n",
    "\n",
    "Balance 5705, 5% risk\n",
    "print(-supertrend_signals(ticker, frequency=60, multiplier=5, period=63, take_profit=123, stop_loss=21, verbose=False))\n",
    "\n",
    "#Profit (30 mins) 2019\n",
    "#print(-supertrend_signals(ticker, frequency=30, multiplier=8, period=110, take_profit=120, stop_loss=70, verbose=True))\n",
    "\n",
    "Profit (60 mins) 2081\n",
    "#print(-supertrend_signals(ticker, frequency=60, multiplier=5, period=54, take_profit=123, stop_loss=75, verbose=True))\n",
    "\n",
    "Sharpe Ratio (0.69) 1416\n",
    "#print(-supertrend_signals(ticker, frequency=60, multiplier=5, period=53, take_profit=47, stop_loss=199, verbose=True))\n",
    "\n",
    "Stop loss reduced profit 849\n",
    "#print(-supertrend_signals(ticker, frequency=60, multiplier=5, period=54, take_profit=72, stop_loss=28, verbose=True))"
   ]
  },
  {
   "cell_type": "code",
   "execution_count": null,
   "metadata": {},
   "outputs": [],
   "source": [
    "def meta_super_trend(df, sample_mins, period, multiplier):\n",
    "\n",
    "    ohlc_dict = {'Open':'first', 'High':'max', 'Low':'min', 'Close': 'last'}\n",
    "    base_interval = (df.index[1]-df.index[0]).components.minutes\n",
    "    dfs = []\n",
    "    for base in range(0, sample_mins, base_interval):\n",
    "        tmp = df.resample(f\"{sample_mins}Min\", base=base).apply(ohlc_dict).dropna()\n",
    "        SuperTrend(tmp, period, multiplier, prefix=sample_mins)\n",
    "        dfs.append(tmp)\n",
    "\n",
    "    return pd.concat(dfs).sort_index()"
   ]
  },
  {
   "cell_type": "code",
   "execution_count": null,
   "metadata": {},
   "outputs": [],
   "source": []
  }
 ],
 "metadata": {
  "kernelspec": {
   "display_name": "Python 3",
   "language": "python",
   "name": "python3"
  },
  "language_info": {
   "codemirror_mode": {
    "name": "ipython",
    "version": 3
   },
   "file_extension": ".py",
   "mimetype": "text/x-python",
   "name": "python",
   "nbconvert_exporter": "python",
   "pygments_lexer": "ipython3",
   "version": "3.7.7"
  }
 },
 "nbformat": 4,
 "nbformat_minor": 4
}
