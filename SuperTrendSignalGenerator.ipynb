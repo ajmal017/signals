{
 "cells": [
  {
   "cell_type": "code",
   "execution_count": 36,
   "metadata": {
    "scrolled": true
   },
   "outputs": [],
   "source": [
    "from signals import *\n",
    "import pandas as pd\n",
    "import numpy as np\n",
    "from hyperopt import fmin, tpe, hp\n",
    "from indicators.indicator.indicators import SMA, SuperTrend\n",
    "from matplotlib import pyplot as plt\n",
    "from mpl_toolkits import mplot3d\n",
    "\n",
    "%matplotlib inline"
   ]
  },
  {
   "cell_type": "markdown",
   "metadata": {},
   "source": [
    "### Pure Supertrend Signals"
   ]
  },
  {
   "cell_type": "code",
   "execution_count": 110,
   "metadata": {
    "scrolled": false
   },
   "outputs": [
    {
     "name": "stdout",
     "output_type": "stream",
     "text": [
      "2019-01-25 13:00:00: Close Sell: balance = 1202, profit = 18, Lots = 1.09\n",
      "2019-01-30 19:00:00: Close Buy : balance = 2838, profit = 124, Lots = 1.31\n",
      "2019-02-10 22:00:00: Close Sell: balance = 6699, profit = 124, Lots = 3.10\n",
      "2019-02-13 13:00:00: Close Buy : balance = 4539, profit = -29, Lots = 7.32\n",
      "2019-02-15 18:00:00: Close Sell: balance = 3770, profit = -16, Lots = 4.96\n",
      "2019-03-01 06:00:00: Close Buy : balance = 6139, profit = 58, Lots = 4.12\n",
      "2019-03-07 14:00:00: Close Sell: balance = 14492, profit = 124, Lots = 6.71\n",
      "2019-03-20 18:00:00: Close Buy : balance = 34208, profit = 124, Lots = 15.84\n",
      "2019-03-28 07:00:00: Close Sell: balance = 80749, profit = 124, Lots = 37.38\n",
      "2019-04-18 08:00:00: Close Buy : balance = 108546, profit = 32, Lots = 88.24\n",
      "2019-04-24 19:00:00: Close Sell: balance = 256224, profit = 124, Lots = 118.62\n",
      "2019-05-01 19:00:00: Close Buy : balance = 294023, profit = 14, Lots = 280.00\n",
      "2019-05-03 17:00:00: Close Sell: balance = 282778, profit = -3, Lots = 321.30\n",
      "2019-05-14 14:00:00: Close Buy : balance = 318314, profit = 12, Lots = 309.01\n",
      "2019-05-23 16:00:00: Close Sell: balance = 445279, profit = 37, Lots = 347.85\n",
      "2019-05-28 15:00:00: Close Buy : balance = 437980, profit = -2, Lots = 486.59\n",
      "2019-05-31 17:00:00: Close Sell: balance = 473876, profit = 7, Lots = 478.62\n",
      "2019-06-05 13:00:00: Close Buy : balance = 1118592, profit = 124, Lots = 517.84\n",
      "2019-06-06 13:00:00: Close Sell: balance = 525738, profit = -48, Lots = 1222.38\n",
      "2019-06-06 14:00:00: Close Buy : balance = 247097, profit = -48, Lots = 574.52\n",
      "2019-06-19 19:00:00: Close Sell: balance = 337555, profit = 34, Lots = 270.02\n",
      "2019-06-21 20:00:00: Close Buy : balance = 796804, profit = 124, Lots = 368.87\n",
      "2019-07-05 14:00:00: Close Sell: balance = 1880868, profit = 124, Lots = 870.73\n",
      "2019-07-16 10:00:00: Close Buy : balance = 1480068, profit = -20, Lots = 2055.38\n",
      "2019-07-18 19:00:00: Close Sell: balance = 905893, profit = -36, Lots = 1617.39\n",
      "2019-07-19 12:00:00: Close Buy : balance = 554463, profit = -36, Lots = 989.95\n",
      "2019-07-25 13:00:00: Close Sell: balance = 1308818, profit = 124, Lots = 605.91\n",
      "2019-07-25 17:00:00: Close Buy : balance = 615144, profit = -48, Lots = 1430.25\n",
      "2019-08-01 18:00:00: Close Sell: balance = 840338, profit = 34, Lots = 672.22\n",
      "2019-08-05 17:00:00: Close Buy : balance = 1983631, profit = 124, Lots = 918.31\n",
      "2019-08-07 14:00:00: Close Sell: balance = 932307, profit = -48, Lots = 2167.68\n",
      "2019-08-26 18:00:00: Close Buy : balance = 896648, profit = -3, Lots = 1018.81\n",
      "2019-08-30 18:00:00: Close Sell: balance = 2116552, profit = 124, Lots = 979.84\n",
      "2019-09-06 12:00:00: Close Buy : balance = 3007031, profit = 38, Lots = 2312.93\n",
      "2019-09-12 14:00:00: Close Sell: balance = 2530556, profit = -14, Lots = 3286.03\n",
      "2019-09-16 11:00:00: Close Buy : balance = 2654997, profit = 5, Lots = 2765.35\n",
      "2019-09-17 16:00:00: Close Sell: balance = 1944169, profit = -24, Lots = 2901.34\n",
      "2019-09-18 19:00:00: Close Buy : balance = 913760, profit = -48, Lots = 2124.56\n",
      "2019-09-30 13:00:00: Close Sell: balance = 2156944, profit = 124, Lots = 998.54\n",
      "2019-10-11 12:00:00: Close Buy : balance = 5091499, profit = 124, Lots = 2357.07\n",
      "2019-10-16 07:00:00: Close Sell: balance = 2393005, profit = -48, Lots = 5563.91\n",
      "2019-10-21 09:00:00: Close Buy : balance = 5648724, profit = 124, Lots = 2615.04\n",
      "2019-10-30 06:00:00: Close Sell: balance = 5556132, profit = -2, Lots = 6172.83\n",
      "2019-11-04 19:00:00: Close Buy : balance = 6072222, profit = 9, Lots = 6071.65\n",
      "2019-11-13 08:00:00: Close Sell: balance = 14333574, profit = 124, Lots = 6635.62\n",
      "2019-11-22 14:00:00: Close Buy : balance = 16604781, profit = 15, Lots = 15663.49\n",
      "2019-11-29 15:00:00: Close Sell: balance = 19961685, profit = 18, Lots = 18145.43\n",
      "2019-12-06 14:00:00: Close Buy : balance = 27269308, profit = 34, Lots = 21813.80\n",
      "2019-12-10 15:00:00: Close Sell: balance = 18776465, profit = -28, Lots = 29799.45\n",
      "2019-12-13 15:00:00: Close Buy : balance = 27907247, profit = 44, Lots = 20518.61\n",
      "2019-12-17 12:00:00: Close Sell: balance = 16471030, profit = -38, Lots = 30496.58\n",
      "2019-12-18 12:00:00: Close Buy : balance = 7741384, profit = -48, Lots = 17999.27\n",
      "2019-12-26 18:00:00: Close Sell: balance = 8291262, profit = 6, Lots = 8459.66\n",
      "2019-12-31 13:00:00: Close Buy : balance = 19571652, profit = 124, Lots = 9060.55\n",
      "2020-01-06 08:00:00: Close Sell: balance = 20747968, profit = 6, Lots = 21387.58\n",
      "2020-01-07 14:00:00: Close Buy : balance = 13379231, profit = -32, Lots = 22673.04\n",
      "2020-01-13 15:00:00: Close Sell: balance = 15060600, profit = 12, Lots = 14620.60\n",
      "2020-01-17 09:00:00: Close Buy : balance = 13497093, profit = -9, Lots = 16457.98\n",
      "2020-01-28 15:00:00: Close Sell: balance = 31860096, profit = 124, Lots = 14749.40\n",
      "2020-02-27 15:00:00: Close Buy : balance = 75206250, profit = 124, Lots = 34816.19\n",
      "2020-02-28 19:00:00: Close Sell: balance = 35346937, profit = -48, Lots = 82184.15\n",
      "2020-03-02 17:00:00: Close Buy : balance = 83436992, profit = 124, Lots = 38626.55\n",
      "2020-03-11 05:00:00: Close Sell: balance = 39215386, profit = -48, Lots = 91178.57\n",
      "63 Trades, Win Ratio = 0.62\n",
      "39215386.40082449\n"
     ]
    },
    {
     "data": {
      "image/png": "[encoded data removed]",
      "text/plain": [
       "<Figure size 432x288 with 1 Axes>"
      ]
     },
     "metadata": {
      "needs_background": "light"
     },
     "output_type": "display_data"
    }
   ],
   "source": [
    "# Single Supertrend signal\n",
    "def supertrend_signals(ticker, frequency, multiplier, period, take_profit, stop_loss, verbose=False, risk=0.05):\n",
    "    fees = 2.5 # pips\n",
    "    period = int(period)\n",
    "    multiplier = multiplier\n",
    "    balance = 1000\n",
    "    potential_loss = risk * balance\n",
    "    pounds_per_pip = potential_loss / (stop_loss + fees)\n",
    "    \n",
    "    trend_col_name = 'STX_' + str(period) + '_' + str(multiplier)\n",
    "\n",
    "    ST = 0\n",
    "    last_ST = 0\n",
    "    signal = 0\n",
    "    \n",
    "    stance = 0\n",
    "    \n",
    "    take_profit_price = None\n",
    "    stop_loss_price = None\n",
    "    entry = None\n",
    "    profit_pips = 0.0\n",
    "    win = 0\n",
    "    loss = 0\n",
    "    profits = []\n",
    "\n",
    "    df = load_ticker(ticker, frequency)\n",
    "    #df = meta_super_trend(df, signal_frequency, period, multiplier)\n",
    "    SuperTrend(df, period, multiplier)\n",
    "\n",
    "\n",
    "    for dt, row in df.iterrows():\n",
    "        signal = 0\n",
    "        if row[trend_col_name] > 0:\n",
    "            ST = 1\n",
    "        elif row[trend_col_name] < 0:\n",
    "            ST = -1\n",
    "            \n",
    "        if ST > last_ST:\n",
    "            signal = 1\n",
    "        if ST < last_ST:\n",
    "            signal = -1\n",
    "            \n",
    "        last_ST = ST\n",
    "        \n",
    "        def close_buy(exit_price):\n",
    "            nonlocal profit_pips, profits, entry, win, loss, balance\n",
    "            if entry is None:\n",
    "                return\n",
    "            trade_profit = (exit_price - entry) * pip_factor(ticker) - fees\n",
    "            profit_pips += trade_profit\n",
    "            profits.append(trade_profit)\n",
    "            \n",
    "            pounds_per_pip = risk * balance / (stop_loss + fees)\n",
    "            balance += pounds_per_pip * trade_profit\n",
    "            \n",
    "            entry = None\n",
    "\n",
    "            if trade_profit > 0:\n",
    "                win += 1\n",
    "            else:\n",
    "                loss += 1\n",
    "                \n",
    "            if verbose:\n",
    "                print(f\"{dt}: Close Buy : balance = {balance:.0f}, profit = {trade_profit:.0f}, Lots = {pounds_per_pip/10:.2f}\")\n",
    "            \n",
    "        def close_sell(exit_price):\n",
    "            nonlocal profit_pips, profits, entry, win, loss, balance\n",
    "            if entry is None:\n",
    "                return\n",
    "            trade_profit = (entry - exit_price) * pip_factor(ticker) - fees\n",
    "            profit_pips += trade_profit\n",
    "            profits.append(trade_profit)\n",
    "            \n",
    "            pounds_per_pip = (risk * balance) / (stop_loss + fees)\n",
    "            balance += pounds_per_pip * trade_profit\n",
    "            \n",
    "            entry = None\n",
    "\n",
    "            if trade_profit > 0:\n",
    "                win += 1\n",
    "            else:\n",
    "                loss += 1\n",
    "                        \n",
    "            if verbose:\n",
    "                print(f\"{dt}: Close Sell: balance = {balance:.0f}, profit = {trade_profit:.0f}, Lots = {pounds_per_pip/10:.2f}\")\n",
    "                                \n",
    "        if stance > 0:\n",
    "            if row.High > take_profit_price:\n",
    "                stance = 0\n",
    "                close_buy(take_profit_price)\n",
    "                    \n",
    "            if row.Low < stop_loss_price:\n",
    "                stance = 0\n",
    "                close_buy(stop_loss_price)\n",
    "\n",
    "        elif stance < 0:\n",
    "            if row.Low < take_profit_price:\n",
    "                stance = 0\n",
    "                close_sell(take_profit_price)\n",
    "\n",
    "            if row.High > stop_loss_price:\n",
    "                stance = 0\n",
    "                close_sell(stop_loss_price)\n",
    "            \n",
    "        if signal != 0 and stance != signal:\n",
    "            # signal = 1 (Buy)\n",
    "            # stance = -1, 0\n",
    "            if signal == 1:\n",
    "                if stance == -1:\n",
    "                    close_sell(row.Close)\n",
    "                entry = row.Close\n",
    "                take_profit_price = entry + (take_profit/pip_factor(ticker))\n",
    "                stop_loss_price = entry - (stop_loss/pip_factor(ticker))\n",
    "                stance = 1\n",
    "\n",
    "            if signal == -1:\n",
    "                if stance == 1:\n",
    "                    close_buy(row.Close)\n",
    "                entry = row.Close\n",
    "                take_profit_price = entry - (take_profit/pip_factor(ticker))\n",
    "                stop_loss_price = entry + (stop_loss/pip_factor(ticker))\n",
    "                stance = -1\n",
    "\n",
    "    if verbose:\n",
    "        print(f\"{win + loss} Trades, Win Ratio = {1.*win/(win+loss):.2}\")\n",
    "        plt.hist(profits, bins=20)\n",
    "    return -balance\n",
    " \n",
    "\n",
    "ticker = \"EURUSD\"\n",
    "print(-supertrend_signals(ticker, frequency=60, multiplier=4.8, period=63, \n",
    "                          take_profit=127, stop_loss=46, risk=0.53, verbose=True))\n"
   ]
  },
  {
   "cell_type": "markdown",
   "metadata": {},
   "source": [
    "\n",
    "    #return -profit_pips\n",
    "    #return -profit_pips / stop_loss # Minimise stop loss\n",
    "    #return -np.mean(profits)/np.std(profits) # Sharpe Ratio\n",
    "    #return -1.*win/(win+loss)   \n",
    "\n",
    "Balance 5705, 5% risk\n",
    "print(-supertrend_signals(ticker, frequency=60, multiplier=5, period=63, take_profit=123, stop_loss=21, verbose=False))\n",
    "\n",
    "#Profit (30 mins) 2019\n",
    "#print(-supertrend_signals(ticker, frequency=30, multiplier=8, period=110, take_profit=120, stop_loss=70, verbose=True))\n",
    "\n",
    "Profit (60 mins) 2081\n",
    "#print(-supertrend_signals(ticker, frequency=60, multiplier=5, period=54, take_profit=123, stop_loss=75, verbose=True))\n",
    "\n",
    "Sharpe Ratio (0.69) 1416\n",
    "#print(-supertrend_signals(ticker, frequency=60, multiplier=5, period=53, take_profit=47, stop_loss=199, verbose=True))\n",
    "\n",
    "Stop loss reduced profit 849\n",
    "#print(-supertrend_signals(ticker, frequency=60, multiplier=5, period=54, take_profit=72, stop_loss=28, verbose=True))"
   ]
  },
  {
   "cell_type": "markdown",
   "metadata": {},
   "source": [
    "### Grid search for SL + TP"
   ]
  },
  {
   "cell_type": "code",
   "execution_count": 81,
   "metadata": {},
   "outputs": [],
   "source": [
    "def find_levels(ticker, frequency, multiplier, period, verbose=False):\n",
    "    tps = list(range(126, 129, 1))\n",
    "    sls = list(range(20, 60, 5))\n",
    "    pfs = np.empty((len(sls), len(tps)))\n",
    "\n",
    "    \n",
    "    for t_idx, tp in enumerate(tps):\n",
    "        for s_idx, sl in enumerate(sls):\n",
    "            pf = supertrend_signals(ticker, frequency, multiplier, period, tp, sl)\n",
    "            pfs[s_idx][t_idx] = -pf\n",
    "    return tps, sls, pfs"
   ]
  },
  {
   "cell_type": "code",
   "execution_count": 82,
   "metadata": {},
   "outputs": [],
   "source": [
    "tps, sls, pfs = find_levels(ticker=\"EURUSD\", frequency=60, multiplier=4.8, period=63)"
   ]
  },
  {
   "cell_type": "code",
   "execution_count": 83,
   "metadata": {},
   "outputs": [
    {
     "data": {
      "text/plain": [
       "<Figure size 7200x720 with 0 Axes>"
      ]
     },
     "metadata": {},
     "output_type": "display_data"
    },
    {
     "data": {
      "image/png": "[encoded data removed]",
      "text/plain": [
       "<Figure size 432x288 with 1 Axes>"
      ]
     },
     "metadata": {
      "needs_background": "light"
     },
     "output_type": "display_data"
    }
   ],
   "source": [
    "plt.figure(figsize=(100,10))\n",
    "fig, ax = plt.subplots()\n",
    "CS = ax.contour(tps, sls, pfs)"
   ]
  },
  {
   "cell_type": "code",
   "execution_count": 84,
   "metadata": {},
   "outputs": [
    {
     "data": {
      "application/vnd.plotly.v1+json": {
       "config": {
        "plotlyServerURL": "https://plot.ly"
       },
       "data": [
        {
         "type": "surface",
         "x": [
          126,
          127,
          128
         ],
         "y": [
          20,
          25,
          30,
          35,
          40,
          45,
          50,
          55
         ],
         "z": [
          [
           6360.202211487467,
           6505.892212129473,
           5937.735091975895
          ],
          [
           5302.439267335602,
           5413.7308213765955,
           5019.881471896329
          ],
          [
           7220.402221271246,
           7371.214616895477,
           6923.366339755108
          ],
          [
           5440.302665799433,
           5540.813519027462,
           5243.440284662855
          ],
          [
           5772.140898207658,
           5873.771028760595,
           5597.197165430556
          ],
          [
           6629.200531468312,
           6747.5204047332645,
           6471.924583881288
          ],
          [
           6835.695297834852,
           6953.144249369396,
           6699.479679410725
          ],
          [
           5679.964246978241,
           5769.835243350749,
           5576.159562538571
          ]
         ]
        }
       ],
       "layout": {
        "template": {
         "data": {
          "bar": [
           {
            "error_x": {
             "color": "#2a3f5f"
            },
            "error_y": {
             "color": "#2a3f5f"
            },
            "marker": {
             "line": {
              "color": "#E5ECF6",
              "width": 0.5
             }
            },
            "type": "bar"
           }
          ],
          "barpolar": [
           {
            "marker": {
             "line": {
              "color": "#E5ECF6",
              "width": 0.5
             }
            },
            "type": "barpolar"
           }
          ],
          "carpet": [
           {
            "aaxis": {
             "endlinecolor": "#2a3f5f",
             "gridcolor": "white",
             "linecolor": "white",
             "minorgridcolor": "white",
             "startlinecolor": "#2a3f5f"
            },
            "baxis": {
             "endlinecolor": "#2a3f5f",
             "gridcolor": "white",
             "linecolor": "white",
             "minorgridcolor": "white",
             "startlinecolor": "#2a3f5f"
            },
            "type": "carpet"
           }
          ],
          "choropleth": [
           {
            "colorbar": {
             "outlinewidth": 0,
             "ticks": ""
            },
            "type": "choropleth"
           }
          ],
          "contour": [
           {
            "colorbar": {
             "outlinewidth": 0,
             "ticks": ""
            },
            "colorscale": [
             [
              0,
              "#0d0887"
             ],
             [
              0.1111111111111111,
              "#46039f"
             ],
             [
              0.2222222222222222,
              "#7201a8"
             ],
             [
              0.3333333333333333,
              "#9c179e"
             ],
             [
              0.4444444444444444,
              "#bd3786"
             ],
             [
              0.5555555555555556,
              "#d8576b"
             ],
             [
              0.6666666666666666,
              "#ed7953"
             ],
             [
              0.7777777777777778,
              "#fb9f3a"
             ],
             [
              0.8888888888888888,
              "#fdca26"
             ],
             [
              1,
              "#f0f921"
             ]
            ],
            "type": "contour"
           }
          ],
          "contourcarpet": [
           {
            "colorbar": {
             "outlinewidth": 0,
             "ticks": ""
            },
            "type": "contourcarpet"
           }
          ],
          "heatmap": [
           {
            "colorbar": {
             "outlinewidth": 0,
             "ticks": ""
            },
            "colorscale": [
             [
              0,
              "#0d0887"
             ],
             [
              0.1111111111111111,
              "#46039f"
             ],
             [
              0.2222222222222222,
              "#7201a8"
             ],
             [
              0.3333333333333333,
              "#9c179e"
             ],
             [
              0.4444444444444444,
              "#bd3786"
             ],
             [
              0.5555555555555556,
              "#d8576b"
             ],
             [
              0.6666666666666666,
              "#ed7953"
             ],
             [
              0.7777777777777778,
              "#fb9f3a"
             ],
             [
              0.8888888888888888,
              "#fdca26"
             ],
             [
              1,
              "#f0f921"
             ]
            ],
            "type": "heatmap"
           }
          ],
          "heatmapgl": [
           {
            "colorbar": {
             "outlinewidth": 0,
             "ticks": ""
            },
            "colorscale": [
             [
              0,
              "#0d0887"
             ],
             [
              0.1111111111111111,
              "#46039f"
             ],
             [
              0.2222222222222222,
              "#7201a8"
             ],
             [
              0.3333333333333333,
              "#9c179e"
             ],
             [
              0.4444444444444444,
              "#bd3786"
             ],
             [
              0.5555555555555556,
              "#d8576b"
             ],
             [
              0.6666666666666666,
              "#ed7953"
             ],
             [
              0.7777777777777778,
              "#fb9f3a"
             ],
             [
              0.8888888888888888,
              "#fdca26"
             ],
             [
              1,
              "#f0f921"
             ]
            ],
            "type": "heatmapgl"
           }
          ],
          "histogram": [
           {
            "marker": {
             "colorbar": {
              "outlinewidth": 0,
              "ticks": ""
             }
            },
            "type": "histogram"
           }
          ],
          "histogram2d": [
           {
            "colorbar": {
             "outlinewidth": 0,
             "ticks": ""
            },
            "colorscale": [
             [
              0,
              "#0d0887"
             ],
             [
              0.1111111111111111,
              "#46039f"
             ],
             [
              0.2222222222222222,
              "#7201a8"
             ],
             [
              0.3333333333333333,
              "#9c179e"
             ],
             [
              0.4444444444444444,
              "#bd3786"
             ],
             [
              0.5555555555555556,
              "#d8576b"
             ],
             [
              0.6666666666666666,
              "#ed7953"
             ],
             [
              0.7777777777777778,
              "#fb9f3a"
             ],
             [
              0.8888888888888888,
              "#fdca26"
             ],
             [
              1,
              "#f0f921"
             ]
            ],
            "type": "histogram2d"
           }
          ],
          "histogram2dcontour": [
           {
            "colorbar": {
             "outlinewidth": 0,
             "ticks": ""
            },
            "colorscale": [
             [
              0,
              "#0d0887"
             ],
             [
              0.1111111111111111,
              "#46039f"
             ],
             [
              0.2222222222222222,
              "#7201a8"
             ],
             [
              0.3333333333333333,
              "#9c179e"
             ],
             [
              0.4444444444444444,
              "#bd3786"
             ],
             [
              0.5555555555555556,
              "#d8576b"
             ],
             [
              0.6666666666666666,
              "#ed7953"
             ],
             [
              0.7777777777777778,
              "#fb9f3a"
             ],
             [
              0.8888888888888888,
              "#fdca26"
             ],
             [
              1,
              "#f0f921"
             ]
            ],
            "type": "histogram2dcontour"
           }
          ],
          "mesh3d": [
           {
            "colorbar": {
             "outlinewidth": 0,
             "ticks": ""
            },
            "type": "mesh3d"
           }
          ],
          "parcoords": [
           {
            "line": {
             "colorbar": {
              "outlinewidth": 0,
              "ticks": ""
             }
            },
            "type": "parcoords"
           }
          ],
          "pie": [
           {
            "automargin": true,
            "type": "pie"
           }
          ],
          "scatter": [
           {
            "marker": {
             "colorbar": {
              "outlinewidth": 0,
              "ticks": ""
             }
            },
            "type": "scatter"
           }
          ],
          "scatter3d": [
           {
            "line": {
             "colorbar": {
              "outlinewidth": 0,
              "ticks": ""
             }
            },
            "marker": {
             "colorbar": {
              "outlinewidth": 0,
              "ticks": ""
             }
            },
            "type": "scatter3d"
           }
          ],
          "scattercarpet": [
           {
            "marker": {
             "colorbar": {
              "outlinewidth": 0,
              "ticks": ""
             }
            },
            "type": "scattercarpet"
           }
          ],
          "scattergeo": [
           {
            "marker": {
             "colorbar": {
              "outlinewidth": 0,
              "ticks": ""
             }
            },
            "type": "scattergeo"
           }
          ],
          "scattergl": [
           {
            "marker": {
             "colorbar": {
              "outlinewidth": 0,
              "ticks": ""
             }
            },
            "type": "scattergl"
           }
          ],
          "scattermapbox": [
           {
            "marker": {
             "colorbar": {
              "outlinewidth": 0,
              "ticks": ""
             }
            },
            "type": "scattermapbox"
           }
          ],
          "scatterpolar": [
           {
            "marker": {
             "colorbar": {
              "outlinewidth": 0,
              "ticks": ""
             }
            },
            "type": "scatterpolar"
           }
          ],
          "scatterpolargl": [
           {
            "marker": {
             "colorbar": {
              "outlinewidth": 0,
              "ticks": ""
             }
            },
            "type": "scatterpolargl"
           }
          ],
          "scatterternary": [
           {
            "marker": {
             "colorbar": {
              "outlinewidth": 0,
              "ticks": ""
             }
            },
            "type": "scatterternary"
           }
          ],
          "surface": [
           {
            "colorbar": {
             "outlinewidth": 0,
             "ticks": ""
            },
            "colorscale": [
             [
              0,
              "#0d0887"
             ],
             [
              0.1111111111111111,
              "#46039f"
             ],
             [
              0.2222222222222222,
              "#7201a8"
             ],
             [
              0.3333333333333333,
              "#9c179e"
             ],
             [
              0.4444444444444444,
              "#bd3786"
             ],
             [
              0.5555555555555556,
              "#d8576b"
             ],
             [
              0.6666666666666666,
              "#ed7953"
             ],
             [
              0.7777777777777778,
              "#fb9f3a"
             ],
             [
              0.8888888888888888,
              "#fdca26"
             ],
             [
              1,
              "#f0f921"
             ]
            ],
            "type": "surface"
           }
          ],
          "table": [
           {
            "cells": {
             "fill": {
              "color": "#EBF0F8"
             },
             "line": {
              "color": "white"
             }
            },
            "header": {
             "fill": {
              "color": "#C8D4E3"
             },
             "line": {
              "color": "white"
             }
            },
            "type": "table"
           }
          ]
         },
         "layout": {
          "annotationdefaults": {
           "arrowcolor": "#2a3f5f",
           "arrowhead": 0,
           "arrowwidth": 1
          },
          "coloraxis": {
           "colorbar": {
            "outlinewidth": 0,
            "ticks": ""
           }
          },
          "colorscale": {
           "diverging": [
            [
             0,
             "#8e0152"
            ],
            [
             0.1,
             "#c51b7d"
            ],
            [
             0.2,
             "#de77ae"
            ],
            [
             0.3,
             "#f1b6da"
            ],
            [
             0.4,
             "#fde0ef"
            ],
            [
             0.5,
             "#f7f7f7"
            ],
            [
             0.6,
             "#e6f5d0"
            ],
            [
             0.7,
             "#b8e186"
            ],
            [
             0.8,
             "#7fbc41"
            ],
            [
             0.9,
             "#4d9221"
            ],
            [
             1,
             "#276419"
            ]
           ],
           "sequential": [
            [
             0,
             "#0d0887"
            ],
            [
             0.1111111111111111,
             "#46039f"
            ],
            [
             0.2222222222222222,
             "#7201a8"
            ],
            [
             0.3333333333333333,
             "#9c179e"
            ],
            [
             0.4444444444444444,
             "#bd3786"
            ],
            [
             0.5555555555555556,
             "#d8576b"
            ],
            [
             0.6666666666666666,
             "#ed7953"
            ],
            [
             0.7777777777777778,
             "#fb9f3a"
            ],
            [
             0.8888888888888888,
             "#fdca26"
            ],
            [
             1,
             "#f0f921"
            ]
           ],
           "sequentialminus": [
            [
             0,
             "#0d0887"
            ],
            [
             0.1111111111111111,
             "#46039f"
            ],
            [
             0.2222222222222222,
             "#7201a8"
            ],
            [
             0.3333333333333333,
             "#9c179e"
            ],
            [
             0.4444444444444444,
             "#bd3786"
            ],
            [
             0.5555555555555556,
             "#d8576b"
            ],
            [
             0.6666666666666666,
             "#ed7953"
            ],
            [
             0.7777777777777778,
             "#fb9f3a"
            ],
            [
             0.8888888888888888,
             "#fdca26"
            ],
            [
             1,
             "#f0f921"
            ]
           ]
          },
          "colorway": [
           "#636efa",
           "#EF553B",
           "#00cc96",
           "#ab63fa",
           "#FFA15A",
           "#19d3f3",
           "#FF6692",
           "#B6E880",
           "#FF97FF",
           "#FECB52"
          ],
          "font": {
           "color": "#2a3f5f"
          },
          "geo": {
           "bgcolor": "white",
           "lakecolor": "white",
           "landcolor": "#E5ECF6",
           "showlakes": true,
           "showland": true,
           "subunitcolor": "white"
          },
          "hoverlabel": {
           "align": "left"
          },
          "hovermode": "closest",
          "mapbox": {
           "style": "light"
          },
          "paper_bgcolor": "white",
          "plot_bgcolor": "#E5ECF6",
          "polar": {
           "angularaxis": {
            "gridcolor": "white",
            "linecolor": "white",
            "ticks": ""
           },
           "bgcolor": "#E5ECF6",
           "radialaxis": {
            "gridcolor": "white",
            "linecolor": "white",
            "ticks": ""
           }
          },
          "scene": {
           "xaxis": {
            "backgroundcolor": "#E5ECF6",
            "gridcolor": "white",
            "gridwidth": 2,
            "linecolor": "white",
            "showbackground": true,
            "ticks": "",
            "zerolinecolor": "white"
           },
           "yaxis": {
            "backgroundcolor": "#E5ECF6",
            "gridcolor": "white",
            "gridwidth": 2,
            "linecolor": "white",
            "showbackground": true,
            "ticks": "",
            "zerolinecolor": "white"
           },
           "zaxis": {
            "backgroundcolor": "#E5ECF6",
            "gridcolor": "white",
            "gridwidth": 2,
            "linecolor": "white",
            "showbackground": true,
            "ticks": "",
            "zerolinecolor": "white"
           }
          },
          "shapedefaults": {
           "line": {
            "color": "#2a3f5f"
           }
          },
          "ternary": {
           "aaxis": {
            "gridcolor": "white",
            "linecolor": "white",
            "ticks": ""
           },
           "baxis": {
            "gridcolor": "white",
            "linecolor": "white",
            "ticks": ""
           },
           "bgcolor": "#E5ECF6",
           "caxis": {
            "gridcolor": "white",
            "linecolor": "white",
            "ticks": ""
           }
          },
          "title": {
           "x": 0.05
          },
          "xaxis": {
           "automargin": true,
           "gridcolor": "white",
           "linecolor": "white",
           "ticks": "",
           "title": {
            "standoff": 15
           },
           "zerolinecolor": "white",
           "zerolinewidth": 2
          },
          "yaxis": {
           "automargin": true,
           "gridcolor": "white",
           "linecolor": "white",
           "ticks": "",
           "title": {
            "standoff": 15
           },
           "zerolinecolor": "white",
           "zerolinewidth": 2
          }
         }
        }
       }
      },
      "text/html": [
       "<div>\n",
       "        \n",
       "        \n",
       "            <div id=\"11355a9b-d3db-4676-8d19-5972bc85f38f\" class=\"plotly-graph-div\" style=\"height:525px; width:100%;\"></div>\n",
       "            <script type=\"text/javascript\">\n",
       "                require([\"plotly\"], function(Plotly) {\n",
       "                    window.PLOTLYENV=window.PLOTLYENV || {};\n",
       "                    \n",
       "                if (document.getElementById(\"11355a9b-d3db-4676-8d19-5972bc85f38f\")) {\n",
       "                    Plotly.newPlot(\n",
       "                        '11355a9b-d3db-4676-8d19-5972bc85f38f',\n",
       "                        [{\"type\": \"surface\", \"x\": [126, 127, 128], \"y\": [20, 25, 30, 35, 40, 45, 50, 55], \"z\": [[6360.202211487467, 6505.892212129473, 5937.735091975895], [5302.439267335602, 5413.7308213765955, 5019.881471896329], [7220.402221271246, 7371.214616895477, 6923.366339755108], [5440.302665799433, 5540.813519027462, 5243.440284662855], [5772.140898207658, 5873.771028760595, 5597.197165430556], [6629.200531468312, 6747.5204047332645, 6471.924583881288], [6835.695297834852, 6953.144249369396, 6699.479679410725], [5679.964246978241, 5769.835243350749, 5576.159562538571]]}],\n",
       "                        {\"template\": {\"data\": {\"bar\": [{\"error_x\": {\"color\": \"#2a3f5f\"}, \"error_y\": {\"color\": \"#2a3f5f\"}, \"marker\": {\"line\": {\"color\": \"#E5ECF6\", \"width\": 0.5}}, \"type\": \"bar\"}], \"barpolar\": [{\"marker\": {\"line\": {\"color\": \"#E5ECF6\", \"width\": 0.5}}, \"type\": \"barpolar\"}], \"carpet\": [{\"aaxis\": {\"endlinecolor\": \"#2a3f5f\", \"gridcolor\": \"white\", \"linecolor\": \"white\", \"minorgridcolor\": \"white\", \"startlinecolor\": \"#2a3f5f\"}, \"baxis\": {\"endlinecolor\": \"#2a3f5f\", \"gridcolor\": \"white\", \"linecolor\": \"white\", \"minorgridcolor\": \"white\", \"startlinecolor\": \"#2a3f5f\"}, \"type\": \"carpet\"}], \"choropleth\": [{\"colorbar\": {\"outlinewidth\": 0, \"ticks\": \"\"}, \"type\": \"choropleth\"}], \"contour\": [{\"colorbar\": {\"outlinewidth\": 0, \"ticks\": \"\"}, \"colorscale\": [[0.0, \"#0d0887\"], [0.1111111111111111, \"#46039f\"], [0.2222222222222222, \"#7201a8\"], [0.3333333333333333, \"#9c179e\"], [0.4444444444444444, \"#bd3786\"], [0.5555555555555556, \"#d8576b\"], [0.6666666666666666, \"#ed7953\"], [0.7777777777777778, \"#fb9f3a\"], [0.8888888888888888, \"#fdca26\"], [1.0, \"#f0f921\"]], \"type\": \"contour\"}], \"contourcarpet\": [{\"colorbar\": {\"outlinewidth\": 0, \"ticks\": \"\"}, \"type\": \"contourcarpet\"}], \"heatmap\": [{\"colorbar\": {\"outlinewidth\": 0, \"ticks\": \"\"}, \"colorscale\": [[0.0, \"#0d0887\"], [0.1111111111111111, \"#46039f\"], [0.2222222222222222, \"#7201a8\"], [0.3333333333333333, \"#9c179e\"], [0.4444444444444444, \"#bd3786\"], [0.5555555555555556, \"#d8576b\"], [0.6666666666666666, \"#ed7953\"], [0.7777777777777778, \"#fb9f3a\"], [0.8888888888888888, \"#fdca26\"], [1.0, \"#f0f921\"]], \"type\": \"heatmap\"}], \"heatmapgl\": [{\"colorbar\": {\"outlinewidth\": 0, \"ticks\": \"\"}, \"colorscale\": [[0.0, \"#0d0887\"], [0.1111111111111111, \"#46039f\"], [0.2222222222222222, \"#7201a8\"], [0.3333333333333333, \"#9c179e\"], [0.4444444444444444, \"#bd3786\"], [0.5555555555555556, \"#d8576b\"], [0.6666666666666666, \"#ed7953\"], [0.7777777777777778, \"#fb9f3a\"], [0.8888888888888888, \"#fdca26\"], [1.0, \"#f0f921\"]], \"type\": \"heatmapgl\"}], \"histogram\": [{\"marker\": {\"colorbar\": {\"outlinewidth\": 0, \"ticks\": \"\"}}, \"type\": \"histogram\"}], \"histogram2d\": [{\"colorbar\": {\"outlinewidth\": 0, \"ticks\": \"\"}, \"colorscale\": [[0.0, \"#0d0887\"], [0.1111111111111111, \"#46039f\"], [0.2222222222222222, \"#7201a8\"], [0.3333333333333333, \"#9c179e\"], [0.4444444444444444, \"#bd3786\"], [0.5555555555555556, \"#d8576b\"], [0.6666666666666666, \"#ed7953\"], [0.7777777777777778, \"#fb9f3a\"], [0.8888888888888888, \"#fdca26\"], [1.0, \"#f0f921\"]], \"type\": \"histogram2d\"}], \"histogram2dcontour\": [{\"colorbar\": {\"outlinewidth\": 0, \"ticks\": \"\"}, \"colorscale\": [[0.0, \"#0d0887\"], [0.1111111111111111, \"#46039f\"], [0.2222222222222222, \"#7201a8\"], [0.3333333333333333, \"#9c179e\"], [0.4444444444444444, \"#bd3786\"], [0.5555555555555556, \"#d8576b\"], [0.6666666666666666, \"#ed7953\"], [0.7777777777777778, \"#fb9f3a\"], [0.8888888888888888, \"#fdca26\"], [1.0, \"#f0f921\"]], \"type\": \"histogram2dcontour\"}], \"mesh3d\": [{\"colorbar\": {\"outlinewidth\": 0, \"ticks\": \"\"}, \"type\": \"mesh3d\"}], \"parcoords\": [{\"line\": {\"colorbar\": {\"outlinewidth\": 0, \"ticks\": \"\"}}, \"type\": \"parcoords\"}], \"pie\": [{\"automargin\": true, \"type\": \"pie\"}], \"scatter\": [{\"marker\": {\"colorbar\": {\"outlinewidth\": 0, \"ticks\": \"\"}}, \"type\": \"scatter\"}], \"scatter3d\": [{\"line\": {\"colorbar\": {\"outlinewidth\": 0, \"ticks\": \"\"}}, \"marker\": {\"colorbar\": {\"outlinewidth\": 0, \"ticks\": \"\"}}, \"type\": \"scatter3d\"}], \"scattercarpet\": [{\"marker\": {\"colorbar\": {\"outlinewidth\": 0, \"ticks\": \"\"}}, \"type\": \"scattercarpet\"}], \"scattergeo\": [{\"marker\": {\"colorbar\": {\"outlinewidth\": 0, \"ticks\": \"\"}}, \"type\": \"scattergeo\"}], \"scattergl\": [{\"marker\": {\"colorbar\": {\"outlinewidth\": 0, \"ticks\": \"\"}}, \"type\": \"scattergl\"}], \"scattermapbox\": [{\"marker\": {\"colorbar\": {\"outlinewidth\": 0, \"ticks\": \"\"}}, \"type\": \"scattermapbox\"}], \"scatterpolar\": [{\"marker\": {\"colorbar\": {\"outlinewidth\": 0, \"ticks\": \"\"}}, \"type\": \"scatterpolar\"}], \"scatterpolargl\": [{\"marker\": {\"colorbar\": {\"outlinewidth\": 0, \"ticks\": \"\"}}, \"type\": \"scatterpolargl\"}], \"scatterternary\": [{\"marker\": {\"colorbar\": {\"outlinewidth\": 0, \"ticks\": \"\"}}, \"type\": \"scatterternary\"}], \"surface\": [{\"colorbar\": {\"outlinewidth\": 0, \"ticks\": \"\"}, \"colorscale\": [[0.0, \"#0d0887\"], [0.1111111111111111, \"#46039f\"], [0.2222222222222222, \"#7201a8\"], [0.3333333333333333, \"#9c179e\"], [0.4444444444444444, \"#bd3786\"], [0.5555555555555556, \"#d8576b\"], [0.6666666666666666, \"#ed7953\"], [0.7777777777777778, \"#fb9f3a\"], [0.8888888888888888, \"#fdca26\"], [1.0, \"#f0f921\"]], \"type\": \"surface\"}], \"table\": [{\"cells\": {\"fill\": {\"color\": \"#EBF0F8\"}, \"line\": {\"color\": \"white\"}}, \"header\": {\"fill\": {\"color\": \"#C8D4E3\"}, \"line\": {\"color\": \"white\"}}, \"type\": \"table\"}]}, \"layout\": {\"annotationdefaults\": {\"arrowcolor\": \"#2a3f5f\", \"arrowhead\": 0, \"arrowwidth\": 1}, \"coloraxis\": {\"colorbar\": {\"outlinewidth\": 0, \"ticks\": \"\"}}, \"colorscale\": {\"diverging\": [[0, \"#8e0152\"], [0.1, \"#c51b7d\"], [0.2, \"#de77ae\"], [0.3, \"#f1b6da\"], [0.4, \"#fde0ef\"], [0.5, \"#f7f7f7\"], [0.6, \"#e6f5d0\"], [0.7, \"#b8e186\"], [0.8, \"#7fbc41\"], [0.9, \"#4d9221\"], [1, \"#276419\"]], \"sequential\": [[0.0, \"#0d0887\"], [0.1111111111111111, \"#46039f\"], [0.2222222222222222, \"#7201a8\"], [0.3333333333333333, \"#9c179e\"], [0.4444444444444444, \"#bd3786\"], [0.5555555555555556, \"#d8576b\"], [0.6666666666666666, \"#ed7953\"], [0.7777777777777778, \"#fb9f3a\"], [0.8888888888888888, \"#fdca26\"], [1.0, \"#f0f921\"]], \"sequentialminus\": [[0.0, \"#0d0887\"], [0.1111111111111111, \"#46039f\"], [0.2222222222222222, \"#7201a8\"], [0.3333333333333333, \"#9c179e\"], [0.4444444444444444, \"#bd3786\"], [0.5555555555555556, \"#d8576b\"], [0.6666666666666666, \"#ed7953\"], [0.7777777777777778, \"#fb9f3a\"], [0.8888888888888888, \"#fdca26\"], [1.0, \"#f0f921\"]]}, \"colorway\": [\"#636efa\", \"#EF553B\", \"#00cc96\", \"#ab63fa\", \"#FFA15A\", \"#19d3f3\", \"#FF6692\", \"#B6E880\", \"#FF97FF\", \"#FECB52\"], \"font\": {\"color\": \"#2a3f5f\"}, \"geo\": {\"bgcolor\": \"white\", \"lakecolor\": \"white\", \"landcolor\": \"#E5ECF6\", \"showlakes\": true, \"showland\": true, \"subunitcolor\": \"white\"}, \"hoverlabel\": {\"align\": \"left\"}, \"hovermode\": \"closest\", \"mapbox\": {\"style\": \"light\"}, \"paper_bgcolor\": \"white\", \"plot_bgcolor\": \"#E5ECF6\", \"polar\": {\"angularaxis\": {\"gridcolor\": \"white\", \"linecolor\": \"white\", \"ticks\": \"\"}, \"bgcolor\": \"#E5ECF6\", \"radialaxis\": {\"gridcolor\": \"white\", \"linecolor\": \"white\", \"ticks\": \"\"}}, \"scene\": {\"xaxis\": {\"backgroundcolor\": \"#E5ECF6\", \"gridcolor\": \"white\", \"gridwidth\": 2, \"linecolor\": \"white\", \"showbackground\": true, \"ticks\": \"\", \"zerolinecolor\": \"white\"}, \"yaxis\": {\"backgroundcolor\": \"#E5ECF6\", \"gridcolor\": \"white\", \"gridwidth\": 2, \"linecolor\": \"white\", \"showbackground\": true, \"ticks\": \"\", \"zerolinecolor\": \"white\"}, \"zaxis\": {\"backgroundcolor\": \"#E5ECF6\", \"gridcolor\": \"white\", \"gridwidth\": 2, \"linecolor\": \"white\", \"showbackground\": true, \"ticks\": \"\", \"zerolinecolor\": \"white\"}}, \"shapedefaults\": {\"line\": {\"color\": \"#2a3f5f\"}}, \"ternary\": {\"aaxis\": {\"gridcolor\": \"white\", \"linecolor\": \"white\", \"ticks\": \"\"}, \"baxis\": {\"gridcolor\": \"white\", \"linecolor\": \"white\", \"ticks\": \"\"}, \"bgcolor\": \"#E5ECF6\", \"caxis\": {\"gridcolor\": \"white\", \"linecolor\": \"white\", \"ticks\": \"\"}}, \"title\": {\"x\": 0.05}, \"xaxis\": {\"automargin\": true, \"gridcolor\": \"white\", \"linecolor\": \"white\", \"ticks\": \"\", \"title\": {\"standoff\": 15}, \"zerolinecolor\": \"white\", \"zerolinewidth\": 2}, \"yaxis\": {\"automargin\": true, \"gridcolor\": \"white\", \"linecolor\": \"white\", \"ticks\": \"\", \"title\": {\"standoff\": 15}, \"zerolinecolor\": \"white\", \"zerolinewidth\": 2}}}},\n",
       "                        {\"responsive\": true}\n",
       "                    ).then(function(){\n",
       "                            \n",
       "var gd = document.getElementById('11355a9b-d3db-4676-8d19-5972bc85f38f');\n",
       "var x = new MutationObserver(function (mutations, observer) {{\n",
       "        var display = window.getComputedStyle(gd).display;\n",
       "        if (!display || display === 'none') {{\n",
       "            console.log([gd, 'removed!']);\n",
       "            Plotly.purge(gd);\n",
       "            observer.disconnect();\n",
       "        }}\n",
       "}});\n",
       "\n",
       "// Listen for the removal of the full notebook cells\n",
       "var notebookContainer = gd.closest('#notebook-container');\n",
       "if (notebookContainer) {{\n",
       "    x.observe(notebookContainer, {childList: true});\n",
       "}}\n",
       "\n",
       "// Listen for the clearing of the current output cell\n",
       "var outputEl = gd.closest('.output');\n",
       "if (outputEl) {{\n",
       "    x.observe(outputEl, {childList: true});\n",
       "}}\n",
       "\n",
       "                        })\n",
       "                };\n",
       "                });\n",
       "            </script>\n",
       "        </div>"
      ]
     },
     "metadata": {},
     "output_type": "display_data"
    }
   ],
   "source": [
    "import plotly.graph_objects as go\n",
    "fig = go.Figure(data=[go.Surface(z=pfs, x=tps, y=sls)])\n",
    "fig.show()"
   ]
  },
  {
   "cell_type": "markdown",
   "metadata": {},
   "source": [
    "### Optimal Risk analysis"
   ]
  },
  {
   "cell_type": "code",
   "execution_count": 111,
   "metadata": {},
   "outputs": [
    {
     "data": {
      "text/plain": [
       "[<matplotlib.lines.Line2D at 0x7dd2d2dbbf40>]"
      ]
     },
     "execution_count": 111,
     "metadata": {},
     "output_type": "execute_result"
    },
    {
     "data": {
      "image/png": "[encoded data removed]",
      "text/plain": [
       "<Figure size 432x288 with 1 Axes>"
      ]
     },
     "metadata": {
      "needs_background": "light"
     },
     "output_type": "display_data"
    }
   ],
   "source": [
    "risks = [x/100. for x in range(1, 100)]\n",
    "balances = []\n",
    "for risk in risks:\n",
    "    balances.append(-supertrend_signals(\"EURUSD\", frequency=60, multiplier=4.8, period=63, \n",
    "                          take_profit=127, stop_loss=46, verbose=False, risk=risk))\n",
    "plt.plot(risks, balances)"
   ]
  },
  {
   "cell_type": "markdown",
   "metadata": {},
   "source": [
    "### Coarse Search"
   ]
  },
  {
   "cell_type": "code",
   "execution_count": null,
   "metadata": {},
   "outputs": [],
   "source": [
    "def objective(params):\n",
    "    return supertrend_signals(**params)\n",
    "\n",
    "space = {'ticker': hp.choice('ticker', [\"USDJPY\"]),\n",
    "         'frequency': hp.choice('frequency', [60]),\n",
    "         'multiplier': hp.quniform('multiplier', 3, 7, 1),\n",
    "         'period': hp.quniform('period', 10, 200, 1),\n",
    "         'take_profit': hp.quniform('take_profit', 10, 200, 1),\n",
    "         'stop_loss': hp.quniform('stop_loss', 10, 200, 1),\n",
    "        }\n",
    "\n",
    "for _ in range(1):\n",
    "    print(fmin(objective, space, algo=tpe.suggest, max_evals=256))\n",
    "\n",
    "    "
   ]
  },
  {
   "cell_type": "markdown",
   "metadata": {},
   "source": [
    "### Finetuning"
   ]
  },
  {
   "cell_type": "code",
   "execution_count": null,
   "metadata": {},
   "outputs": [],
   "source": [
    "def objective(params):\n",
    "    return supertrend_signals(**params)\n",
    "\n",
    "space = {'ticker': hp.choice('ticker', [\"EURUSD\"]),\n",
    "         'frequency': hp.choice('frequency', [60]),\n",
    "         'multiplier': hp.qnormal('multiplier', 5, 5, 1),\n",
    "         'period': hp.qnormal('period', 54, 10, 1),\n",
    "         'take_profit': hp.qnormal('take_profit', 123, 20, 1),\n",
    "         'stop_loss': hp.qnormal('stop_loss', 75, 20, 1),\n",
    "        }\n",
    "\n",
    "for _ in range(1):\n",
    "    print(fmin(objective, space, algo=tpe.suggest, max_evals=100))\n",
    "\n",
    "    "
   ]
  },
  {
   "cell_type": "markdown",
   "metadata": {},
   "source": [
    "### Supertrend SMA"
   ]
  },
  {
   "cell_type": "code",
   "execution_count": null,
   "metadata": {
    "scrolled": false
   },
   "outputs": [],
   "source": [
    "# Single Supertrend signal\n",
    "def supertrend_signals_sma(ticker, frequency, multiplier, period, sma_period, take_profit, stop_loss, verbose=False):\n",
    "    fees = 2.5 # pips\n",
    "    period = int(period)\n",
    "    multiplier = int(multiplier)\n",
    "    sma_period = int(sma_period)\n",
    "    \n",
    "    trend_col_name = 'STX_' + str(period) + '_' + str(multiplier)\n",
    "\n",
    "    ST = 0\n",
    "    last_ST = 0\n",
    "    signal = 0\n",
    "    \n",
    "    stance = 0\n",
    "    \n",
    "    take_profit_price = None\n",
    "    stop_loss_price = None\n",
    "    entry = None\n",
    "    profit_pips = 0.0\n",
    "    win = 0\n",
    "    loss = 0\n",
    "    profits = []\n",
    "\n",
    "    df = load_ticker(ticker, frequency)\n",
    "    #df = meta_super_trend(df, signal_frequency, period, multiplier)\n",
    "    SuperTrend(df, period, multiplier)\n",
    "    sma_name = f\"SMA_{sma_period}\"\n",
    "    SMA(df, \"Close\", sma_name, sma_period)\n",
    "\n",
    "\n",
    "    for dt, row in df.iterrows():\n",
    "        signal = 0\n",
    "        if row[trend_col_name] > 0 and row[sma_name] > row.Close:\n",
    "            ST = 1\n",
    "        elif row[trend_col_name] < 0  and row[sma_name] < row.Close:\n",
    "            ST = -1\n",
    "            \n",
    "        if ST > last_ST:\n",
    "            signal = 1\n",
    "        if ST < last_ST:\n",
    "            signal = -1\n",
    "            \n",
    "        last_ST = ST\n",
    "        \n",
    "        def close_buy(exit_price):\n",
    "            nonlocal profit_pips, profits, entry, win, loss\n",
    "            if entry is None:\n",
    "                return\n",
    "            trade_profit = (exit_price - entry) * pip_factor(ticker) - fees\n",
    "            profit_pips += trade_profit\n",
    "            profits.append(trade_profit)\n",
    "            entry = None\n",
    "\n",
    "            if trade_profit > 0:\n",
    "                win += 1\n",
    "            else:\n",
    "                loss += 1\n",
    "                \n",
    "            if verbose:\n",
    "                print(f\"{dt}: Close Buy: profit = {trade_profit}\")\n",
    "            \n",
    "        def close_sell(exit_price):\n",
    "            nonlocal profit_pips, profits, entry, win, loss\n",
    "            if entry is None:\n",
    "                return\n",
    "            trade_profit = (entry - exit_price) * pip_factor(ticker) - fees\n",
    "            profit_pips += trade_profit\n",
    "            profits.append(trade_profit)\n",
    "            entry = None\n",
    "\n",
    "            if trade_profit > 0:\n",
    "                win += 1\n",
    "            else:\n",
    "                loss += 1\n",
    "                        \n",
    "            if verbose:\n",
    "                print(f\"{dt}: Close Sell: profit = {trade_profit}\")\n",
    "                        \n",
    "        #potential_exit = row.Close\n",
    "        \n",
    "        #if entry is not None and take_profit_price is not None and stop_loss_price is not None:\n",
    "        if stance > 0:\n",
    "            if row.High > take_profit_price:\n",
    "                stance = 0\n",
    "                #print(\"Take Profit hit\")\n",
    "                close_buy(take_profit_price)\n",
    "                    \n",
    "            if row.Low < stop_loss_price:\n",
    "                stance = 0\n",
    "                #print(\"Stop Loss hit\")\n",
    "                close_buy(stop_loss_price)\n",
    "\n",
    "        elif stance < 0:\n",
    "            if row.Low < take_profit_price:\n",
    "                stance = 0\n",
    "                #print(f\"Take Profit hit {entry}\")\n",
    "                close_sell(take_profit_price)\n",
    "\n",
    "            if row.High > stop_loss_price:\n",
    "                stance = 0\n",
    "                #print(\"Stop Loss hit\")\n",
    "                close_sell(stop_loss_price)\n",
    "            \n",
    "        if signal != 0 and stance != signal:\n",
    "            # signal = 1 (Buy)\n",
    "            # stance = -1, 0\n",
    "            if signal == 1:\n",
    "                if stance == -1:\n",
    "                    close_sell(row.Close)\n",
    "                entry = row.Close\n",
    "                take_profit_price = entry + (take_profit/pip_factor(ticker))\n",
    "                stop_loss_price = entry - (stop_loss/pip_factor(ticker))\n",
    "                stance = 1\n",
    "                #print(f\"Open Buy: entry = {entry}, tp = {take_profit_price}\")\n",
    "\n",
    "            if signal == -1:\n",
    "                if stance == 1:\n",
    "                    close_buy(row.Close)\n",
    "                entry = row.Close\n",
    "                take_profit_price = entry - (take_profit/pip_factor(ticker))\n",
    "                stop_loss_price = entry + (stop_loss/pip_factor(ticker))\n",
    "                stance = -1\n",
    "                #print(f\"Open Sell: entry = {entry}, tp = {take_profit_price}\")\n",
    "\n",
    "                    \n",
    "    if verbose:\n",
    "        print(f\"{win + loss} Trades, Win Ratio = {1.*win/(win+loss):.2}\")\n",
    "        plt.hist(profits, bins=20)\n",
    "    return -profit_pips\n",
    "    #return -profit_pips / stop_loss # Minimise stop loss\n",
    "    #return -np.mean(profits)/np.std(profits) # Sharpe Ratio\n",
    "    #return -1.*win/(win+loss)    \n",
    "\n",
    "ticker = \"EURUSD\"\n",
    "print(-supertrend_signals_sma(ticker, frequency=60, multiplier=5, period=53, sma_period=10,\n",
    "                          take_profit=123, stop_loss=70, verbose=True))\n",
    "#Profit (30 mins) 2019\n",
    "#print(-supertrend_signals(ticker, frequency=30, multiplier=8, period=110, take_profit=120, stop_loss=70, verbose=True))\n",
    "\n",
    "# Profit (60 mins) 2081\n",
    "#print(-supertrend_signals(ticker, frequency=60, multiplier=5, period=54, take_profit=123, stop_loss=75, verbose=True))\n",
    "\n",
    "# Sharpe Ratio (0.69) 1416\n",
    "#print(-supertrend_signals(ticker, frequency=60, multiplier=5, period=53, take_profit=47, stop_loss=199, verbose=True))\n",
    "\n",
    "# Stop loss reduced profit 849\n",
    "#print(-supertrend_signals(ticker, frequency=60, multiplier=5, period=54, take_profit=72, stop_loss=28, verbose=True))"
   ]
  },
  {
   "cell_type": "code",
   "execution_count": null,
   "metadata": {},
   "outputs": [],
   "source": [
    "def objective(params):\n",
    "    return supertrend_signals_sma(**params)\n",
    "\n",
    "space = {'ticker': hp.choice('ticker', [\"EURUSD\"]),\n",
    "         'frequency': hp.choice('frequency', [60]),\n",
    "         'multiplier': hp.quniform('multiplier', 1, 20, 1),\n",
    "         'period': hp.quniform('period', 10, 200, 1),\n",
    "         'sma_period': hp.quniform('sma_period', 10, 200, 1),\n",
    "         'take_profit': hp.quniform('take_profit', 10, 200, 1),\n",
    "         'stop_loss': hp.quniform('stop_loss', 10, 200, 1),\n",
    "        }\n",
    "\n",
    "for _ in range(1):\n",
    "    print(fmin(objective, space, algo=tpe.suggest, max_evals=100))\n",
    "\n",
    "    "
   ]
  },
  {
   "cell_type": "markdown",
   "metadata": {},
   "source": [
    "## Double supertrend "
   ]
  },
  {
   "cell_type": "code",
   "execution_count": null,
   "metadata": {
    "scrolled": false
   },
   "outputs": [],
   "source": [
    "def supertrend_signals_open_close(ticker, frequency, open_multiplier, open_period, close_multiplier, close_period, take_profit, stop_loss, verbose=False):\n",
    "    fees = 2.5 # pips\n",
    "    open_period = int(open_period)\n",
    "    open_multiplier = int(open_multiplier)\n",
    "    close_period = int(close_period)\n",
    "    close_multiplier = int(close_multiplier)\n",
    "    \n",
    "    open_trend_col_name = 'STX_' + str(open_period) + '_' + str(open_multiplier)\n",
    "    close_trend_col_name = 'STX_' + str(close_period) + '_' + str(close_multiplier)\n",
    "    close_value_col_name = 'ST_' + str(close_period) + '_' + str(close_multiplier)\n",
    "\n",
    "    ST = 0\n",
    "    last_ST = 0\n",
    "    last_close = None\n",
    "    last_close_stance = 0\n",
    "    signal = 0\n",
    "    \n",
    "    stance = 0\n",
    "    \n",
    "    take_profit_price = None\n",
    "    stop_loss_price = None\n",
    "    entry = None\n",
    "    profit_pips = 0.0\n",
    "    win = 0\n",
    "    loss = 0\n",
    "    profits = []\n",
    "\n",
    "    df = load_ticker(ticker, frequency)\n",
    "    \n",
    "    SuperTrend(df, open_period, open_multiplier)\n",
    "    SuperTrend(df, close_period, close_multiplier)\n",
    "\n",
    "\n",
    "    for dt, row in df.iterrows():\n",
    "        signal = 0\n",
    "        if row[open_trend_col_name] > 0:\n",
    "            ST = 1\n",
    "        elif row[open_trend_col_name] < 0:\n",
    "            ST = -1\n",
    "            \n",
    "        if ST > last_ST:\n",
    "            signal = 1\n",
    "        if ST < last_ST:\n",
    "            signal = -1\n",
    "            \n",
    "        last_ST = ST\n",
    "        \n",
    "        def close_buy(exit_price):\n",
    "            nonlocal profit_pips, profits, entry, win, loss\n",
    "            if entry is None:\n",
    "                return\n",
    "            trade_profit = (exit_price - entry) * pip_factor(ticker) - fees\n",
    "            profit_pips += trade_profit\n",
    "            profits.append(trade_profit)\n",
    "            entry = None\n",
    "\n",
    "            if trade_profit > 0:\n",
    "                win += 1\n",
    "            else:\n",
    "                loss += 1\n",
    "                \n",
    "            if verbose:\n",
    "                print(f\"Close Buy: profit = {trade_profit}\")\n",
    "            \n",
    "        def close_sell(exit_price):\n",
    "            nonlocal profit_pips, profits, entry, win, loss\n",
    "            if entry is None:\n",
    "                return\n",
    "            trade_profit = (entry - exit_price) * pip_factor(ticker) - fees\n",
    "            profit_pips += trade_profit\n",
    "            profits.append(trade_profit)\n",
    "            entry = None\n",
    "\n",
    "            if trade_profit > 0:\n",
    "                win += 1\n",
    "            else:\n",
    "                loss += 1\n",
    "                        \n",
    "            if verbose:\n",
    "                print(f\"Close Sell: profit = {trade_profit}\")\n",
    "                        \n",
    "        if stance > 0:\n",
    "            if last_close_stance != stance:\n",
    "                close_buy(row.Close)\n",
    "                    \n",
    "            if row.High > take_profit_price:\n",
    "                stance = 0\n",
    "                #print(\"Take Profit hit\")\n",
    "                close_buy(take_profit_price)\n",
    "                    \n",
    "            if row.Low < stop_loss_price:\n",
    "                stance = 0\n",
    "                #print(\"Stop Loss hit\")\n",
    "                close_buy(stop_loss_price)\n",
    "\n",
    "        elif stance < 0:\n",
    "            if last_close_stance != stance:\n",
    "                close_sell(row.Close)\n",
    "                    \n",
    "            elif row.Low < take_profit_price:\n",
    "                stance = 0\n",
    "                #print(f\"Take Profit hit {entry}\")\n",
    "                close_sell(take_profit_price)\n",
    "\n",
    "            elif row.High > stop_loss_price:\n",
    "                stance = 0\n",
    "                #print(\"Stop Loss hit\")\n",
    "                close_sell(stop_loss_price)\n",
    "            \n",
    "        if signal != 0 and stance != signal:\n",
    "            # signal = 1 (Buy)\n",
    "            # stance = -1, 0\n",
    "            if signal == 1:\n",
    "                if stance == -1:\n",
    "                    close_sell(row.Close)\n",
    "                entry = row.Close\n",
    "                take_profit_price = entry + (take_profit/pip_factor(ticker))\n",
    "                stop_loss_price = entry - (stop_loss/pip_factor(ticker))\n",
    "                stance = 1\n",
    "                #print(f\"Open Buy: entry = {entry}, tp = {take_profit_price}\")\n",
    "\n",
    "            if signal == -1:\n",
    "                if stance == 1:\n",
    "                    close_buy(row.Close)\n",
    "                entry = row.Close\n",
    "                take_profit_price = entry - (take_profit/pip_factor(ticker))\n",
    "                stop_loss_price = entry + (stop_loss/pip_factor(ticker))\n",
    "                stance = -1\n",
    "                #print(f\"Open Sell: entry = {entry}, tp = {take_profit_price}\")\n",
    "                \n",
    "        last_close = row[close_value_col_name]\n",
    "        last_close_stance = row[close_trend_col_name]\n",
    "\n",
    "                    \n",
    "    if verbose:\n",
    "        print(f\"{win + loss} Trades, Win Ratio = {1.*win/(win+loss):.2}\")\n",
    "        plt.hist(profits, bins=20)\n",
    "    return -profit_pips\n",
    "    #return -profit_pips / stop_loss # Minimise stop loss\n",
    "    #return -np.mean(profits)/np.std(profits) # Sharpe Ratio\n",
    "    #return -1.*win/(win+loss)    \n",
    "\n",
    "ticker = \"EURUSD\"\n",
    "print(-supertrend_signals_open_close(ticker, frequency=60, open_multiplier=5, open_period=54, \n",
    "                          close_multiplier=5, close_period=54,\n",
    "                          take_profit=123, stop_loss=75, verbose=True))\n",
    "#Profit (30 mins) 2019\n",
    "#print(-supertrend_signals(ticker, frequency=30, multiplier=8, period=110, take_profit=120, stop_loss=70, verbose=True))\n",
    "\n",
    "# Profit (60 mins) 2081\n",
    "#print(-supertrend_signals(ticker, frequency=60, multiplier=5, period=54, take_profit=123, stop_loss=75, verbose=True))\n",
    "\n",
    "# Sharpe Ratio (0.69) 1416\n",
    "#print(-supertrend_signals(ticker, frequency=60, multiplier=5, period=53, take_profit=47, stop_loss=199, verbose=True))\n",
    "\n",
    "# Stop loss reduced profit 849\n",
    "#print(-supertrend_signals(ticker, frequency=60, multiplier=5, period=54, take_profit=72, stop_loss=28, verbose=True))"
   ]
  },
  {
   "cell_type": "code",
   "execution_count": null,
   "metadata": {},
   "outputs": [],
   "source": [
    "def objective(params):\n",
    "    return supertrend_signals_open_close(**params)\n",
    "\n",
    "space = {'ticker': hp.choice('ticker', [\"EURUSD\"]),\n",
    "         'frequency': hp.choice('frequency', [60*24]),\n",
    "         'open_multiplier': hp.quniform('open_multiplier', 1, 20, 1),\n",
    "         'open_period': hp.quniform('open_period', 10, 200, 10),\n",
    "         'close_multiplier': hp.quniform('close_multiplier', 1, 20, 1),\n",
    "         'close_period': hp.quniform('close_period', 10, 200, 10),\n",
    "         'take_profit': hp.quniform('take_profit', 10, 200, 10),\n",
    "         'stop_loss': hp.quniform('stop_loss', 10, 200, 10),\n",
    "        }\n",
    "\n",
    "for _ in range(1):\n",
    "    print(fmin(objective, space, algo=tpe.suggest, max_evals=1000))\n",
    "\n",
    "    "
   ]
  },
  {
   "cell_type": "markdown",
   "metadata": {},
   "source": [
    "### Supertrend and double moving average crossover"
   ]
  },
  {
   "cell_type": "code",
   "execution_count": null,
   "metadata": {},
   "outputs": [],
   "source": [
    "\n",
    "ticker = \"EURUSD\"\n",
    "\n",
    "def supertrend_sma_signals(ticker, frequency, multiplier, period, sma_period):\n",
    "    fees = 2.5 # pips\n",
    "    period = int(period)\n",
    "    multiplier = int(multiplier)\n",
    "    sma_period = int(sma_period)\n",
    "\n",
    "    \n",
    "\n",
    "    last_val = 0.0\n",
    "    entry = None\n",
    "    profit_pips = 0.0\n",
    "    \n",
    "    df = load_ticker(ticker, frequency)\n",
    "    SuperTrend(df, period, multiplier)\n",
    "    \n",
    "    trend_col_name = 'STX_' + str(period) + '_' + str(multiplier)\n",
    "    sma_name = f\"SMA_{sma_period}\"\n",
    "    df = SMA(df, \"Close\", sma_name, sma_period)\n",
    "\n",
    "\n",
    "    for dt, row in df.iterrows():\n",
    "        stance = 0\n",
    "        if row[trend_col_name] > 0 and row.Close > row[sma_name]:\n",
    "            stance = 1\n",
    "        elif row[trend_col_name] < 0 and row.Close < row[sma_name]:\n",
    "            stance = -1\n",
    "            \n",
    "        if stance != last_val:\n",
    "            # Stance has changed\n",
    "            if stance > last_val:\n",
    "                # Sell to neutral\n",
    "                # Sell to buy\n",
    "                # Neutral to buy\n",
    "                if last_val < 0.0 and entry is not None:\n",
    "                    # Sell to something\n",
    "                    # Exit the sell\n",
    "                    profit_pips += (entry - row.Close) * pip_factor(ticker) - fees\n",
    "                if stance > 0.0:\n",
    "                    # Something to buy\n",
    "                    # Take a long position\n",
    "                    entry = row.Close\n",
    "                \n",
    "            if stance < last_val:\n",
    "                if last_val > 0.0 and entry is not None:\n",
    "                    profit_pips += (row.Close - entry) * pip_factor(ticker) - fees\n",
    "                    \n",
    "                if stance < 0.0:\n",
    "                    entry = row.Close\n",
    "        last_val = stance\n",
    "    return -profit_pips    \n",
    "\n",
    "print(-supertrend_sma_signals(ticker, 60, 50, 5, 100))"
   ]
  },
  {
   "cell_type": "code",
   "execution_count": null,
   "metadata": {},
   "outputs": [],
   "source": [
    "def objective(params):\n",
    "    return supertrend_sma_signals(**params)\n",
    "\n",
    "space = {'ticker': hp.choice('ticker', [\"EURUSD\"]),\n",
    "         'frequency': hp.choice('frequency', [60]),\n",
    "         'multiplier': hp.quniform('multiplier', 1, 20, 1),\n",
    "         'period': hp.quniform('period', 1, 100, 1),\n",
    "         'sma_period': hp.quniform('sma_period', 20, 200, 10),\n",
    "        }\n",
    "\n",
    "for _ in range(1):\n",
    "    print(fmin(objective, space, algo=tpe.suggest, max_evals=100))\n",
    "\n",
    "    "
   ]
  },
  {
   "cell_type": "code",
   "execution_count": null,
   "metadata": {},
   "outputs": [],
   "source": [
    "def meta_super_trend(df, sample_mins, period, multiplier):\n",
    "\n",
    "    ohlc_dict = {'Open':'first', 'High':'max', 'Low':'min', 'Close': 'last'}\n",
    "    base_interval = (df.index[1]-df.index[0]).components.minutes\n",
    "    dfs = []\n",
    "    for base in range(0, sample_mins, base_interval):\n",
    "        tmp = df.resample(f\"{sample_mins}Min\", base=base).apply(ohlc_dict).dropna()\n",
    "        SuperTrend(tmp, period, multiplier, prefix=sample_mins)\n",
    "        dfs.append(tmp)\n",
    "\n",
    "    return pd.concat(dfs).sort_index()"
   ]
  },
  {
   "cell_type": "code",
   "execution_count": null,
   "metadata": {},
   "outputs": [],
   "source": []
  }
 ],
 "metadata": {
  "kernelspec": {
   "display_name": "Python 3",
   "language": "python",
   "name": "python3"
  },
  "language_info": {
   "codemirror_mode": {
    "name": "ipython",
    "version": 3
   },
   "file_extension": ".py",
   "mimetype": "text/x-python",
   "name": "python",
   "nbconvert_exporter": "python",
   "pygments_lexer": "ipython3",
   "version": "3.8.1"
  }
 },
 "nbformat": 4,
 "nbformat_minor": 4
}
